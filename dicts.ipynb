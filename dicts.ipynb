{
 "cells": [
  {
   "cell_type": "code",
   "execution_count": null,
   "id": "initial_id",
   "metadata": {
    "collapsed": true
   },
   "outputs": [],
   "source": [
    "info=['noha', 'iti', 32, 'cairo', 'instructor', 4553.3]\n",
    "\n",
    "# set --> remove duplicates ?? \n"
   ]
  },
  {
   "metadata": {
    "ExecuteTime": {
     "end_time": "2024-09-29T06:58:12.483748Z",
     "start_time": "2024-09-29T06:58:12.476728Z"
    }
   },
   "cell_type": "code",
   "source": [
    "info = {\"name\":\"noha\", \"work\":\"iti\", \"age\":32, \"city\":\"cairo\", \"job\":\"instructor\", \"salary\":4553.3 }\n",
    "print(info)\n"
   ],
   "id": "96c69f9d49f377b3",
   "outputs": [
    {
     "name": "stdout",
     "output_type": "stream",
     "text": [
      "{'name': 'noha', 'work': 'iti', 'age': 32, 'city': 'cairo', 'job': 'instructor', 'salary': 4553.3}\n"
     ]
    }
   ],
   "execution_count": 1
  },
  {
   "metadata": {},
   "cell_type": "markdown",
   "source": "count no of items ",
   "id": "c2738ce0eb75485"
  },
  {
   "metadata": {
    "ExecuteTime": {
     "end_time": "2024-09-29T07:00:29.900687Z",
     "start_time": "2024-09-29T07:00:29.896087Z"
    }
   },
   "cell_type": "code",
   "source": "print(len(info))",
   "id": "a60fe43a914aea7",
   "outputs": [
    {
     "name": "stdout",
     "output_type": "stream",
     "text": [
      "6\n"
     ]
    }
   ],
   "execution_count": 2
  },
  {
   "metadata": {
    "ExecuteTime": {
     "end_time": "2024-09-29T07:00:54.333912Z",
     "start_time": "2024-09-29T07:00:54.320381Z"
    }
   },
   "cell_type": "code",
   "source": [
    "# access items using keys ?\n",
    "print(info['name'])"
   ],
   "id": "b8e372553c4bc023",
   "outputs": [
    {
     "name": "stdout",
     "output_type": "stream",
     "text": [
      "noha\n"
     ]
    }
   ],
   "execution_count": 3
  },
  {
   "metadata": {},
   "cell_type": "markdown",
   "source": "# mutable",
   "id": "d399b2b16e7ed3f4"
  },
  {
   "metadata": {
    "ExecuteTime": {
     "end_time": "2024-09-29T07:01:51.256111Z",
     "start_time": "2024-09-29T07:01:51.242345Z"
    }
   },
   "cell_type": "code",
   "source": [
    "info['name']='Noha Shehab'\n",
    "print(info)"
   ],
   "id": "f3256e514e11f12f",
   "outputs": [
    {
     "name": "stdout",
     "output_type": "stream",
     "text": [
      "{'name': 'Noha Shehab', 'work': 'iti', 'age': 32, 'city': 'cairo', 'job': 'instructor', 'salary': 4553.3}\n"
     ]
    }
   ],
   "execution_count": 4
  },
  {
   "metadata": {
    "ExecuteTime": {
     "end_time": "2024-09-29T07:02:50.822321Z",
     "start_time": "2024-09-29T07:02:50.818732Z"
    }
   },
   "cell_type": "code",
   "source": [
    "info['track']='python'\n",
    "print(info)"
   ],
   "id": "1d63527c1181ad2c",
   "outputs": [
    {
     "name": "stdout",
     "output_type": "stream",
     "text": [
      "{'name': 'Noha Shehab', 'work': 'iti', 'age': 32, 'city': 'cairo', 'job': 'instructor', 'salary': 4553.3, 'track': 'python'}\n"
     ]
    }
   ],
   "execution_count": 5
  },
  {
   "metadata": {
    "ExecuteTime": {
     "end_time": "2024-09-29T07:04:16.944938Z",
     "start_time": "2024-09-29T07:04:16.941928Z"
    }
   },
   "cell_type": "code",
   "source": [
    "# check if item exists in dict \n",
    "# in operator --> check if the given value exists in keys. \n",
    "print(\"iti\" in info)"
   ],
   "id": "bad221e1f0637ce5",
   "outputs": [
    {
     "name": "stdout",
     "output_type": "stream",
     "text": [
      "False\n"
     ]
    }
   ],
   "execution_count": 6
  },
  {
   "metadata": {
    "ExecuteTime": {
     "end_time": "2024-09-29T07:05:26.949289Z",
     "start_time": "2024-09-29T07:05:26.944735Z"
    }
   },
   "cell_type": "code",
   "source": [
    "d_keys = info.keys()\n",
    "print(d_keys)"
   ],
   "id": "d93cdce7c46ba8a5",
   "outputs": [
    {
     "name": "stdout",
     "output_type": "stream",
     "text": [
      "dict_keys(['name', 'work', 'age', 'city', 'job', 'salary', 'track'])\n"
     ]
    }
   ],
   "execution_count": 7
  },
  {
   "metadata": {
    "ExecuteTime": {
     "end_time": "2024-09-29T07:06:55.715616Z",
     "start_time": "2024-09-29T07:06:55.708471Z"
    }
   },
   "cell_type": "code",
   "source": [
    "print(\"iti\" in d_keys)\n",
    "print(list(d_keys))"
   ],
   "id": "c70014714e528637",
   "outputs": [
    {
     "name": "stdout",
     "output_type": "stream",
     "text": [
      "False\n",
      "['name', 'work', 'age', 'city', 'job', 'salary', 'track']\n"
     ]
    }
   ],
   "execution_count": 8
  },
  {
   "metadata": {},
   "cell_type": "markdown",
   "source": "",
   "id": "9720721dc270b52d"
  },
  {
   "metadata": {
    "ExecuteTime": {
     "end_time": "2024-09-29T07:07:48.253875Z",
     "start_time": "2024-09-29T07:07:48.243436Z"
    }
   },
   "cell_type": "code",
   "source": [
    "d_vals = info.values()\n",
    "print(d_vals)"
   ],
   "id": "2bb667db472d263e",
   "outputs": [
    {
     "name": "stdout",
     "output_type": "stream",
     "text": [
      "dict_values(['Noha Shehab', 'iti', 32, 'cairo', 'instructor', 4553.3, 'python'])\n"
     ]
    }
   ],
   "execution_count": 9
  },
  {
   "metadata": {
    "ExecuteTime": {
     "end_time": "2024-09-29T07:09:58.962407Z",
     "start_time": "2024-09-29T07:09:58.957814Z"
    }
   },
   "cell_type": "code",
   "source": [
    "for item in info:\n",
    "    print(item)"
   ],
   "id": "bff10dba430f7e07",
   "outputs": [
    {
     "name": "stdout",
     "output_type": "stream",
     "text": [
      "name\n",
      "work\n",
      "age\n",
      "city\n",
      "job\n",
      "salary\n",
      "track\n"
     ]
    }
   ],
   "execution_count": 10
  },
  {
   "metadata": {
    "ExecuteTime": {
     "end_time": "2024-09-29T07:10:42.012760Z",
     "start_time": "2024-09-29T07:10:41.825588Z"
    }
   },
   "cell_type": "code",
   "source": [
    "for item, v in info:\n",
    "    print(item, v)"
   ],
   "id": "c23517d2032beded",
   "outputs": [
    {
     "ename": "ValueError",
     "evalue": "too many values to unpack (expected 2)",
     "output_type": "error",
     "traceback": [
      "\u001B[0;31m---------------------------------------------------------------------------\u001B[0m",
      "\u001B[0;31mValueError\u001B[0m                                Traceback (most recent call last)",
      "Cell \u001B[0;32mIn[11], line 1\u001B[0m\n\u001B[0;32m----> 1\u001B[0m \u001B[38;5;28;01mfor\u001B[39;00m item, v \u001B[38;5;129;01min\u001B[39;00m info:\n\u001B[1;32m      2\u001B[0m     \u001B[38;5;28mprint\u001B[39m(item, v)\n",
      "\u001B[0;31mValueError\u001B[0m: too many values to unpack (expected 2)"
     ]
    }
   ],
   "execution_count": 11
  },
  {
   "metadata": {
    "ExecuteTime": {
     "end_time": "2024-09-29T07:11:17.649821Z",
     "start_time": "2024-09-29T07:11:17.641125Z"
    }
   },
   "cell_type": "code",
   "source": [
    "for item in info:\n",
    "    print(item, info[item])"
   ],
   "id": "e1a0e8954a925dd9",
   "outputs": [
    {
     "name": "stdout",
     "output_type": "stream",
     "text": [
      "name Noha Shehab\n",
      "work iti\n",
      "age 32\n",
      "city cairo\n",
      "job instructor\n",
      "salary 4553.3\n",
      "track python\n"
     ]
    }
   ],
   "execution_count": 12
  },
  {
   "metadata": {
    "ExecuteTime": {
     "end_time": "2024-09-29T07:11:51.874469Z",
     "start_time": "2024-09-29T07:11:51.868560Z"
    }
   },
   "cell_type": "code",
   "source": [
    "d_items = info.items()\n",
    "print(d_items)"
   ],
   "id": "e784655a4a38bbf0",
   "outputs": [
    {
     "name": "stdout",
     "output_type": "stream",
     "text": [
      "dict_items([('name', 'Noha Shehab'), ('work', 'iti'), ('age', 32), ('city', 'cairo'), ('job', 'instructor'), ('salary', 4553.3), ('track', 'python')])\n"
     ]
    }
   ],
   "execution_count": 13
  },
  {
   "metadata": {
    "ExecuteTime": {
     "end_time": "2024-09-29T07:12:22.527592Z",
     "start_time": "2024-09-29T07:12:22.511776Z"
    }
   },
   "cell_type": "code",
   "source": [
    "for item , v in info.items():\n",
    "    print(f\"{item}: {v}\")"
   ],
   "id": "3aad300eac4715cf",
   "outputs": [
    {
     "name": "stdout",
     "output_type": "stream",
     "text": [
      "name: Noha Shehab\n",
      "work: iti\n",
      "age: 32\n",
      "city: cairo\n",
      "job: instructor\n",
      "salary: 4553.3\n",
      "track: python\n"
     ]
    }
   ],
   "execution_count": 14
  },
  {
   "metadata": {
    "ExecuteTime": {
     "end_time": "2024-09-29T07:14:58.073204Z",
     "start_time": "2024-09-29T07:14:58.060095Z"
    }
   },
   "cell_type": "code",
   "source": [
    "# dict ---> \n",
    "extr_info={\"car\":\"kia\", \"model\":2020}\n",
    "\n",
    "info.update(extr_info)\n",
    "print(info)\n"
   ],
   "id": "cb35243371c9fb5a",
   "outputs": [
    {
     "name": "stdout",
     "output_type": "stream",
     "text": [
      "{'name': 'Noha Shehab', 'work': 'iti', 'age': 32, 'city': 'cairo', 'job': 'instructor', 'salary': 4553.3, 'track': 'python', 'car': 'kia', 'model': 2020}\n"
     ]
    }
   ],
   "execution_count": 16
  },
  {
   "metadata": {
    "ExecuteTime": {
     "end_time": "2024-09-29T07:15:50.600776Z",
     "start_time": "2024-09-29T07:15:50.596538Z"
    }
   },
   "cell_type": "code",
   "source": [
    "info.clear()\n",
    "print(info)\n"
   ],
   "id": "8dc97d4bfaab6af7",
   "outputs": [
    {
     "name": "stdout",
     "output_type": "stream",
     "text": [
      "{}\n"
     ]
    }
   ],
   "execution_count": 17
  },
  {
   "metadata": {
    "ExecuteTime": {
     "end_time": "2024-09-29T07:16:12.398044Z",
     "start_time": "2024-09-29T07:16:12.393605Z"
    }
   },
   "cell_type": "code",
   "source": [
    "info = {'name': 'Noha Shehab', 'work': 'iti', 'age': 32, 'city': 'cairo', 'job': 'instructor', 'salary': 4553.3, \n",
    "        'track': 'python', 'car': 'kia', 'model': 2020}"
   ],
   "id": "2d9aaee26ffb3785",
   "outputs": [],
   "execution_count": 18
  },
  {
   "metadata": {
    "ExecuteTime": {
     "end_time": "2024-09-29T07:16:15.644973Z",
     "start_time": "2024-09-29T07:16:15.640852Z"
    }
   },
   "cell_type": "code",
   "source": "print(info)",
   "id": "9eb09319ddcc5a27",
   "outputs": [
    {
     "name": "stdout",
     "output_type": "stream",
     "text": [
      "{'name': 'Noha Shehab', 'work': 'iti', 'age': 32, 'city': 'cairo', 'job': 'instructor', 'salary': 4553.3, 'track': 'python', 'car': 'kia', 'model': 2020}\n"
     ]
    }
   ],
   "execution_count": 19
  },
  {
   "metadata": {
    "ExecuteTime": {
     "end_time": "2024-09-29T07:16:50.330301Z",
     "start_time": "2024-09-29T07:16:50.325443Z"
    }
   },
   "cell_type": "code",
   "source": "del info['name']",
   "id": "2b44e1263b287679",
   "outputs": [],
   "execution_count": 20
  },
  {
   "metadata": {
    "ExecuteTime": {
     "end_time": "2024-09-29T07:16:54.102657Z",
     "start_time": "2024-09-29T07:16:54.094700Z"
    }
   },
   "cell_type": "code",
   "source": "info",
   "id": "d75d26f4f9c08ca3",
   "outputs": [
    {
     "data": {
      "text/plain": [
       "{'work': 'iti',\n",
       " 'age': 32,\n",
       " 'city': 'cairo',\n",
       " 'job': 'instructor',\n",
       " 'salary': 4553.3,\n",
       " 'track': 'python',\n",
       " 'car': 'kia',\n",
       " 'model': 2020}"
      ]
     },
     "execution_count": 21,
     "metadata": {},
     "output_type": "execute_result"
    }
   ],
   "execution_count": 21
  },
  {
   "metadata": {
    "ExecuteTime": {
     "end_time": "2024-09-29T07:18:48.897976Z",
     "start_time": "2024-09-29T07:18:48.886360Z"
    }
   },
   "cell_type": "code",
   "source": [
    "popped=info.pop(\"age\")\n",
    "print(popped)\n",
    "print(info)"
   ],
   "id": "bc1bdb3816ccc5da",
   "outputs": [
    {
     "name": "stdout",
     "output_type": "stream",
     "text": [
      "32\n",
      "{'work': 'iti', 'city': 'cairo', 'job': 'instructor', 'salary': 4553.3, 'track': 'python', 'car': 'kia', 'model': 2020}\n"
     ]
    }
   ],
   "execution_count": 23
  },
  {
   "metadata": {},
   "cell_type": "code",
   "outputs": [],
   "execution_count": null,
   "source": "",
   "id": "bd42a7507a679674"
  }
 ],
 "metadata": {
  "kernelspec": {
   "display_name": "Python 3",
   "language": "python",
   "name": "python3"
  },
  "language_info": {
   "codemirror_mode": {
    "name": "ipython",
    "version": 2
   },
   "file_extension": ".py",
   "mimetype": "text/x-python",
   "name": "python",
   "nbconvert_exporter": "python",
   "pygments_lexer": "ipython2",
   "version": "2.7.6"
  }
 },
 "nbformat": 4,
 "nbformat_minor": 5
}
