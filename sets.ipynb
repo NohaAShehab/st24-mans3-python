{
 "cells": [
  {
   "metadata": {},
   "cell_type": "markdown",
   "source": [
    "define set\n",
    "\n",
    "unordered datatype \n",
    "\n",
    "remove duplicates "
   ],
   "id": "f7bf8772765b75b3"
  },
  {
   "cell_type": "code",
   "id": "initial_id",
   "metadata": {
    "collapsed": true,
    "ExecuteTime": {
     "end_time": "2024-09-29T06:46:04.549580Z",
     "start_time": "2024-09-29T06:46:04.540370Z"
    }
   },
   "source": "mys = {3,5,6, \"iti\", \"iti\", True, None, 33.44, 'iti'}",
   "outputs": [],
   "execution_count": 1
  },
  {
   "metadata": {
    "ExecuteTime": {
     "end_time": "2024-09-29T06:46:10.482909Z",
     "start_time": "2024-09-29T06:46:10.477423Z"
    }
   },
   "cell_type": "code",
   "source": "print(mys)",
   "id": "1d486e001d729975",
   "outputs": [
    {
     "name": "stdout",
     "output_type": "stream",
     "text": [
      "{True, 33.44, 3, 5, 6, 'iti', None}\n"
     ]
    }
   ],
   "execution_count": 2
  },
  {
   "metadata": {
    "ExecuteTime": {
     "end_time": "2024-09-29T06:48:14.454101Z",
     "start_time": "2024-09-29T06:48:14.449237Z"
    }
   },
   "cell_type": "code",
   "source": [
    "s3= {3,5,6, \"iti\", \"iti\", True, None, 33.44, 'iti', ('iti', 'abc', 10)}\n",
    "print(s3)\n"
   ],
   "id": "19f3bb2cea15b521",
   "outputs": [
    {
     "name": "stdout",
     "output_type": "stream",
     "text": [
      "{True, 33.44, 3, 5, 6, 'iti', None, ('iti', 'abc', 10)}\n"
     ]
    }
   ],
   "execution_count": 3
  },
  {
   "metadata": {
    "ExecuteTime": {
     "end_time": "2024-09-29T06:48:39.539163Z",
     "start_time": "2024-09-29T06:48:39.355105Z"
    }
   },
   "cell_type": "code",
   "source": [
    "s3= {3,5,6, \"iti\", \"iti\", True, None, 33.44, 'iti', ('iti', 'abc', 10), ['iti', 3,43,333.3]}\n",
    "print(s3)\n"
   ],
   "id": "64659a2eaa4d0a0f",
   "outputs": [
    {
     "ename": "TypeError",
     "evalue": "unhashable type: 'list'",
     "output_type": "error",
     "traceback": [
      "\u001B[0;31m---------------------------------------------------------------------------\u001B[0m",
      "\u001B[0;31mTypeError\u001B[0m                                 Traceback (most recent call last)",
      "Cell \u001B[0;32mIn[4], line 1\u001B[0m\n\u001B[0;32m----> 1\u001B[0m s3\u001B[38;5;241m=\u001B[39m {\u001B[38;5;241m3\u001B[39m,\u001B[38;5;241m5\u001B[39m,\u001B[38;5;241m6\u001B[39m, \u001B[38;5;124m\"\u001B[39m\u001B[38;5;124miti\u001B[39m\u001B[38;5;124m\"\u001B[39m, \u001B[38;5;124m\"\u001B[39m\u001B[38;5;124miti\u001B[39m\u001B[38;5;124m\"\u001B[39m, \u001B[38;5;28;01mTrue\u001B[39;00m, \u001B[38;5;28;01mNone\u001B[39;00m, \u001B[38;5;241m33.44\u001B[39m, \u001B[38;5;124m'\u001B[39m\u001B[38;5;124miti\u001B[39m\u001B[38;5;124m'\u001B[39m, (\u001B[38;5;124m'\u001B[39m\u001B[38;5;124miti\u001B[39m\u001B[38;5;124m'\u001B[39m, \u001B[38;5;124m'\u001B[39m\u001B[38;5;124mabc\u001B[39m\u001B[38;5;124m'\u001B[39m, \u001B[38;5;241m10\u001B[39m), [\u001B[38;5;124m'\u001B[39m\u001B[38;5;124miti\u001B[39m\u001B[38;5;124m'\u001B[39m, \u001B[38;5;241m3\u001B[39m,\u001B[38;5;241m43\u001B[39m,\u001B[38;5;241m333.3\u001B[39m]}\n\u001B[1;32m      2\u001B[0m \u001B[38;5;28mprint\u001B[39m(s3)\n",
      "\u001B[0;31mTypeError\u001B[0m: unhashable type: 'list'"
     ]
    }
   ],
   "execution_count": 4
  },
  {
   "metadata": {},
   "cell_type": "code",
   "outputs": [],
   "execution_count": null,
   "source": "# hashing --> is done for the immutable datatype ",
   "id": "21ff3f88c9a92b8a"
  },
  {
   "metadata": {},
   "cell_type": "markdown",
   "source": "# count elements in set ",
   "id": "a72139cacb084c16"
  },
  {
   "metadata": {
    "ExecuteTime": {
     "end_time": "2024-09-29T06:53:03.887309Z",
     "start_time": "2024-09-29T06:53:03.883086Z"
    }
   },
   "cell_type": "code",
   "source": "print(len(mys))",
   "id": "150bbab3786b8ec4",
   "outputs": [
    {
     "name": "stdout",
     "output_type": "stream",
     "text": [
      "7\n"
     ]
    }
   ],
   "execution_count": 5
  },
  {
   "metadata": {
    "ExecuteTime": {
     "end_time": "2024-09-29T06:53:33.651169Z",
     "start_time": "2024-09-29T06:53:33.638996Z"
    }
   },
   "cell_type": "code",
   "source": [
    "# set is mutable \n",
    "mys.add(\"new item\")\n",
    "print(mys)"
   ],
   "id": "6aca485614892a28",
   "outputs": [
    {
     "name": "stdout",
     "output_type": "stream",
     "text": [
      "{True, 33.44, 3, 5, 6, 'new item', 'iti', None}\n"
     ]
    }
   ],
   "execution_count": 6
  },
  {
   "metadata": {
    "ExecuteTime": {
     "end_time": "2024-09-29T06:53:58.604861Z",
     "start_time": "2024-09-29T06:53:58.591473Z"
    }
   },
   "cell_type": "code",
   "source": [
    "popped_item=mys.pop()\n",
    "print(popped_item)"
   ],
   "id": "760ae392e0315b5c",
   "outputs": [
    {
     "name": "stdout",
     "output_type": "stream",
     "text": [
      "True\n"
     ]
    }
   ],
   "execution_count": 7
  },
  {
   "metadata": {
    "ExecuteTime": {
     "end_time": "2024-09-29T06:54:09.742955Z",
     "start_time": "2024-09-29T06:54:09.736425Z"
    }
   },
   "cell_type": "code",
   "source": [
    "mys.remove(\"iti\")\n",
    "print(mys)"
   ],
   "id": "a978494a0c03f59d",
   "outputs": [
    {
     "name": "stdout",
     "output_type": "stream",
     "text": [
      "{33.44, 3, 5, 6, 'new item', None}\n"
     ]
    }
   ],
   "execution_count": 8
  },
  {
   "metadata": {},
   "cell_type": "code",
   "outputs": [],
   "execution_count": null,
   "source": "",
   "id": "706d00d038d84974"
  }
 ],
 "metadata": {
  "kernelspec": {
   "display_name": "Python 3",
   "language": "python",
   "name": "python3"
  },
  "language_info": {
   "codemirror_mode": {
    "name": "ipython",
    "version": 2
   },
   "file_extension": ".py",
   "mimetype": "text/x-python",
   "name": "python",
   "nbconvert_exporter": "python",
   "pygments_lexer": "ipython2",
   "version": "2.7.6"
  }
 },
 "nbformat": 4,
 "nbformat_minor": 5
}
