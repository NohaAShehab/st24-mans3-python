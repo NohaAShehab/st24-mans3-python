{
 "cells": [
  {
   "cell_type": "code",
   "id": "initial_id",
   "metadata": {
    "collapsed": true,
    "ExecuteTime": {
     "end_time": "2024-10-02T06:33:28.620055Z",
     "start_time": "2024-10-02T06:33:28.615478Z"
    }
   },
   "source": [
    "class Queue:\n",
    "    def __init__(self):\n",
    "        self.items = []\n",
    "        \n",
    "    def insert(self, item):\n",
    "        self.items.insert(0, item)\n",
    "        \n",
    "    \n",
    "    def pop(self):\n",
    "        return self.items.pop()\n",
    "    \n",
    "    \n",
    "    def isempty(self):\n",
    "        return len(self.items) == 0\n",
    "        \n",
    "        "
   ],
   "outputs": [],
   "execution_count": 2
  },
  {
   "metadata": {
    "ExecuteTime": {
     "end_time": "2024-10-02T06:34:00.839253Z",
     "start_time": "2024-10-02T06:34:00.822808Z"
    }
   },
   "cell_type": "code",
   "source": [
    "myq = Queue()\n",
    "print(myq.isempty())\n",
    "myq.insert(1)\n",
    "print(myq.isempty())\n",
    "myq.insert(2)\n",
    "myq.insert(3)\n",
    "print(myq.items)"
   ],
   "id": "773dd16ca3eb85bb",
   "outputs": [
    {
     "name": "stdout",
     "output_type": "stream",
     "text": [
      "True\n",
      "False\n",
      "[3, 2, 1]\n"
     ]
    }
   ],
   "execution_count": 3
  },
  {
   "metadata": {
    "ExecuteTime": {
     "end_time": "2024-10-02T06:34:30.964746Z",
     "start_time": "2024-10-02T06:34:30.956938Z"
    }
   },
   "cell_type": "code",
   "source": [
    "print(myq.pop())\n",
    "print(myq.items)"
   ],
   "id": "5866d2a5e323c81d",
   "outputs": [
    {
     "name": "stdout",
     "output_type": "stream",
     "text": [
      "1\n",
      "[3, 2]\n"
     ]
    }
   ],
   "execution_count": 4
  },
  {
   "metadata": {
    "ExecuteTime": {
     "end_time": "2024-10-02T06:39:10.844725Z",
     "start_time": "2024-10-02T06:39:10.841595Z"
    }
   },
   "cell_type": "code",
   "source": [
    "class QueueOutOfRangeException(Exception):\n",
    "    pass "
   ],
   "id": "cc2b3090b37c7e47",
   "outputs": [],
   "execution_count": 8
  },
  {
   "metadata": {
    "ExecuteTime": {
     "end_time": "2024-10-02T06:39:12.110521Z",
     "start_time": "2024-10-02T06:39:12.104546Z"
    }
   },
   "cell_type": "code",
   "source": [
    "\n",
    "\n",
    "\n",
    "class EnhancedQueue(Queue):\n",
    "    def __init__(self, name, size):\n",
    "        super().__init__()\n",
    "        self.name = name\n",
    "        self.size = size\n",
    "        \n",
    "        \n",
    "    def insert(self, item):\n",
    "        if len(self.items) < self.size: \n",
    "            super().insert(item)\n",
    "        else:\n",
    "            raise QueueOutOfRangeException(\"You exceeded the queue size\")\n",
    "        "
   ],
   "id": "37e1e87e6b575531",
   "outputs": [],
   "execution_count": 9
  },
  {
   "metadata": {
    "ExecuteTime": {
     "end_time": "2024-10-02T06:39:13.572444Z",
     "start_time": "2024-10-02T06:39:13.567662Z"
    }
   },
   "cell_type": "code",
   "source": [
    "q3 = EnhancedQueue(\"test\", 3)\n",
    "q3.insert(1)\n",
    "q3.insert(2)\n",
    "q3.insert(3)\n",
    "print(q3.items)"
   ],
   "id": "e7aad075dc95fb",
   "outputs": [
    {
     "name": "stdout",
     "output_type": "stream",
     "text": [
      "[3, 2, 1]\n"
     ]
    }
   ],
   "execution_count": 10
  },
  {
   "metadata": {
    "ExecuteTime": {
     "end_time": "2024-10-02T06:39:15.214431Z",
     "start_time": "2024-10-02T06:39:15.181844Z"
    }
   },
   "cell_type": "code",
   "source": [
    "q3.insert(4)\n",
    "print(q3.items)"
   ],
   "id": "5f9855900bedadb4",
   "outputs": [
    {
     "ename": "QueueOutOfRangeException",
     "evalue": "You exceeded the queue size",
     "output_type": "error",
     "traceback": [
      "\u001B[0;31m---------------------------------------------------------------------------\u001B[0m",
      "\u001B[0;31mQueueOutOfRangeException\u001B[0m                  Traceback (most recent call last)",
      "Cell \u001B[0;32mIn[11], line 1\u001B[0m\n\u001B[0;32m----> 1\u001B[0m \u001B[43mq3\u001B[49m\u001B[38;5;241;43m.\u001B[39;49m\u001B[43minsert\u001B[49m\u001B[43m(\u001B[49m\u001B[38;5;241;43m4\u001B[39;49m\u001B[43m)\u001B[49m\n\u001B[1;32m      2\u001B[0m \u001B[38;5;28mprint\u001B[39m(q3\u001B[38;5;241m.\u001B[39mitems)\n",
      "Cell \u001B[0;32mIn[9], line 12\u001B[0m, in \u001B[0;36mEnhancedQueue.insert\u001B[0;34m(self, item)\u001B[0m\n\u001B[1;32m     10\u001B[0m     \u001B[38;5;28msuper\u001B[39m()\u001B[38;5;241m.\u001B[39minsert(item)\n\u001B[1;32m     11\u001B[0m \u001B[38;5;28;01melse\u001B[39;00m:\n\u001B[0;32m---> 12\u001B[0m     \u001B[38;5;28;01mraise\u001B[39;00m QueueOutOfRangeException(\u001B[38;5;124m\"\u001B[39m\u001B[38;5;124mYou exceeded the queue size\u001B[39m\u001B[38;5;124m\"\u001B[39m)\n",
      "\u001B[0;31mQueueOutOfRangeException\u001B[0m: You exceeded the queue size"
     ]
    }
   ],
   "execution_count": 11
  },
  {
   "metadata": {
    "ExecuteTime": {
     "end_time": "2024-10-02T06:41:26.789263Z",
     "start_time": "2024-10-02T06:41:26.782973Z"
    }
   },
   "cell_type": "code",
   "source": [
    "class EnhancedQueue(Queue):\n",
    "    instances = {}\n",
    "    def __init__(self, name, size):\n",
    "        super().__init__()\n",
    "        self.name = name\n",
    "        self.size = size\n",
    "        EnhancedQueue.instances[name] = self.items\n",
    "        \n",
    "        \n",
    "    def insert(self, item):\n",
    "        if len(self.items) < self.size: \n",
    "            super().insert(item)\n",
    "        else:\n",
    "            raise QueueOutOfRangeException(\"You exceeded the queue size\")"
   ],
   "id": "4693f16a3bb65ab",
   "outputs": [],
   "execution_count": 15
  },
  {
   "metadata": {
    "ExecuteTime": {
     "end_time": "2024-10-02T06:41:28.470792Z",
     "start_time": "2024-10-02T06:41:28.466378Z"
    }
   },
   "cell_type": "code",
   "source": [
    "q4= EnhancedQueue(\"test\", 3)\n",
    "q4.insert(1)\n",
    "q4.insert(2)\n",
    "q4.insert(3)\n",
    "print(q4.items)\n"
   ],
   "id": "f0c429cde49aa16c",
   "outputs": [
    {
     "name": "stdout",
     "output_type": "stream",
     "text": [
      "[3, 2, 1]\n"
     ]
    }
   ],
   "execution_count": 16
  },
  {
   "metadata": {
    "ExecuteTime": {
     "end_time": "2024-10-02T06:41:31.023716Z",
     "start_time": "2024-10-02T06:41:31.018808Z"
    }
   },
   "cell_type": "code",
   "source": "print(EnhancedQueue.instances)",
   "id": "8194b341a90e4e50",
   "outputs": [
    {
     "name": "stdout",
     "output_type": "stream",
     "text": [
      "{'test': [3, 2, 1]}\n"
     ]
    }
   ],
   "execution_count": 17
  },
  {
   "metadata": {
    "ExecuteTime": {
     "end_time": "2024-10-02T06:42:08.023018Z",
     "start_time": "2024-10-02T06:42:08.017857Z"
    }
   },
   "cell_type": "code",
   "source": [
    "qq = EnhancedQueue(\"a\", 2)\n",
    "qq.insert(1)\n",
    "qq.insert(2)\n"
   ],
   "id": "c813a923367266c7",
   "outputs": [],
   "execution_count": 18
  },
  {
   "metadata": {
    "ExecuteTime": {
     "end_time": "2024-10-02T06:42:15.980242Z",
     "start_time": "2024-10-02T06:42:15.976759Z"
    }
   },
   "cell_type": "code",
   "source": "print(EnhancedQueue.instances)",
   "id": "b1fd284854fb9c53",
   "outputs": [
    {
     "name": "stdout",
     "output_type": "stream",
     "text": [
      "{'test': [3, 2, 1], 'a': [2, 1]}\n"
     ]
    }
   ],
   "execution_count": 19
  },
  {
   "metadata": {},
   "cell_type": "code",
   "outputs": [],
   "execution_count": null,
   "source": "",
   "id": "a364ee8b5c0489cd"
  }
 ],
 "metadata": {
  "kernelspec": {
   "display_name": "Python 3",
   "language": "python",
   "name": "python3"
  },
  "language_info": {
   "codemirror_mode": {
    "name": "ipython",
    "version": 2
   },
   "file_extension": ".py",
   "mimetype": "text/x-python",
   "name": "python",
   "nbconvert_exporter": "python",
   "pygments_lexer": "ipython2",
   "version": "2.7.6"
  }
 },
 "nbformat": 4,
 "nbformat_minor": 5
}
