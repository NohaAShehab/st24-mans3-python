{
 "cells": [
  {
   "cell_type": "code",
   "id": "initial_id",
   "metadata": {
    "collapsed": true,
    "ExecuteTime": {
     "end_time": "2024-09-30T12:31:21.144829Z",
     "start_time": "2024-09-30T12:31:21.138732Z"
    }
   },
   "source": [
    "import os \n",
    "print(os.getcwd())"
   ],
   "outputs": [
    {
     "name": "stdout",
     "output_type": "stream",
     "text": [
      "/home/noha/PycharmProjects/st/mans3/day03\n"
     ]
    }
   ],
   "execution_count": 1
  },
  {
   "metadata": {
    "ExecuteTime": {
     "end_time": "2024-09-30T12:31:56.495614Z",
     "start_time": "2024-09-30T12:31:56.302695Z"
    }
   },
   "cell_type": "code",
   "source": "os.mkdir(\"d3\")",
   "id": "29a877307dfb83ff",
   "outputs": [
    {
     "ename": "FileExistsError",
     "evalue": "[Errno 17] File exists: 'd3'",
     "output_type": "error",
     "traceback": [
      "\u001B[0;31m---------------------------------------------------------------------------\u001B[0m",
      "\u001B[0;31mFileExistsError\u001B[0m                           Traceback (most recent call last)",
      "Cell \u001B[0;32mIn[3], line 1\u001B[0m\n\u001B[0;32m----> 1\u001B[0m \u001B[43mos\u001B[49m\u001B[38;5;241;43m.\u001B[39;49m\u001B[43mmkdir\u001B[49m\u001B[43m(\u001B[49m\u001B[38;5;124;43m\"\u001B[39;49m\u001B[38;5;124;43md3\u001B[39;49m\u001B[38;5;124;43m\"\u001B[39;49m\u001B[43m)\u001B[49m\n",
      "\u001B[0;31mFileExistsError\u001B[0m: [Errno 17] File exists: 'd3'"
     ]
    }
   ],
   "execution_count": 3
  },
  {
   "metadata": {
    "ExecuteTime": {
     "end_time": "2024-09-30T12:32:16.027564Z",
     "start_time": "2024-09-30T12:32:16.023245Z"
    }
   },
   "cell_type": "code",
   "source": "os.rmdir(\"d3\")",
   "id": "f571142ff6914920",
   "outputs": [],
   "execution_count": 4
  },
  {
   "metadata": {
    "ExecuteTime": {
     "end_time": "2024-09-30T12:32:40.353001Z",
     "start_time": "2024-09-30T12:32:40.321087Z"
    }
   },
   "cell_type": "code",
   "source": "os.getlogin()",
   "id": "b58f6fe17ddd74f5",
   "outputs": [
    {
     "data": {
      "text/plain": [
       "'noha'"
      ]
     },
     "execution_count": 5,
     "metadata": {},
     "output_type": "execute_result"
    }
   ],
   "execution_count": 5
  },
  {
   "metadata": {},
   "cell_type": "markdown",
   "source": "# Math",
   "id": "e3a646bdc4db6a84"
  },
  {
   "metadata": {
    "ExecuteTime": {
     "end_time": "2024-09-30T12:33:02.660984Z",
     "start_time": "2024-09-30T12:33:02.648414Z"
    }
   },
   "cell_type": "code",
   "source": [
    "import math\n",
    "print(math.pi)"
   ],
   "id": "320b8e72845b253a",
   "outputs": [
    {
     "name": "stdout",
     "output_type": "stream",
     "text": [
      "3.141592653589793\n"
     ]
    }
   ],
   "execution_count": 6
  },
  {
   "metadata": {
    "ExecuteTime": {
     "end_time": "2024-09-30T12:33:20.215155Z",
     "start_time": "2024-09-30T12:33:20.211392Z"
    }
   },
   "cell_type": "code",
   "source": "print(math.ceil(222.3333))",
   "id": "935740b773d07490",
   "outputs": [
    {
     "name": "stdout",
     "output_type": "stream",
     "text": [
      "223\n"
     ]
    }
   ],
   "execution_count": 7
  },
  {
   "metadata": {},
   "cell_type": "markdown",
   "source": "# Validate Email",
   "id": "cf9d07fcd4a46744"
  },
  {
   "metadata": {
    "ExecuteTime": {
     "end_time": "2024-09-30T12:38:22.413786Z",
     "start_time": "2024-09-30T12:38:11.893962Z"
    }
   },
   "cell_type": "code",
   "source": [
    "import  re \n",
    "regex = r'\\b[A-Za-z0-9._%+-]+@[A-Za-z0-9.-]+\\.[A-Z|a-z]{2,7}\\b'\n",
    "email = input('Enter your email: ')\n",
    "# true or f ??\n",
    "# return with match object if first part of the string --> match  the pattern \n",
    "res = re.match(regex, email) # --> return match object--> email is valid\n",
    "if res :\n",
    "    print(email, res)\n",
    "else:\n",
    "    print(f\"--- {res}, Not correct\")\n"
   ],
   "id": "332ed09dd51a2564",
   "outputs": [
    {
     "name": "stdout",
     "output_type": "stream",
     "text": [
      "noha@gmai.com@iti.com <re.Match object; span=(0, 13), match='noha@gmai.com'>\n"
     ]
    }
   ],
   "execution_count": 10
  },
  {
   "metadata": {
    "ExecuteTime": {
     "end_time": "2024-09-30T12:40:05.309517Z",
     "start_time": "2024-09-30T12:39:55.440224Z"
    }
   },
   "cell_type": "code",
   "source": [
    "import  re \n",
    "regex = r'\\b[A-Za-z0-9._%+-]+@[A-Za-z0-9.-]+\\.[A-Z|a-z]{2,7}\\b'\n",
    "email = input('Enter your email: ')\n",
    "# true or f ??\n",
    "# return with match object if first part of the string --> match  the pattern \n",
    "res = re.fullmatch(regex, email) # --> return match object--> email is valid\n",
    "if res :\n",
    "    print(email, res)\n",
    "else:\n",
    "    print(f\"--- {res}, Not correct\")"
   ],
   "id": "f510ba951385a50a",
   "outputs": [
    {
     "name": "stdout",
     "output_type": "stream",
     "text": [
      "--- None, Not correct\n"
     ]
    }
   ],
   "execution_count": 13
  },
  {
   "metadata": {
    "ExecuteTime": {
     "end_time": "2024-09-30T12:42:52.011020Z",
     "start_time": "2024-09-30T12:42:52.002592Z"
    }
   },
   "cell_type": "code",
   "source": [
    "l = [1,13,3,7]\n",
    "a,b,c,d = l\n",
    "print(a,b,c,d)"
   ],
   "id": "a6cd3678189b1268",
   "outputs": [
    {
     "name": "stdout",
     "output_type": "stream",
     "text": [
      "1 13 3 7\n"
     ]
    }
   ],
   "execution_count": 14
  },
  {
   "metadata": {
    "ExecuteTime": {
     "end_time": "2024-09-30T12:43:35.732831Z",
     "start_time": "2024-09-30T12:43:35.729734Z"
    }
   },
   "cell_type": "code",
   "source": [
    "a,*b,c = l\n",
    "print(a, b, c)"
   ],
   "id": "1e0e9be3307bd656",
   "outputs": [
    {
     "name": "stdout",
     "output_type": "stream",
     "text": [
      "1 [13, 3] 7\n"
     ]
    }
   ],
   "execution_count": 15
  },
  {
   "metadata": {
    "ExecuteTime": {
     "end_time": "2024-09-30T12:45:35.389083Z",
     "start_time": "2024-09-30T12:45:35.383620Z"
    }
   },
   "cell_type": "code",
   "source": [
    "with open(\"mycv.txt\" ,'r') as fp:\n",
    "    print(fp.read())\n",
    "    "
   ],
   "id": "4a63f0ad4d399f3d",
   "outputs": [
    {
     "name": "stdout",
     "output_type": "stream",
     "text": [
      "new text\n",
      "new test\n"
     ]
    }
   ],
   "execution_count": 16
  },
  {
   "metadata": {
    "ExecuteTime": {
     "end_time": "2024-09-30T12:46:16.534388Z",
     "start_time": "2024-09-30T12:46:16.527718Z"
    }
   },
   "cell_type": "code",
   "source": [
    "nums = []\n",
    "\n",
    "for i in range(10):\n",
    "    nums.append(i)\n",
    "print(nums)"
   ],
   "id": "bd6aeb0b53a263a8",
   "outputs": [
    {
     "name": "stdout",
     "output_type": "stream",
     "text": [
      "[0, 1, 2, 3, 4, 5, 6, 7, 8, 9]\n"
     ]
    }
   ],
   "execution_count": 17
  },
  {
   "metadata": {
    "ExecuteTime": {
     "end_time": "2024-09-30T12:46:31.668296Z",
     "start_time": "2024-09-30T12:46:31.663714Z"
    }
   },
   "cell_type": "code",
   "source": [
    "nums = [num for num in range(10)]\n",
    "print(nums)"
   ],
   "id": "16d1362198d55e1a",
   "outputs": [
    {
     "name": "stdout",
     "output_type": "stream",
     "text": [
      "[0, 1, 2, 3, 4, 5, 6, 7, 8, 9]\n"
     ]
    }
   ],
   "execution_count": 18
  },
  {
   "metadata": {
    "ExecuteTime": {
     "end_time": "2024-09-30T12:46:51.055234Z",
     "start_time": "2024-09-30T12:46:51.051327Z"
    }
   },
   "cell_type": "code",
   "source": [
    "nums = [num*2 for num in range(10)]\n",
    "print(nums)"
   ],
   "id": "70cede2cc442dbbc",
   "outputs": [
    {
     "name": "stdout",
     "output_type": "stream",
     "text": [
      "[0, 2, 4, 6, 8, 10, 12, 14, 16, 18]\n"
     ]
    }
   ],
   "execution_count": 20
  },
  {
   "metadata": {
    "ExecuteTime": {
     "end_time": "2024-09-30T12:47:27.665601Z",
     "start_time": "2024-09-30T12:47:27.662215Z"
    }
   },
   "cell_type": "code",
   "source": [
    "nums = [num*2 for num in range(10) if num%2==0]\n",
    "print(nums)"
   ],
   "id": "c7cd16c71bf38fd5",
   "outputs": [
    {
     "name": "stdout",
     "output_type": "stream",
     "text": [
      "[0, 4, 8, 12, 16]\n"
     ]
    }
   ],
   "execution_count": 21
  },
  {
   "metadata": {},
   "cell_type": "code",
   "outputs": [],
   "execution_count": null,
   "source": "",
   "id": "c67eb6e730c6f75f"
  }
 ],
 "metadata": {
  "kernelspec": {
   "display_name": "Python 3",
   "language": "python",
   "name": "python3"
  },
  "language_info": {
   "codemirror_mode": {
    "name": "ipython",
    "version": 2
   },
   "file_extension": ".py",
   "mimetype": "text/x-python",
   "name": "python",
   "nbconvert_exporter": "python",
   "pygments_lexer": "ipython2",
   "version": "2.7.6"
  }
 },
 "nbformat": 4,
 "nbformat_minor": 5
}
