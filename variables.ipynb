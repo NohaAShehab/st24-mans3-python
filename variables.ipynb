{
 "cells": [
  {
   "metadata": {},
   "cell_type": "markdown",
   "source": "define variable",
   "id": "2b93059485ae69cc"
  },
  {
   "cell_type": "code",
   "id": "initial_id",
   "metadata": {
    "collapsed": true,
    "ExecuteTime": {
     "end_time": "2024-09-26T08:10:15.448017Z",
     "start_time": "2024-09-26T08:10:15.428935Z"
    }
   },
   "source": [
    "name='Ahmed'\n",
    "print(name)"
   ],
   "outputs": [
    {
     "name": "stdout",
     "output_type": "stream",
     "text": [
      "Ahmed\n"
     ]
    }
   ],
   "execution_count": 1
  },
  {
   "metadata": {
    "ExecuteTime": {
     "end_time": "2024-09-26T08:13:11.373117Z",
     "start_time": "2024-09-26T08:13:11.369352Z"
    }
   },
   "cell_type": "code",
   "source": [
    "bio=\"\"\"My name is Ahmed.\n",
    "I works at iti\n",
    "I lives in Cairo\"\"\"\n",
    "print(bio)"
   ],
   "id": "a498e517e3daa132",
   "outputs": [
    {
     "name": "stdout",
     "output_type": "stream",
     "text": [
      "My name is Ahmed.\n",
      "I works at iti\n",
      "I lives in Cairo\n"
     ]
    }
   ],
   "execution_count": 2
  },
  {
   "metadata": {
    "ExecuteTime": {
     "end_time": "2024-09-26T08:13:20.466954Z",
     "start_time": "2024-09-26T08:13:20.463757Z"
    }
   },
   "cell_type": "code",
   "source": "# this is a comment ",
   "id": "5bfabea287be629e",
   "outputs": [],
   "execution_count": 3
  },
  {
   "metadata": {
    "ExecuteTime": {
     "end_time": "2024-09-26T08:13:44.943057Z",
     "start_time": "2024-09-26T08:13:44.933156Z"
    }
   },
   "cell_type": "code",
   "source": "\"\"\"this is a content --> as comment \"\"\"",
   "id": "ef3d3d17a2cf245a",
   "outputs": [
    {
     "data": {
      "text/plain": [
       "'this is a content --> as comment '"
      ]
     },
     "execution_count": 4,
     "metadata": {},
     "output_type": "execute_result"
    }
   ],
   "execution_count": 4
  },
  {
   "metadata": {},
   "cell_type": "markdown",
   "source": " to get datatype of variable",
   "id": "888fda6c7df150f4"
  },
  {
   "metadata": {
    "ExecuteTime": {
     "end_time": "2024-09-26T08:17:41.665352Z",
     "start_time": "2024-09-26T08:17:41.661371Z"
    }
   },
   "cell_type": "code",
   "source": [
    "track='python'\n",
    "print(type(track))"
   ],
   "id": "ec49f408f06e62ab",
   "outputs": [
    {
     "name": "stdout",
     "output_type": "stream",
     "text": [
      "<class 'str'>\n"
     ]
    }
   ],
   "execution_count": 5
  },
  {
   "metadata": {
    "ExecuteTime": {
     "end_time": "2024-09-26T08:17:53.057346Z",
     "start_time": "2024-09-26T08:17:53.054110Z"
    }
   },
   "cell_type": "code",
   "source": [
    "age=20\n",
    "print(type(age))"
   ],
   "id": "4b4378dd8cee3eaa",
   "outputs": [
    {
     "name": "stdout",
     "output_type": "stream",
     "text": [
      "<class 'int'>\n"
     ]
    }
   ],
   "execution_count": 6
  },
  {
   "metadata": {
    "ExecuteTime": {
     "end_time": "2024-09-26T08:18:02.890781Z",
     "start_time": "2024-09-26T08:18:02.886601Z"
    }
   },
   "cell_type": "code",
   "source": [
    "g=9.8\n",
    "print(type(g))"
   ],
   "id": "f82db49874ff8579",
   "outputs": [
    {
     "name": "stdout",
     "output_type": "stream",
     "text": [
      "<class 'float'>\n"
     ]
    }
   ],
   "execution_count": 7
  },
  {
   "metadata": {},
   "cell_type": "markdown",
   "source": "type conversion",
   "id": "561f8f3f53825cf0"
  },
  {
   "metadata": {
    "ExecuteTime": {
     "end_time": "2024-09-26T08:18:35.003634Z",
     "start_time": "2024-09-26T08:18:34.998603Z"
    }
   },
   "cell_type": "code",
   "source": [
    "num=10\n",
    "print(type(num))"
   ],
   "id": "53178654a5d6e30d",
   "outputs": [
    {
     "name": "stdout",
     "output_type": "stream",
     "text": [
      "<class 'int'>\n"
     ]
    }
   ],
   "execution_count": 8
  },
  {
   "metadata": {
    "ExecuteTime": {
     "end_time": "2024-09-26T08:18:42.910232Z",
     "start_time": "2024-09-26T08:18:42.905843Z"
    }
   },
   "cell_type": "code",
   "source": [
    "num= str(num)\n",
    "print(type(num))"
   ],
   "id": "c4fe4f52993d0daa",
   "outputs": [
    {
     "name": "stdout",
     "output_type": "stream",
     "text": [
      "<class 'str'>\n"
     ]
    }
   ],
   "execution_count": 9
  },
  {
   "metadata": {
    "ExecuteTime": {
     "end_time": "2024-09-26T08:19:24.598498Z",
     "start_time": "2024-09-26T08:19:24.593766Z"
    }
   },
   "cell_type": "code",
   "source": [
    "grade='100'\n",
    "print(type(grade))\n",
    "grade=int(grade)\n",
    "print(type(grade))"
   ],
   "id": "ed8903a9d1fb6e47",
   "outputs": [
    {
     "name": "stdout",
     "output_type": "stream",
     "text": [
      "<class 'str'>\n",
      "<class 'int'>\n"
     ]
    }
   ],
   "execution_count": 10
  },
  {
   "metadata": {
    "ExecuteTime": {
     "end_time": "2024-09-26T08:19:47.883156Z",
     "start_time": "2024-09-26T08:19:47.701615Z"
    }
   },
   "cell_type": "code",
   "source": [
    "name='noha'\n",
    "print(type(name))\n",
    "name=int(name)\n",
    "print(type(name))"
   ],
   "id": "77a83f0e61826866",
   "outputs": [
    {
     "name": "stdout",
     "output_type": "stream",
     "text": [
      "<class 'str'>\n"
     ]
    },
    {
     "ename": "ValueError",
     "evalue": "invalid literal for int() with base 10: 'noha'",
     "output_type": "error",
     "traceback": [
      "\u001B[0;31m---------------------------------------------------------------------------\u001B[0m",
      "\u001B[0;31mValueError\u001B[0m                                Traceback (most recent call last)",
      "Cell \u001B[0;32mIn[11], line 3\u001B[0m\n\u001B[1;32m      1\u001B[0m name\u001B[38;5;241m=\u001B[39m\u001B[38;5;124m'\u001B[39m\u001B[38;5;124mnoha\u001B[39m\u001B[38;5;124m'\u001B[39m\n\u001B[1;32m      2\u001B[0m \u001B[38;5;28mprint\u001B[39m(\u001B[38;5;28mtype\u001B[39m(name))\n\u001B[0;32m----> 3\u001B[0m name\u001B[38;5;241m=\u001B[39m\u001B[38;5;28;43mint\u001B[39;49m\u001B[43m(\u001B[49m\u001B[43mname\u001B[49m\u001B[43m)\u001B[49m\n\u001B[1;32m      4\u001B[0m \u001B[38;5;28mprint\u001B[39m(\u001B[38;5;28mtype\u001B[39m(name))\n",
      "\u001B[0;31mValueError\u001B[0m: invalid literal for int() with base 10: 'noha'"
     ]
    }
   ],
   "execution_count": 11
  },
  {
   "metadata": {
    "ExecuteTime": {
     "end_time": "2024-09-26T08:27:38.281357Z",
     "start_time": "2024-09-26T08:27:38.267352Z"
    }
   },
   "cell_type": "code",
   "source": [
    "\n",
    "print('100' and 12 )"
   ],
   "id": "8d8e7a2a968bcede",
   "outputs": [
    {
     "name": "stdout",
     "output_type": "stream",
     "text": [
      "12\n"
     ]
    }
   ],
   "execution_count": 12
  },
  {
   "metadata": {
    "ExecuteTime": {
     "end_time": "2024-09-26T08:27:48.527978Z",
     "start_time": "2024-09-26T08:27:48.524162Z"
    }
   },
   "cell_type": "code",
   "source": "print(\"iti\" and \"Ahmed\")",
   "id": "b5387014d709e8d",
   "outputs": [
    {
     "name": "stdout",
     "output_type": "stream",
     "text": [
      "Ahmed\n"
     ]
    }
   ],
   "execution_count": 13
  },
  {
   "metadata": {
    "ExecuteTime": {
     "end_time": "2024-09-26T08:28:02.070911Z",
     "start_time": "2024-09-26T08:28:02.065042Z"
    }
   },
   "cell_type": "code",
   "source": "print(True and True)",
   "id": "f87a42bfbd14d48b",
   "outputs": [
    {
     "name": "stdout",
     "output_type": "stream",
     "text": [
      "True\n"
     ]
    }
   ],
   "execution_count": 14
  },
  {
   "metadata": {
    "ExecuteTime": {
     "end_time": "2024-09-26T08:28:18.315898Z",
     "start_time": "2024-09-26T08:28:18.309764Z"
    }
   },
   "cell_type": "code",
   "source": "print(\"Ahmed\" and True)",
   "id": "6891479c107b0f15",
   "outputs": [
    {
     "name": "stdout",
     "output_type": "stream",
     "text": [
      "True\n"
     ]
    }
   ],
   "execution_count": 15
  },
  {
   "metadata": {
    "ExecuteTime": {
     "end_time": "2024-09-26T08:30:23.353860Z",
     "start_time": "2024-09-26T08:30:23.350221Z"
    }
   },
   "cell_type": "code",
   "source": "print(bool(\"ahmed\"))",
   "id": "a1d8d9bacd8a0782",
   "outputs": [
    {
     "name": "stdout",
     "output_type": "stream",
     "text": [
      "True\n"
     ]
    }
   ],
   "execution_count": 16
  },
  {
   "metadata": {
    "ExecuteTime": {
     "end_time": "2024-09-26T08:30:39.461831Z",
     "start_time": "2024-09-26T08:30:39.457503Z"
    }
   },
   "cell_type": "code",
   "source": "print(bool(''))",
   "id": "762a10df0f40e677",
   "outputs": [
    {
     "name": "stdout",
     "output_type": "stream",
     "text": [
      "False\n"
     ]
    }
   ],
   "execution_count": 17
  },
  {
   "metadata": {
    "ExecuteTime": {
     "end_time": "2024-09-26T08:33:55.280771Z",
     "start_time": "2024-09-26T08:33:55.274884Z"
    }
   },
   "cell_type": "code",
   "source": [
    "day='sunday'\n",
    "if day == 'Sunday':\n",
    "    print(\"Wish you a happy week ^^ \")\n",
    "elif day == \"Thursday\":\n",
    "    print(\"Enjoy your weekend\")\n",
    "else:\n",
    "    print(\"It seems impossible until it is done ;) \")"
   ],
   "id": "34fd7d69e4683085",
   "outputs": [
    {
     "name": "stdout",
     "output_type": "stream",
     "text": [
      "It seems impossible until it is done ;) \n"
     ]
    }
   ],
   "execution_count": 18
  },
  {
   "metadata": {},
   "cell_type": "code",
   "outputs": [],
   "execution_count": null,
   "source": "",
   "id": "128a7bef7ecaa183"
  }
 ],
 "metadata": {
  "kernelspec": {
   "display_name": "Python 3",
   "language": "python",
   "name": "python3"
  },
  "language_info": {
   "codemirror_mode": {
    "name": "ipython",
    "version": 2
   },
   "file_extension": ".py",
   "mimetype": "text/x-python",
   "name": "python",
   "nbconvert_exporter": "python",
   "pygments_lexer": "ipython2",
   "version": "2.7.6"
  }
 },
 "nbformat": 4,
 "nbformat_minor": 5
}
