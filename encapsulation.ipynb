{
 "cells": [
  {
   "metadata": {},
   "cell_type": "markdown",
   "source": [
    "OOP reach encapsulation --> access modifiers ??\n",
    "    public --< accessed anywhere using object\n",
    "    protected  --> accessed  inside the class  and derived class\n",
    "    private  --> inside the class"
   ],
   "id": "95f41dd4a749633f"
  },
  {
   "cell_type": "code",
   "id": "initial_id",
   "metadata": {
    "collapsed": true,
    "ExecuteTime": {
     "end_time": "2024-10-02T06:52:03.238293Z",
     "start_time": "2024-10-02T06:52:03.230790Z"
    }
   },
   "source": [
    "class Employee:\n",
    "    def __init__(self, name, email, salary):\n",
    "        self.name = name\n",
    "        self.email = email\n",
    "        self.salary = salary\n",
    "\n",
    "\n",
    "emp = Employee('John', '<EMAIL>', 1200)"
   ],
   "outputs": [],
   "execution_count": 1
  },
  {
   "metadata": {
    "ExecuteTime": {
     "end_time": "2024-10-02T06:55:46.139749Z",
     "start_time": "2024-10-02T06:55:46.133748Z"
    }
   },
   "cell_type": "code",
   "source": [
    "class Employee:\n",
    "    def __init__(self, name, email, salary):\n",
    "        self.name = name  # public\n",
    "        self._email = email  # protected --> _\n",
    "        self.__salary = salary  # start with __\n",
    "\n",
    "\n",
    "emp = Employee('John', '<EMAIL>', 1200)"
   ],
   "id": "ebbcb0553a97810d",
   "outputs": [],
   "execution_count": 3
  },
  {
   "metadata": {
    "ExecuteTime": {
     "end_time": "2024-10-02T06:55:51.037858Z",
     "start_time": "2024-10-02T06:55:51.034604Z"
    }
   },
   "cell_type": "code",
   "source": "print(emp.name)",
   "id": "9259983aa06dd0a9",
   "outputs": [
    {
     "name": "stdout",
     "output_type": "stream",
     "text": [
      "John\n"
     ]
    }
   ],
   "execution_count": 4
  },
  {
   "metadata": {
    "ExecuteTime": {
     "end_time": "2024-10-02T06:56:12.190104Z",
     "start_time": "2024-10-02T06:56:12.185850Z"
    }
   },
   "cell_type": "code",
   "source": "print(emp._email) # ethically don't do this ",
   "id": "a72a33f1e4c684ca",
   "outputs": [
    {
     "name": "stdout",
     "output_type": "stream",
     "text": [
      "<EMAIL>\n"
     ]
    }
   ],
   "execution_count": 5
  },
  {
   "metadata": {
    "ExecuteTime": {
     "end_time": "2024-10-02T06:57:56.795335Z",
     "start_time": "2024-10-02T06:57:56.558450Z"
    }
   },
   "cell_type": "code",
   "source": "print(emp.__salary)",
   "id": "9b4055f27bd261c4",
   "outputs": [
    {
     "ename": "AttributeError",
     "evalue": "'Employee' object has no attribute '__salary'",
     "output_type": "error",
     "traceback": [
      "\u001B[0;31m---------------------------------------------------------------------------\u001B[0m",
      "\u001B[0;31mAttributeError\u001B[0m                            Traceback (most recent call last)",
      "Cell \u001B[0;32mIn[6], line 1\u001B[0m\n\u001B[0;32m----> 1\u001B[0m \u001B[38;5;28mprint\u001B[39m(\u001B[43memp\u001B[49m\u001B[38;5;241;43m.\u001B[39;49m\u001B[43m__salary\u001B[49m)\n",
      "\u001B[0;31mAttributeError\u001B[0m: 'Employee' object has no attribute '__salary'"
     ]
    }
   ],
   "execution_count": 6
  },
  {
   "metadata": {
    "ExecuteTime": {
     "end_time": "2024-10-02T06:58:50.629700Z",
     "start_time": "2024-10-02T06:58:50.615321Z"
    }
   },
   "cell_type": "code",
   "source": "print(emp.city)",
   "id": "e42212a92c32a1b2",
   "outputs": [
    {
     "ename": "AttributeError",
     "evalue": "'Employee' object has no attribute 'city'",
     "output_type": "error",
     "traceback": [
      "\u001B[0;31m---------------------------------------------------------------------------\u001B[0m",
      "\u001B[0;31mAttributeError\u001B[0m                            Traceback (most recent call last)",
      "Cell \u001B[0;32mIn[7], line 1\u001B[0m\n\u001B[0;32m----> 1\u001B[0m \u001B[38;5;28mprint\u001B[39m(\u001B[43memp\u001B[49m\u001B[38;5;241;43m.\u001B[39;49m\u001B[43mcity\u001B[49m)\n",
      "\u001B[0;31mAttributeError\u001B[0m: 'Employee' object has no attribute 'city'"
     ]
    }
   ],
   "execution_count": 7
  },
  {
   "metadata": {
    "ExecuteTime": {
     "end_time": "2024-10-02T06:59:24.002108Z",
     "start_time": "2024-10-02T06:59:23.996188Z"
    }
   },
   "cell_type": "code",
   "source": "print(emp._Employee__salary) # ethically don't do this ",
   "id": "f87a2c88a5c19f1d",
   "outputs": [
    {
     "name": "stdout",
     "output_type": "stream",
     "text": [
      "1200\n"
     ]
    }
   ],
   "execution_count": 8
  },
  {
   "metadata": {
    "ExecuteTime": {
     "end_time": "2024-10-02T07:06:25.507590Z",
     "start_time": "2024-10-02T07:06:25.495072Z"
    }
   },
   "cell_type": "code",
   "source": [
    "class Employee:\n",
    "    def __init__(self, name, email, salary):\n",
    "        self.name = name\n",
    "        self._email = email\n",
    "        self.__salary = salary  # private \n",
    "        \n",
    "    # setter , getter \n",
    "    def set_salary(self, salary):\n",
    "        if isinstance(salary, int) or isinstance(salary, float) and salary > 0:\n",
    "            self.__salary = salary\n",
    "        else:\n",
    "            raise Exception('Salary must be an integer or float greater than 0 ')\n",
    "        \n",
    "    def get_salary(self):\n",
    "        return self.__salary\n",
    "    \n",
    "        "
   ],
   "id": "8bb8c7c4f8b8c15f",
   "outputs": [],
   "execution_count": 9
  },
  {
   "metadata": {
    "ExecuteTime": {
     "end_time": "2024-10-02T07:06:30.730208Z",
     "start_time": "2024-10-02T07:06:30.724596Z"
    }
   },
   "cell_type": "code",
   "source": "emp = Employee('John', '<EMAIL>', 1200)",
   "id": "a042f58a4160b0d9",
   "outputs": [],
   "execution_count": 10
  },
  {
   "metadata": {
    "ExecuteTime": {
     "end_time": "2024-10-02T07:06:38.542379Z",
     "start_time": "2024-10-02T07:06:38.537689Z"
    }
   },
   "cell_type": "code",
   "source": "emp.set_salary(2000)",
   "id": "d6b539894fbc85f9",
   "outputs": [],
   "execution_count": 11
  },
  {
   "metadata": {
    "ExecuteTime": {
     "end_time": "2024-10-02T07:06:44.625605Z",
     "start_time": "2024-10-02T07:06:44.620920Z"
    }
   },
   "cell_type": "code",
   "source": "print(emp.get_salary())",
   "id": "a5e4a31dff7a948",
   "outputs": [
    {
     "name": "stdout",
     "output_type": "stream",
     "text": [
      "2000\n"
     ]
    }
   ],
   "execution_count": 12
  },
  {
   "metadata": {
    "ExecuteTime": {
     "end_time": "2024-10-02T07:06:50.947246Z",
     "start_time": "2024-10-02T07:06:50.847469Z"
    }
   },
   "cell_type": "code",
   "source": "emp.set_salary(\"iti\")",
   "id": "c2d22bcf0bdea38b",
   "outputs": [
    {
     "ename": "Exception",
     "evalue": "Salary must be an integer or float greater than 0 ",
     "output_type": "error",
     "traceback": [
      "\u001B[0;31m---------------------------------------------------------------------------\u001B[0m",
      "\u001B[0;31mException\u001B[0m                                 Traceback (most recent call last)",
      "Cell \u001B[0;32mIn[13], line 1\u001B[0m\n\u001B[0;32m----> 1\u001B[0m \u001B[43memp\u001B[49m\u001B[38;5;241;43m.\u001B[39;49m\u001B[43mset_salary\u001B[49m\u001B[43m(\u001B[49m\u001B[38;5;124;43m\"\u001B[39;49m\u001B[38;5;124;43miti\u001B[39;49m\u001B[38;5;124;43m\"\u001B[39;49m\u001B[43m)\u001B[49m\n",
      "Cell \u001B[0;32mIn[9], line 12\u001B[0m, in \u001B[0;36mEmployee.set_salary\u001B[0;34m(self, salary)\u001B[0m\n\u001B[1;32m     10\u001B[0m     \u001B[38;5;28mself\u001B[39m\u001B[38;5;241m.\u001B[39m__salary \u001B[38;5;241m=\u001B[39m salary\n\u001B[1;32m     11\u001B[0m \u001B[38;5;28;01melse\u001B[39;00m:\n\u001B[0;32m---> 12\u001B[0m     \u001B[38;5;28;01mraise\u001B[39;00m \u001B[38;5;167;01mException\u001B[39;00m(\u001B[38;5;124m'\u001B[39m\u001B[38;5;124mSalary must be an integer or float greater than 0 \u001B[39m\u001B[38;5;124m'\u001B[39m)\n",
      "\u001B[0;31mException\u001B[0m: Salary must be an integer or float greater than 0 "
     ]
    }
   ],
   "execution_count": 13
  },
  {
   "metadata": {
    "ExecuteTime": {
     "end_time": "2024-10-02T07:08:48.850565Z",
     "start_time": "2024-10-02T07:08:48.847792Z"
    }
   },
   "cell_type": "code",
   "source": "emp2 =  Employee('John', '<EMAIL>', \"abc\")\n",
   "id": "4f406e82469b0246",
   "outputs": [],
   "execution_count": 14
  },
  {
   "metadata": {
    "ExecuteTime": {
     "end_time": "2024-10-02T07:10:47.939086Z",
     "start_time": "2024-10-02T07:10:47.932392Z"
    }
   },
   "cell_type": "code",
   "source": [
    "class Employee:\n",
    "    def __init__(self, name, email, salary):\n",
    "        self.name = name\n",
    "        self._email = email\n",
    "        # self.__salary = salary  # private \n",
    "        if isinstance(salary, int) or isinstance(salary, float) and salary > 0:\n",
    "            self.__salary = salary\n",
    "        else:\n",
    "            raise Exception('Salary must be an integer or float greater than 0 ')\n",
    "        \n",
    "    # setter , getter \n",
    "    def set_salary(self, salary):\n",
    "        if isinstance(salary, int) or isinstance(salary, float) and salary > 0:\n",
    "            self.__salary = salary\n",
    "        else:\n",
    "            raise Exception('Salary must be an integer or float greater than 0 ')\n",
    "        \n",
    "    def get_salary(self):\n",
    "        return self.__salary"
   ],
   "id": "63a6c3e82357c299",
   "outputs": [],
   "execution_count": 15
  },
  {
   "metadata": {
    "ExecuteTime": {
     "end_time": "2024-10-02T07:10:50.302203Z",
     "start_time": "2024-10-02T07:10:50.226787Z"
    }
   },
   "cell_type": "code",
   "source": "emp2 =  Employee('John', '<EMAIL>', \"abc\")\n",
   "id": "b8043544b5742fa",
   "outputs": [
    {
     "ename": "Exception",
     "evalue": "Salary must be an integer or float greater than 0 ",
     "output_type": "error",
     "traceback": [
      "\u001B[0;31m---------------------------------------------------------------------------\u001B[0m",
      "\u001B[0;31mException\u001B[0m                                 Traceback (most recent call last)",
      "Cell \u001B[0;32mIn[16], line 1\u001B[0m\n\u001B[0;32m----> 1\u001B[0m emp2 \u001B[38;5;241m=\u001B[39m  \u001B[43mEmployee\u001B[49m\u001B[43m(\u001B[49m\u001B[38;5;124;43m'\u001B[39;49m\u001B[38;5;124;43mJohn\u001B[39;49m\u001B[38;5;124;43m'\u001B[39;49m\u001B[43m,\u001B[49m\u001B[43m \u001B[49m\u001B[38;5;124;43m'\u001B[39;49m\u001B[38;5;124;43m<EMAIL>\u001B[39;49m\u001B[38;5;124;43m'\u001B[39;49m\u001B[43m,\u001B[49m\u001B[43m \u001B[49m\u001B[38;5;124;43m\"\u001B[39;49m\u001B[38;5;124;43mabc\u001B[39;49m\u001B[38;5;124;43m\"\u001B[39;49m\u001B[43m)\u001B[49m\n",
      "Cell \u001B[0;32mIn[15], line 9\u001B[0m, in \u001B[0;36mEmployee.__init__\u001B[0;34m(self, name, email, salary)\u001B[0m\n\u001B[1;32m      7\u001B[0m     \u001B[38;5;28mself\u001B[39m\u001B[38;5;241m.\u001B[39m__salary \u001B[38;5;241m=\u001B[39m salary\n\u001B[1;32m      8\u001B[0m \u001B[38;5;28;01melse\u001B[39;00m:\n\u001B[0;32m----> 9\u001B[0m     \u001B[38;5;28;01mraise\u001B[39;00m \u001B[38;5;167;01mException\u001B[39;00m(\u001B[38;5;124m'\u001B[39m\u001B[38;5;124mSalary must be an integer or float greater than 0 \u001B[39m\u001B[38;5;124m'\u001B[39m)\n",
      "\u001B[0;31mException\u001B[0m: Salary must be an integer or float greater than 0 "
     ]
    }
   ],
   "execution_count": 16
  },
  {
   "metadata": {
    "ExecuteTime": {
     "end_time": "2024-10-02T07:11:55.270240Z",
     "start_time": "2024-10-02T07:11:55.264617Z"
    }
   },
   "cell_type": "code",
   "source": [
    "class Employee:\n",
    "    def __init__(self, name, email, salary):\n",
    "        self.name = name\n",
    "        self._email = email\n",
    "        # self.__salary = salary  # private \n",
    "        self.set_salary(salary)\n",
    "        \n",
    "    # setter , getter \n",
    "    def set_salary(self, salary):\n",
    "        if isinstance(salary, int) or isinstance(salary, float) and salary > 0:\n",
    "            self.__salary = salary\n",
    "        else:\n",
    "            raise Exception('Salary must be an integer or float greater than 0 ')\n",
    "        \n",
    "    def get_salary(self):\n",
    "        return self.__salary"
   ],
   "id": "f7a47d5944eed087",
   "outputs": [],
   "execution_count": 17
  },
  {
   "metadata": {
    "ExecuteTime": {
     "end_time": "2024-10-02T07:12:14.250274Z",
     "start_time": "2024-10-02T07:12:14.245518Z"
    }
   },
   "cell_type": "code",
   "source": [
    "emp = Employee('John', '<EMAIL>', 1200)\n",
    "print(emp.get_salary())"
   ],
   "id": "a29bb9823e0123ef",
   "outputs": [
    {
     "name": "stdout",
     "output_type": "stream",
     "text": [
      "1200\n"
     ]
    }
   ],
   "execution_count": 19
  },
  {
   "metadata": {
    "ExecuteTime": {
     "end_time": "2024-10-02T07:12:26.411523Z",
     "start_time": "2024-10-02T07:12:26.315040Z"
    }
   },
   "cell_type": "code",
   "source": "emp2= Employee('John', '<EMAIL>', \"iti\")",
   "id": "e9e2b409e7095aa3",
   "outputs": [
    {
     "ename": "Exception",
     "evalue": "Salary must be an integer or float greater than 0 ",
     "output_type": "error",
     "traceback": [
      "\u001B[0;31m---------------------------------------------------------------------------\u001B[0m",
      "\u001B[0;31mException\u001B[0m                                 Traceback (most recent call last)",
      "Cell \u001B[0;32mIn[20], line 1\u001B[0m\n\u001B[0;32m----> 1\u001B[0m emp2\u001B[38;5;241m=\u001B[39m \u001B[43mEmployee\u001B[49m\u001B[43m(\u001B[49m\u001B[38;5;124;43m'\u001B[39;49m\u001B[38;5;124;43mJohn\u001B[39;49m\u001B[38;5;124;43m'\u001B[39;49m\u001B[43m,\u001B[49m\u001B[43m \u001B[49m\u001B[38;5;124;43m'\u001B[39;49m\u001B[38;5;124;43m<EMAIL>\u001B[39;49m\u001B[38;5;124;43m'\u001B[39;49m\u001B[43m,\u001B[49m\u001B[43m \u001B[49m\u001B[38;5;124;43m\"\u001B[39;49m\u001B[38;5;124;43miti\u001B[39;49m\u001B[38;5;124;43m\"\u001B[39;49m\u001B[43m)\u001B[49m\n",
      "Cell \u001B[0;32mIn[17], line 6\u001B[0m, in \u001B[0;36mEmployee.__init__\u001B[0;34m(self, name, email, salary)\u001B[0m\n\u001B[1;32m      4\u001B[0m \u001B[38;5;28mself\u001B[39m\u001B[38;5;241m.\u001B[39m_email \u001B[38;5;241m=\u001B[39m email\n\u001B[1;32m      5\u001B[0m \u001B[38;5;66;03m# self.__salary = salary  # private \u001B[39;00m\n\u001B[0;32m----> 6\u001B[0m \u001B[38;5;28;43mself\u001B[39;49m\u001B[38;5;241;43m.\u001B[39;49m\u001B[43mset_salary\u001B[49m\u001B[43m(\u001B[49m\u001B[43msalary\u001B[49m\u001B[43m)\u001B[49m\n",
      "Cell \u001B[0;32mIn[17], line 13\u001B[0m, in \u001B[0;36mEmployee.set_salary\u001B[0;34m(self, salary)\u001B[0m\n\u001B[1;32m     11\u001B[0m     \u001B[38;5;28mself\u001B[39m\u001B[38;5;241m.\u001B[39m__salary \u001B[38;5;241m=\u001B[39m salary\n\u001B[1;32m     12\u001B[0m \u001B[38;5;28;01melse\u001B[39;00m:\n\u001B[0;32m---> 13\u001B[0m     \u001B[38;5;28;01mraise\u001B[39;00m \u001B[38;5;167;01mException\u001B[39;00m(\u001B[38;5;124m'\u001B[39m\u001B[38;5;124mSalary must be an integer or float greater than 0 \u001B[39m\u001B[38;5;124m'\u001B[39m)\n",
      "\u001B[0;31mException\u001B[0m: Salary must be an integer or float greater than 0 "
     ]
    }
   ],
   "execution_count": 20
  },
  {
   "metadata": {},
   "cell_type": "code",
   "outputs": [],
   "execution_count": null,
   "source": "",
   "id": "93fd8fcd22d86996"
  },
  {
   "metadata": {},
   "cell_type": "markdown",
   "source": "# python introduce property decorator ",
   "id": "3ee9c0b7104e3f11"
  },
  {
   "metadata": {
    "ExecuteTime": {
     "end_time": "2024-10-02T07:15:52.764854Z",
     "start_time": "2024-10-02T07:15:52.759158Z"
    }
   },
   "cell_type": "code",
   "source": [
    "class Employee:\n",
    "    def __init__(self, name, email, salary):\n",
    "        self.name = name\n",
    "        self._email = email\n",
    "        self.set_salary(salary)\n",
    "        \n",
    "    # setter , getter \n",
    "    def set_salary(self, salary):\n",
    "        if isinstance(salary, int) or isinstance(salary, float) and salary > 0:\n",
    "            self.__salary = salary\n",
    "        else:\n",
    "            raise Exception('Salary must be an integer or float greater than 0 ')\n",
    "        \n",
    "    @property\n",
    "    def salary(self):\n",
    "        return self.__salary"
   ],
   "id": "3ea6282148ca1472",
   "outputs": [],
   "execution_count": 22
  },
  {
   "metadata": {
    "ExecuteTime": {
     "end_time": "2024-10-02T07:17:15.442156Z",
     "start_time": "2024-10-02T07:17:15.434137Z"
    }
   },
   "cell_type": "code",
   "source": [
    "emp = Employee('John', '<EMAIL>', 1200)\n",
    "print(emp.salary)"
   ],
   "id": "bc4fa0dc5d0dc6e7",
   "outputs": [
    {
     "name": "stdout",
     "output_type": "stream",
     "text": [
      "1200\n"
     ]
    }
   ],
   "execution_count": 24
  },
  {
   "metadata": {
    "ExecuteTime": {
     "end_time": "2024-10-02T07:18:47.015297Z",
     "start_time": "2024-10-02T07:18:46.993298Z"
    }
   },
   "cell_type": "code",
   "source": "emp.salary = \"iti\" ",
   "id": "b858be86bc395151",
   "outputs": [
    {
     "ename": "AttributeError",
     "evalue": "property 'salary' of 'Employee' object has no setter",
     "output_type": "error",
     "traceback": [
      "\u001B[0;31m---------------------------------------------------------------------------\u001B[0m",
      "\u001B[0;31mAttributeError\u001B[0m                            Traceback (most recent call last)",
      "Cell \u001B[0;32mIn[25], line 1\u001B[0m\n\u001B[0;32m----> 1\u001B[0m \u001B[43memp\u001B[49m\u001B[38;5;241;43m.\u001B[39;49m\u001B[43msalary\u001B[49m \u001B[38;5;241m=\u001B[39m \u001B[38;5;124m\"\u001B[39m\u001B[38;5;124miti\u001B[39m\u001B[38;5;124m\"\u001B[39m \n",
      "\u001B[0;31mAttributeError\u001B[0m: property 'salary' of 'Employee' object has no setter"
     ]
    }
   ],
   "execution_count": 25
  },
  {
   "metadata": {},
   "cell_type": "markdown",
   "source": "# property should be exists so you can create setter ",
   "id": "26e76aed11b82623"
  },
  {
   "metadata": {
    "ExecuteTime": {
     "end_time": "2024-10-02T07:23:46.160421Z",
     "start_time": "2024-10-02T07:23:46.154259Z"
    }
   },
   "cell_type": "code",
   "source": [
    "class Employee:\n",
    "    def __init__(self, name, email, salary):\n",
    "        self.name = name\n",
    "        self._email = email\n",
    "        # self.set_salary(salary)\n",
    "        self.__salary = salary\n",
    "        \n",
    "    @property\n",
    "    def salary(self):\n",
    "        return self.__salary\n",
    "    # setter , getter \n",
    "    @salary.setter\n",
    "    def salary(self, salary):\n",
    "        if isinstance(salary, int) or isinstance(salary, float) and salary > 0:\n",
    "            self.__salary = salary\n",
    "        else:\n",
    "            raise Exception('Salary must be an integer or float greater than 0 ')\n",
    "        \n",
    "    "
   ],
   "id": "239e2cbd2df5bd53",
   "outputs": [],
   "execution_count": 26
  },
  {
   "metadata": {
    "ExecuteTime": {
     "end_time": "2024-10-02T07:24:00.119209Z",
     "start_time": "2024-10-02T07:24:00.089800Z"
    }
   },
   "cell_type": "code",
   "source": [
    "emp= Employee('John', '<EMAIL>', 1200)\n",
    "print(emp.salary)\n",
    "emp.salary = \"iti\" # property setter "
   ],
   "id": "e3dac00c6c155eb8",
   "outputs": [
    {
     "name": "stdout",
     "output_type": "stream",
     "text": [
      "1200\n"
     ]
    },
    {
     "ename": "Exception",
     "evalue": "Salary must be an integer or float greater than 0 ",
     "output_type": "error",
     "traceback": [
      "\u001B[0;31m---------------------------------------------------------------------------\u001B[0m",
      "\u001B[0;31mException\u001B[0m                                 Traceback (most recent call last)",
      "Cell \u001B[0;32mIn[27], line 3\u001B[0m\n\u001B[1;32m      1\u001B[0m emp\u001B[38;5;241m=\u001B[39m Employee(\u001B[38;5;124m'\u001B[39m\u001B[38;5;124mJohn\u001B[39m\u001B[38;5;124m'\u001B[39m, \u001B[38;5;124m'\u001B[39m\u001B[38;5;124m<EMAIL>\u001B[39m\u001B[38;5;124m'\u001B[39m, \u001B[38;5;241m1200\u001B[39m)\n\u001B[1;32m      2\u001B[0m \u001B[38;5;28mprint\u001B[39m(emp\u001B[38;5;241m.\u001B[39msalary)\n\u001B[0;32m----> 3\u001B[0m \u001B[43memp\u001B[49m\u001B[38;5;241;43m.\u001B[39;49m\u001B[43msalary\u001B[49m \u001B[38;5;241m=\u001B[39m \u001B[38;5;124m\"\u001B[39m\u001B[38;5;124miti\u001B[39m\u001B[38;5;124m\"\u001B[39m\n",
      "Cell \u001B[0;32mIn[26], line 17\u001B[0m, in \u001B[0;36mEmployee.salary\u001B[0;34m(self, salary)\u001B[0m\n\u001B[1;32m     15\u001B[0m     \u001B[38;5;28mself\u001B[39m\u001B[38;5;241m.\u001B[39m__salary \u001B[38;5;241m=\u001B[39m salary\n\u001B[1;32m     16\u001B[0m \u001B[38;5;28;01melse\u001B[39;00m:\n\u001B[0;32m---> 17\u001B[0m     \u001B[38;5;28;01mraise\u001B[39;00m \u001B[38;5;167;01mException\u001B[39;00m(\u001B[38;5;124m'\u001B[39m\u001B[38;5;124mSalary must be an integer or float greater than 0 \u001B[39m\u001B[38;5;124m'\u001B[39m)\n",
      "\u001B[0;31mException\u001B[0m: Salary must be an integer or float greater than 0 "
     ]
    }
   ],
   "execution_count": 27
  },
  {
   "metadata": {
    "ExecuteTime": {
     "end_time": "2024-10-02T07:25:23.326900Z",
     "start_time": "2024-10-02T07:25:23.322038Z"
    }
   },
   "cell_type": "code",
   "source": [
    "class Employee:\n",
    "    def __init__(self, name, email, salary):\n",
    "        self.name = name\n",
    "        self._email = email\n",
    "        # self.set_salary(salary)\n",
    "        self.salary = salary  # call property setter while creating object \n",
    "        \n",
    "    @property\n",
    "    def salary(self):\n",
    "        return self.__salary\n",
    "    # setter , getter \n",
    "    @salary.setter\n",
    "    def salary(self, salary):\n",
    "        if isinstance(salary, int) or isinstance(salary, float) and salary > 0:\n",
    "            self.__salary = salary\n",
    "        else:\n",
    "            raise Exception('Salary must be an integer or float greater than 0 ')"
   ],
   "id": "2b7ca75840e67324",
   "outputs": [],
   "execution_count": 28
  },
  {
   "metadata": {
    "ExecuteTime": {
     "end_time": "2024-10-02T07:30:30.530944Z",
     "start_time": "2024-10-02T07:30:30.526585Z"
    }
   },
   "cell_type": "code",
   "source": "emp = Employee('ff',\"ff\",3345)",
   "id": "e23f57923ec867ef",
   "outputs": [],
   "execution_count": 29
  },
  {
   "metadata": {
    "ExecuteTime": {
     "end_time": "2024-10-02T07:31:41.625679Z",
     "start_time": "2024-10-02T07:31:41.610268Z"
    }
   },
   "cell_type": "code",
   "source": "print(emp.__dict__) # display object structure (properties) dict",
   "id": "b4bc9099d3b5685",
   "outputs": [
    {
     "name": "stdout",
     "output_type": "stream",
     "text": [
      "{'name': 'ff', '_email': 'ff', '_Employee__salary': 3345}\n"
     ]
    }
   ],
   "execution_count": 30
  },
  {
   "metadata": {},
   "cell_type": "code",
   "outputs": [],
   "execution_count": null,
   "source": "",
   "id": "c9c896fef6c93e16"
  }
 ],
 "metadata": {
  "kernelspec": {
   "display_name": "Python 3",
   "language": "python",
   "name": "python3"
  },
  "language_info": {
   "codemirror_mode": {
    "name": "ipython",
    "version": 2
   },
   "file_extension": ".py",
   "mimetype": "text/x-python",
   "name": "python",
   "nbconvert_exporter": "python",
   "pygments_lexer": "ipython2",
   "version": "2.7.6"
  }
 },
 "nbformat": 4,
 "nbformat_minor": 5
}
