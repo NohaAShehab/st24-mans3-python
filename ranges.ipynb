{
 "cells": [
  {
   "cell_type": "code",
   "id": "initial_id",
   "metadata": {
    "collapsed": true
   },
   "source": "nums = [1,2,3,4,5,6,7,8,9,10]",
   "outputs": [],
   "execution_count": null
  },
  {
   "metadata": {
    "ExecuteTime": {
     "end_time": "2024-09-29T06:24:46.828526Z",
     "start_time": "2024-09-29T06:24:46.819694Z"
    }
   },
   "cell_type": "code",
   "source": [
    "myr = range(10)\n",
    "print(myr)"
   ],
   "id": "f44c5ea6c0842d",
   "outputs": [
    {
     "name": "stdout",
     "output_type": "stream",
     "text": [
      "range(0, 10)\n"
     ]
    }
   ],
   "execution_count": 1
  },
  {
   "metadata": {
    "ExecuteTime": {
     "end_time": "2024-09-29T06:26:00.935391Z",
     "start_time": "2024-09-29T06:26:00.930610Z"
    }
   },
   "cell_type": "code",
   "source": [
    "# casting to a list\n",
    "print(list(myr))"
   ],
   "id": "29d9b13b2e0758ba",
   "outputs": [
    {
     "name": "stdout",
     "output_type": "stream",
     "text": [
      "[0, 1, 2, 3, 4, 5, 6, 7, 8, 9]\n"
     ]
    }
   ],
   "execution_count": 3
  },
  {
   "metadata": {
    "ExecuteTime": {
     "end_time": "2024-09-29T06:26:05.791948Z",
     "start_time": "2024-09-29T06:26:05.784663Z"
    }
   },
   "cell_type": "code",
   "source": [
    "myr = range(1,11)\n",
    "print(myr)"
   ],
   "id": "e1c05295ed5cfe26",
   "outputs": [
    {
     "name": "stdout",
     "output_type": "stream",
     "text": [
      "range(1, 11)\n"
     ]
    }
   ],
   "execution_count": 4
  },
  {
   "metadata": {
    "ExecuteTime": {
     "end_time": "2024-09-29T06:26:07.861053Z",
     "start_time": "2024-09-29T06:26:07.853839Z"
    }
   },
   "cell_type": "code",
   "source": "print(list(myr))",
   "id": "4b363f65168a682b",
   "outputs": [
    {
     "name": "stdout",
     "output_type": "stream",
     "text": [
      "[1, 2, 3, 4, 5, 6, 7, 8, 9, 10]\n"
     ]
    }
   ],
   "execution_count": 5
  },
  {
   "metadata": {},
   "cell_type": "markdown",
   "source": "# iterable object",
   "id": "c79a93b5b695c789"
  },
  {
   "metadata": {
    "ExecuteTime": {
     "end_time": "2024-09-29T06:26:28.633979Z",
     "start_time": "2024-09-29T06:26:28.629094Z"
    }
   },
   "cell_type": "code",
   "source": [
    "for num in myr:\n",
    "    print(num)"
   ],
   "id": "10d219e09d219029",
   "outputs": [
    {
     "name": "stdout",
     "output_type": "stream",
     "text": [
      "1\n",
      "2\n",
      "3\n",
      "4\n",
      "5\n",
      "6\n",
      "7\n",
      "8\n",
      "9\n",
      "10\n"
     ]
    }
   ],
   "execution_count": 6
  },
  {
   "metadata": {
    "ExecuteTime": {
     "end_time": "2024-09-29T06:27:01.428362Z",
     "start_time": "2024-09-29T06:27:01.424339Z"
    }
   },
   "cell_type": "code",
   "source": [
    "r = range(10 , 1, -1)\n",
    "print(list(r))"
   ],
   "id": "d48822e433545564",
   "outputs": [
    {
     "name": "stdout",
     "output_type": "stream",
     "text": [
      "[10, 9, 8, 7, 6, 5, 4, 3, 2]\n"
     ]
    }
   ],
   "execution_count": 7
  },
  {
   "metadata": {},
   "cell_type": "markdown",
   "source": "",
   "id": "768ed0a18073ccce"
  },
  {
   "metadata": {},
   "cell_type": "code",
   "source": "",
   "id": "cf434c5c17968334",
   "outputs": [],
   "execution_count": null
  }
 ],
 "metadata": {
  "kernelspec": {
   "display_name": "Python 3",
   "language": "python",
   "name": "python3"
  },
  "language_info": {
   "codemirror_mode": {
    "name": "ipython",
    "version": 2
   },
   "file_extension": ".py",
   "mimetype": "text/x-python",
   "name": "python",
   "nbconvert_exporter": "python",
   "pygments_lexer": "ipython2",
   "version": "2.7.6"
  }
 },
 "nbformat": 4,
 "nbformat_minor": 5
}
