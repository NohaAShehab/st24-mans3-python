{
 "cells": [
  {
   "cell_type": "code",
   "id": "initial_id",
   "metadata": {
    "collapsed": true,
    "ExecuteTime": {
     "end_time": "2024-10-01T10:28:27.491718Z",
     "start_time": "2024-10-01T10:28:27.488380Z"
    }
   },
   "source": [
    "class Employee:\n",
    "    def __init__(self, name, email,salary):\n",
    "        self.name=name\n",
    "        self.email=email\n",
    "        self.salary=salary\n",
    "    \n",
    "    def displayEmp(self): \n",
    "        print(self.name, self.salary, self.email)\n",
    "\n",
    "emp  = Employee('ahmed', 'ahmed@gmail.com', 10000)\n",
    "print(emp.salary)  # 10000\n",
    "emp.displayEmp()  # ahmed ahmed@gmail.com 10000"
   ],
   "outputs": [
    {
     "name": "stdout",
     "output_type": "stream",
     "text": [
      "10000\n",
      "ahmed 10000 ahmed@gmail.com\n"
     ]
    }
   ],
   "execution_count": 1
  },
  {
   "metadata": {
    "ExecuteTime": {
     "end_time": "2024-10-01T10:28:48.716963Z",
     "start_time": "2024-10-01T10:28:48.709825Z"
    }
   },
   "cell_type": "code",
   "source": [
    "def cal_net_sal(salary):\n",
    "    return salary*0.8"
   ],
   "id": "5316628fb25a3be2",
   "outputs": [],
   "execution_count": 2
  },
  {
   "metadata": {
    "ExecuteTime": {
     "end_time": "2024-10-01T10:28:58.983441Z",
     "start_time": "2024-10-01T10:28:58.965331Z"
    }
   },
   "cell_type": "code",
   "source": "cal_net_sal(emp.salary)",
   "id": "fcb04deefaff415a",
   "outputs": [
    {
     "data": {
      "text/plain": [
       "8000.0"
      ]
     },
     "execution_count": 3,
     "metadata": {},
     "output_type": "execute_result"
    }
   ],
   "execution_count": 3
  },
  {
   "metadata": {
    "ExecuteTime": {
     "end_time": "2024-10-01T10:29:27.268089Z",
     "start_time": "2024-10-01T10:29:27.257991Z"
    }
   },
   "cell_type": "code",
   "source": "cal_net_sal(200000)",
   "id": "b7dcfabf5885f890",
   "outputs": [
    {
     "data": {
      "text/plain": [
       "160000.0"
      ]
     },
     "execution_count": 4,
     "metadata": {},
     "output_type": "execute_result"
    }
   ],
   "execution_count": 4
  },
  {
   "metadata": {
    "ExecuteTime": {
     "end_time": "2024-10-01T10:35:46.326744Z",
     "start_time": "2024-10-01T10:35:46.314759Z"
    }
   },
   "cell_type": "code",
   "source": [
    "class Employee:\n",
    "    def __init__(self, name, email,salary):\n",
    "        self.name=name\n",
    "        self.email=email\n",
    "        self.salary=salary\n",
    "    \n",
    "    def displayEmp(self): \n",
    "        print(self.name, self.salary, self.email)\n",
    "    \n",
    "    # helper function --> salary represent ? value passed the function\n",
    "    # this function doesn't depend on , neither object nor class \n",
    "    @staticmethod\n",
    "    def cal_net_sal(salary):\n",
    "        print(salary)\n",
    "        return salary*0.8"
   ],
   "id": "e001137c1df0692b",
   "outputs": [],
   "execution_count": 11
  },
  {
   "metadata": {
    "ExecuteTime": {
     "end_time": "2024-10-01T10:35:47.315855Z",
     "start_time": "2024-10-01T10:35:47.307059Z"
    }
   },
   "cell_type": "code",
   "source": "emp = Employee('ahmed', 'ahmed@gmail.com', 10000)",
   "id": "be0b725c0635e42e",
   "outputs": [],
   "execution_count": 12
  },
  {
   "metadata": {
    "ExecuteTime": {
     "end_time": "2024-10-01T10:36:11.094348Z",
     "start_time": "2024-10-01T10:36:11.080002Z"
    }
   },
   "cell_type": "code",
   "source": "emp.cal_net_sal(emp.salary)",
   "id": "4abf217c16857fb0",
   "outputs": [
    {
     "name": "stdout",
     "output_type": "stream",
     "text": [
      "10000\n"
     ]
    },
    {
     "data": {
      "text/plain": [
       "8000.0"
      ]
     },
     "execution_count": 14,
     "metadata": {},
     "output_type": "execute_result"
    }
   ],
   "execution_count": 14
  },
  {
   "metadata": {
    "ExecuteTime": {
     "end_time": "2024-10-01T10:36:19.655707Z",
     "start_time": "2024-10-01T10:36:19.644250Z"
    }
   },
   "cell_type": "code",
   "source": "emp.cal_net_sal(200000)",
   "id": "87f2fa73debee0c5",
   "outputs": [
    {
     "name": "stdout",
     "output_type": "stream",
     "text": [
      "200000\n"
     ]
    },
    {
     "data": {
      "text/plain": [
       "160000.0"
      ]
     },
     "execution_count": 15,
     "metadata": {},
     "output_type": "execute_result"
    }
   ],
   "execution_count": 15
  },
  {
   "metadata": {
    "ExecuteTime": {
     "end_time": "2024-10-01T10:37:26.704297Z",
     "start_time": "2024-10-01T10:37:26.691441Z"
    }
   },
   "cell_type": "code",
   "source": "Employee.cal_net_sal(763217864)",
   "id": "7e01deaefe5a6e5d",
   "outputs": [
    {
     "name": "stdout",
     "output_type": "stream",
     "text": [
      "763217864\n"
     ]
    },
    {
     "data": {
      "text/plain": [
       "610574291.2"
      ]
     },
     "execution_count": 16,
     "metadata": {},
     "output_type": "execute_result"
    }
   ],
   "execution_count": 16
  },
  {
   "metadata": {},
   "cell_type": "code",
   "outputs": [],
   "execution_count": null,
   "source": "",
   "id": "4ed08cfe6bf4f28"
  }
 ],
 "metadata": {
  "kernelspec": {
   "display_name": "Python 3",
   "language": "python",
   "name": "python3"
  },
  "language_info": {
   "codemirror_mode": {
    "name": "ipython",
    "version": 2
   },
   "file_extension": ".py",
   "mimetype": "text/x-python",
   "name": "python",
   "nbconvert_exporter": "python",
   "pygments_lexer": "ipython2",
   "version": "2.7.6"
  }
 },
 "nbformat": 4,
 "nbformat_minor": 5
}
