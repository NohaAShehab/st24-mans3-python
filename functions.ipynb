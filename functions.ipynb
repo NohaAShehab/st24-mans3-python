{
 "cells": [
  {
   "cell_type": "code",
   "execution_count": null,
   "id": "initial_id",
   "metadata": {
    "collapsed": true
   },
   "outputs": [],
   "source": [
    "\"\"\"\n",
    "    function hello(){}\n",
    "\n",
    "\"\"\"\n"
   ]
  },
  {
   "metadata": {},
   "cell_type": "markdown",
   "source": "to define a function",
   "id": "10a67bd3dae9582d"
  },
  {
   "metadata": {
    "ExecuteTime": {
     "end_time": "2024-09-29T07:58:33.180238Z",
     "start_time": "2024-09-29T07:58:33.172938Z"
    }
   },
   "cell_type": "code",
   "source": [
    "def myfun():\n",
    "    pass \n",
    "    "
   ],
   "id": "287cfe4d5754ff8b",
   "outputs": [],
   "execution_count": 1
  },
  {
   "metadata": {},
   "cell_type": "markdown",
   "source": "call the function ",
   "id": "8561a6fe5f6b3cad"
  },
  {
   "metadata": {
    "ExecuteTime": {
     "end_time": "2024-09-29T07:59:57.477831Z",
     "start_time": "2024-09-29T07:59:57.470023Z"
    }
   },
   "cell_type": "code",
   "source": [
    "res=myfun()\n",
    "print(res)"
   ],
   "id": "626eea1575a55f87",
   "outputs": [
    {
     "name": "stdout",
     "output_type": "stream",
     "text": [
      "None\n"
     ]
    }
   ],
   "execution_count": 3
  },
  {
   "metadata": {},
   "cell_type": "markdown",
   "source": "function do something",
   "id": "b9deb5a1818a17ad"
  },
  {
   "metadata": {
    "ExecuteTime": {
     "end_time": "2024-09-29T08:00:37.440334Z",
     "start_time": "2024-09-29T08:00:37.436956Z"
    }
   },
   "cell_type": "code",
   "source": [
    "def sayhello():\n",
    "    print(\"hello world\")\n",
    "\n",
    "sayhello()"
   ],
   "id": "ee32f2809ebf9f13",
   "outputs": [
    {
     "name": "stdout",
     "output_type": "stream",
     "text": [
      "hello world\n"
     ]
    }
   ],
   "execution_count": 4
  },
  {
   "metadata": {
    "ExecuteTime": {
     "end_time": "2024-09-29T08:04:14.447943Z",
     "start_time": "2024-09-29T08:04:14.443203Z"
    }
   },
   "cell_type": "code",
   "source": [
    "def sumnum(num1, num2):\n",
    "    res = num1 + num2\n",
    "    print(res)\n",
    "    return \n",
    "    "
   ],
   "id": "3410a1bf53ed5e61",
   "outputs": [],
   "execution_count": 8
  },
  {
   "metadata": {
    "ExecuteTime": {
     "end_time": "2024-09-29T08:04:17.300650Z",
     "start_time": "2024-09-29T08:04:17.297038Z"
    }
   },
   "cell_type": "code",
   "source": [
    "res= sumnum(1, 2)\n",
    "print(res)\n"
   ],
   "id": "3df2e9449e97e15c",
   "outputs": [
    {
     "name": "stdout",
     "output_type": "stream",
     "text": [
      "3\n",
      "None\n"
     ]
    }
   ],
   "execution_count": 9
  },
  {
   "metadata": {
    "ExecuteTime": {
     "end_time": "2024-09-29T08:04:26.897410Z",
     "start_time": "2024-09-29T08:04:26.892346Z"
    }
   },
   "cell_type": "code",
   "source": [
    "def multiply(num1, num2):\n",
    "    res = num1 * num2\n",
    "    return res\n"
   ],
   "id": "685ff0d73c5a9d75",
   "outputs": [],
   "execution_count": 10
  },
  {
   "metadata": {
    "ExecuteTime": {
     "end_time": "2024-09-29T08:04:32.366851Z",
     "start_time": "2024-09-29T08:04:32.361267Z"
    }
   },
   "cell_type": "code",
   "source": [
    "r = multiply(1, 2)\n",
    "print(r) # return of the function"
   ],
   "id": "f97da0341016db8c",
   "outputs": [
    {
     "name": "stdout",
     "output_type": "stream",
     "text": [
      "2\n"
     ]
    }
   ],
   "execution_count": 11
  },
  {
   "metadata": {
    "ExecuteTime": {
     "end_time": "2024-09-29T08:05:11.236718Z",
     "start_time": "2024-09-29T08:05:11.231445Z"
    }
   },
   "cell_type": "code",
   "source": [
    "def sumnum2(num1, num2):\n",
    "    print(f\"num1={num1}, num2={num2}\")\n",
    "    res = num1 + num2\n",
    "    print(res)\n",
    "    "
   ],
   "id": "5dd9529dcb2067cf",
   "outputs": [],
   "execution_count": 12
  },
  {
   "metadata": {
    "ExecuteTime": {
     "end_time": "2024-09-29T08:05:16.349165Z",
     "start_time": "2024-09-29T08:05:16.344729Z"
    }
   },
   "cell_type": "code",
   "source": "sumnum2(3,4)",
   "id": "225d4d92f863dab",
   "outputs": [
    {
     "name": "stdout",
     "output_type": "stream",
     "text": [
      "num1=3, num2=4\n",
      "7\n"
     ]
    }
   ],
   "execution_count": 13
  },
  {
   "metadata": {
    "ExecuteTime": {
     "end_time": "2024-09-29T08:05:47.131154Z",
     "start_time": "2024-09-29T08:05:47.127424Z"
    }
   },
   "cell_type": "code",
   "source": "sumnum2(\"ahmed\", \"iti\")",
   "id": "93fbede900e4cfff",
   "outputs": [
    {
     "name": "stdout",
     "output_type": "stream",
     "text": [
      "num1=ahmed, num2=iti\n",
      "ahmediti\n"
     ]
    }
   ],
   "execution_count": 14
  },
  {
   "metadata": {
    "ExecuteTime": {
     "end_time": "2024-09-29T08:06:10.253912Z",
     "start_time": "2024-09-29T08:06:10.036949Z"
    }
   },
   "cell_type": "code",
   "source": "sumnum2(4,'iti')",
   "id": "de6346c5c56ae26a",
   "outputs": [
    {
     "name": "stdout",
     "output_type": "stream",
     "text": [
      "num1=4, num2=iti\n"
     ]
    },
    {
     "ename": "TypeError",
     "evalue": "unsupported operand type(s) for +: 'int' and 'str'",
     "output_type": "error",
     "traceback": [
      "\u001B[0;31m---------------------------------------------------------------------------\u001B[0m",
      "\u001B[0;31mTypeError\u001B[0m                                 Traceback (most recent call last)",
      "Cell \u001B[0;32mIn[15], line 1\u001B[0m\n\u001B[0;32m----> 1\u001B[0m \u001B[43msumnum2\u001B[49m\u001B[43m(\u001B[49m\u001B[38;5;241;43m4\u001B[39;49m\u001B[43m,\u001B[49m\u001B[38;5;124;43m'\u001B[39;49m\u001B[38;5;124;43miti\u001B[39;49m\u001B[38;5;124;43m'\u001B[39;49m\u001B[43m)\u001B[49m\n",
      "Cell \u001B[0;32mIn[12], line 3\u001B[0m, in \u001B[0;36msumnum2\u001B[0;34m(num1, num2)\u001B[0m\n\u001B[1;32m      1\u001B[0m \u001B[38;5;28;01mdef\u001B[39;00m \u001B[38;5;21msumnum2\u001B[39m(num1, num2):\n\u001B[1;32m      2\u001B[0m     \u001B[38;5;28mprint\u001B[39m(\u001B[38;5;124mf\u001B[39m\u001B[38;5;124m\"\u001B[39m\u001B[38;5;124mnum1=\u001B[39m\u001B[38;5;132;01m{\u001B[39;00mnum1\u001B[38;5;132;01m}\u001B[39;00m\u001B[38;5;124m, num2=\u001B[39m\u001B[38;5;132;01m{\u001B[39;00mnum2\u001B[38;5;132;01m}\u001B[39;00m\u001B[38;5;124m\"\u001B[39m)\n\u001B[0;32m----> 3\u001B[0m     res \u001B[38;5;241m=\u001B[39m \u001B[43mnum1\u001B[49m\u001B[43m \u001B[49m\u001B[38;5;241;43m+\u001B[39;49m\u001B[43m \u001B[49m\u001B[43mnum2\u001B[49m\n\u001B[1;32m      4\u001B[0m     \u001B[38;5;28mprint\u001B[39m(res)\n",
      "\u001B[0;31mTypeError\u001B[0m: unsupported operand type(s) for +: 'int' and 'str'"
     ]
    }
   ],
   "execution_count": 15
  },
  {
   "metadata": {
    "ExecuteTime": {
     "end_time": "2024-09-29T08:07:32.197856Z",
     "start_time": "2024-09-29T08:07:32.192445Z"
    }
   },
   "cell_type": "code",
   "source": [
    "def sumnum3(num1: int, num2: int):\n",
    "    print(f\"num1={num1}, num2={num2}\")\n",
    "    res = num1 + num2\n",
    "    print(res)\n",
    "    "
   ],
   "id": "f0fb2a01dd7575ee",
   "outputs": [],
   "execution_count": 16
  },
  {
   "metadata": {
    "ExecuteTime": {
     "end_time": "2024-09-29T08:07:41.575920Z",
     "start_time": "2024-09-29T08:07:41.571780Z"
    }
   },
   "cell_type": "code",
   "source": "sumnum3(4,4)",
   "id": "5cb0fb439b1c6099",
   "outputs": [
    {
     "name": "stdout",
     "output_type": "stream",
     "text": [
      "num1=4, num2=4\n",
      "8\n"
     ]
    }
   ],
   "execution_count": 17
  },
  {
   "metadata": {
    "ExecuteTime": {
     "end_time": "2024-09-29T08:07:58.980607Z",
     "start_time": "2024-09-29T08:07:58.977553Z"
    }
   },
   "cell_type": "code",
   "source": "sumnum3(\"ahmed\", \"iti\")",
   "id": "f89b03b6d4d8fa26",
   "outputs": [
    {
     "name": "stdout",
     "output_type": "stream",
     "text": [
      "num1=ahmed, num2=iti\n",
      "ahmediti\n"
     ]
    }
   ],
   "execution_count": 18
  },
  {
   "metadata": {
    "ExecuteTime": {
     "end_time": "2024-09-29T08:11:54.110442Z",
     "start_time": "2024-09-29T08:11:54.105563Z"
    }
   },
   "cell_type": "code",
   "source": [
    "def sumnum4(num1: int, num2: int): # clean code \n",
    "    print(f\"num1={num1}, num2={num2}\")\n",
    "    if type(num1)==int and type(num2)==int:\n",
    "        res = num1 + num2\n",
    "        print(res)\n",
    "    else:\n",
    "        print(\"num1, num2 must be integers\")\n",
    "\n",
    "sumnum4(4,4)\n",
    "sumnum4(\"ahmed\", \"iti\")"
   ],
   "id": "74e70eb66923768d",
   "outputs": [
    {
     "name": "stdout",
     "output_type": "stream",
     "text": [
      "num1=4, num2=4\n",
      "8\n",
      "num1=ahmed, num2=iti\n",
      "num1, num2 must be integers\n"
     ]
    }
   ],
   "execution_count": 19
  },
  {
   "metadata": {
    "ExecuteTime": {
     "end_time": "2024-09-29T08:12:25.018040Z",
     "start_time": "2024-09-29T08:12:25.006386Z"
    }
   },
   "cell_type": "code",
   "source": "print(isinstance(\"2\", int))",
   "id": "74508720e981cace",
   "outputs": [
    {
     "name": "stdout",
     "output_type": "stream",
     "text": [
      "False\n"
     ]
    }
   ],
   "execution_count": 21
  },
  {
   "metadata": {
    "ExecuteTime": {
     "end_time": "2024-09-29T08:14:03.494128Z",
     "start_time": "2024-09-29T08:14:03.490515Z"
    }
   },
   "cell_type": "code",
   "source": [
    "def sumnum5(num1: int, num2: int):\n",
    "    if isinstance(num1, int) and isinstance(num2, int):\n",
    "        res = num1 + num2\n",
    "        print(res)\n",
    "    else:\n",
    "        print(\"num1, num2 must be integers\")\n"
   ],
   "id": "5ee41e78be375f89",
   "outputs": [],
   "execution_count": 22
  },
  {
   "metadata": {
    "ExecuteTime": {
     "end_time": "2024-09-29T08:14:11.529882Z",
     "start_time": "2024-09-29T08:14:11.510736Z"
    }
   },
   "cell_type": "code",
   "source": "sumnum5(4,5,4,10)",
   "id": "be751874659679fa",
   "outputs": [
    {
     "ename": "TypeError",
     "evalue": "sumnum5() takes 2 positional arguments but 4 were given",
     "output_type": "error",
     "traceback": [
      "\u001B[0;31m---------------------------------------------------------------------------\u001B[0m",
      "\u001B[0;31mTypeError\u001B[0m                                 Traceback (most recent call last)",
      "Cell \u001B[0;32mIn[23], line 1\u001B[0m\n\u001B[0;32m----> 1\u001B[0m \u001B[43msumnum5\u001B[49m\u001B[43m(\u001B[49m\u001B[38;5;241;43m4\u001B[39;49m\u001B[43m,\u001B[49m\u001B[38;5;241;43m5\u001B[39;49m\u001B[43m,\u001B[49m\u001B[38;5;241;43m4\u001B[39;49m\u001B[43m,\u001B[49m\u001B[38;5;241;43m10\u001B[39;49m\u001B[43m)\u001B[49m\n",
      "\u001B[0;31mTypeError\u001B[0m: sumnum5() takes 2 positional arguments but 4 were given"
     ]
    }
   ],
   "execution_count": 23
  },
  {
   "metadata": {
    "ExecuteTime": {
     "end_time": "2024-09-29T08:16:19.100624Z",
     "start_time": "2024-09-29T08:16:19.037637Z"
    }
   },
   "cell_type": "code",
   "source": "sumnum5(\"ahmed\")",
   "id": "1013bacc380c7932",
   "outputs": [
    {
     "ename": "TypeError",
     "evalue": "sumnum5() missing 1 required positional argument: 'num2'",
     "output_type": "error",
     "traceback": [
      "\u001B[0;31m---------------------------------------------------------------------------\u001B[0m",
      "\u001B[0;31mTypeError\u001B[0m                                 Traceback (most recent call last)",
      "Cell \u001B[0;32mIn[24], line 1\u001B[0m\n\u001B[0;32m----> 1\u001B[0m \u001B[43msumnum5\u001B[49m\u001B[43m(\u001B[49m\u001B[38;5;124;43m\"\u001B[39;49m\u001B[38;5;124;43mahmed\u001B[39;49m\u001B[38;5;124;43m\"\u001B[39;49m\u001B[43m)\u001B[49m\n",
      "\u001B[0;31mTypeError\u001B[0m: sumnum5() missing 1 required positional argument: 'num2'"
     ]
    }
   ],
   "execution_count": 24
  },
  {
   "metadata": {},
   "cell_type": "markdown",
   "source": "# functions with default arguments ",
   "id": "841b7aa245a5ef2"
  },
  {
   "metadata": {
    "ExecuteTime": {
     "end_time": "2024-09-29T08:17:49.578335Z",
     "start_time": "2024-09-29T08:17:49.566037Z"
    }
   },
   "cell_type": "code",
   "source": [
    "def mulnums(num1, num2=10):\n",
    "    print(f\"num1={num1}, num2={num2}\")\n",
    "    res = num1 * num2\n",
    "    print(res)\n",
    "    "
   ],
   "id": "904b479b3e1bac9f",
   "outputs": [],
   "execution_count": 25
  },
  {
   "metadata": {
    "ExecuteTime": {
     "end_time": "2024-09-29T08:17:57.205748Z",
     "start_time": "2024-09-29T08:17:57.199567Z"
    }
   },
   "cell_type": "code",
   "source": "mulnums(4,5)",
   "id": "25e9c07489a2be6e",
   "outputs": [
    {
     "name": "stdout",
     "output_type": "stream",
     "text": [
      "num1=4, num2=5\n",
      "20\n"
     ]
    }
   ],
   "execution_count": 26
  },
  {
   "metadata": {
    "ExecuteTime": {
     "end_time": "2024-09-29T08:18:02.423372Z",
     "start_time": "2024-09-29T08:18:02.419494Z"
    }
   },
   "cell_type": "code",
   "source": "mulnums(4)",
   "id": "d1f6ee88819aa8f",
   "outputs": [
    {
     "name": "stdout",
     "output_type": "stream",
     "text": [
      "num1=4, num2=10\n",
      "40\n"
     ]
    }
   ],
   "execution_count": 27
  },
  {
   "metadata": {},
   "cell_type": "markdown",
   "source": "# functions with unknow number of args? ",
   "id": "e4eb0c7543df858c"
  },
  {
   "metadata": {
    "ExecuteTime": {
     "end_time": "2024-09-29T08:19:57.838455Z",
     "start_time": "2024-09-29T08:19:57.825965Z"
    }
   },
   "cell_type": "code",
   "source": [
    "def askfornums(*nums):  # * --> represent zero or more argument\n",
    "    print(f\"nums={nums}\")\n",
    "    \n",
    "askfornums(4, 10)"
   ],
   "id": "56f17fe348ae3d2f",
   "outputs": [
    {
     "name": "stdout",
     "output_type": "stream",
     "text": [
      "nums=(4, 10)\n"
     ]
    }
   ],
   "execution_count": 30
  },
  {
   "metadata": {},
   "cell_type": "markdown",
   "source": "# function with keyword argument ??",
   "id": "1b42131bafd5fccc"
  },
  {
   "metadata": {
    "ExecuteTime": {
     "end_time": "2024-09-29T08:21:29.479872Z",
     "start_time": "2024-09-29T08:21:29.475861Z"
    }
   },
   "cell_type": "code",
   "source": [
    "def askforinfo(*info):\n",
    "    print(f\"info={info}\")\n",
    "    \n",
    "askforinfo(\"noha\", 'iti')"
   ],
   "id": "88c9457321d0b421",
   "outputs": [
    {
     "name": "stdout",
     "output_type": "stream",
     "text": [
      "info=('noha', 'iti')\n"
     ]
    }
   ],
   "execution_count": 31
  },
  {
   "metadata": {
    "ExecuteTime": {
     "end_time": "2024-09-29T08:22:13.152312Z",
     "start_time": "2024-09-29T08:22:13.146786Z"
    }
   },
   "cell_type": "code",
   "source": [
    "def askforinfo(**info):  # arugments ?? --> keyword argument\n",
    "    print(f\"info={info}\")\n",
    "    \n",
    "askforinfo(name='noha', work='iti')"
   ],
   "id": "237c2ecd8bebd989",
   "outputs": [
    {
     "name": "stdout",
     "output_type": "stream",
     "text": [
      "info={'name': 'noha', 'work': 'iti'}\n"
     ]
    }
   ],
   "execution_count": 32
  },
  {
   "metadata": {},
   "cell_type": "code",
   "outputs": [],
   "execution_count": null,
   "source": "",
   "id": "9a6f93a7afe0ca24"
  }
 ],
 "metadata": {
  "kernelspec": {
   "display_name": "Python 3",
   "language": "python",
   "name": "python3"
  },
  "language_info": {
   "codemirror_mode": {
    "name": "ipython",
    "version": 2
   },
   "file_extension": ".py",
   "mimetype": "text/x-python",
   "name": "python",
   "nbconvert_exporter": "python",
   "pygments_lexer": "ipython2",
   "version": "2.7.6"
  }
 },
 "nbformat": 4,
 "nbformat_minor": 5
}
