{
 "cells": [
  {
   "cell_type": "code",
   "id": "initial_id",
   "metadata": {
    "collapsed": true,
    "ExecuteTime": {
     "end_time": "2024-10-02T08:00:43.054137Z",
     "start_time": "2024-10-02T08:00:43.046723Z"
    }
   },
   "source": [
    "class Employee:\n",
    "    def __init__(self, name, email, salary):\n",
    "        self.name = name\n",
    "        self._email = email\n",
    "        self.salary = salary  # call property setter while creating object \n",
    "        \n",
    "    @property\n",
    "    def salary(self):\n",
    "        return self.__salary\n",
    "\n",
    "    @salary.setter\n",
    "    def salary(self, salary):\n",
    "        if isinstance(salary, int) or isinstance(salary, float) and salary > 0:\n",
    "            self.__salary = salary\n",
    "        else:\n",
    "            raise Exception('Salary must be an integer or float greater than 0 ')"
   ],
   "outputs": [],
   "execution_count": 1
  },
  {
   "metadata": {
    "ExecuteTime": {
     "end_time": "2024-10-02T08:00:47.263703Z",
     "start_time": "2024-10-02T08:00:47.260171Z"
    }
   },
   "cell_type": "code",
   "source": "emp = Employee('<NAME>', '<EMAIL>', 12000)",
   "id": "2872668fd86b4e25",
   "outputs": [],
   "execution_count": 2
  },
  {
   "metadata": {
    "ExecuteTime": {
     "end_time": "2024-10-02T08:00:55.962079Z",
     "start_time": "2024-10-02T08:00:55.956389Z"
    }
   },
   "cell_type": "code",
   "source": "print(emp)  # print object address ",
   "id": "c4c1c04866a34b4d",
   "outputs": [
    {
     "name": "stdout",
     "output_type": "stream",
     "text": [
      "<__main__.Employee object at 0x722c00284390>\n"
     ]
    }
   ],
   "execution_count": 3
  },
  {
   "metadata": {},
   "cell_type": "markdown",
   "source": "# control what is displayed when you print the object",
   "id": "39d2db96511bbed1"
  },
  {
   "metadata": {
    "ExecuteTime": {
     "end_time": "2024-10-02T08:04:56.027592Z",
     "start_time": "2024-10-02T08:04:56.021695Z"
    }
   },
   "cell_type": "code",
   "source": [
    "class Employee:\n",
    "    def __init__(self, name, email, salary):\n",
    "        self.name = name\n",
    "        self._email = email\n",
    "        self.salary = salary  # call property setter while creating object \n",
    "        \n",
    "    @property\n",
    "    def salary(self):\n",
    "        return self.__salary\n",
    "\n",
    "    @salary.setter\n",
    "    def salary(self, salary):\n",
    "        if isinstance(salary, int) or isinstance(salary, float) and salary > 0:\n",
    "            self.__salary = salary\n",
    "        else:\n",
    "            raise Exception('Salary must be an integer or float greater than 0 ')\n",
    "        \n",
    "    def __str__(self):\n",
    "        # function with string \n",
    "        # return \"Employee object\"\n",
    "        return f\"{self.name}\""
   ],
   "id": "2486f2af19e947f0",
   "outputs": [],
   "execution_count": 14
  },
  {
   "metadata": {
    "ExecuteTime": {
     "end_time": "2024-10-02T08:04:57.537417Z",
     "start_time": "2024-10-02T08:04:57.533429Z"
    }
   },
   "cell_type": "code",
   "source": [
    "emp1 = Employee('<NAME>', '<EMAIL>', 12000)\n",
    "print(emp1)"
   ],
   "id": "f9afe09863a987d2",
   "outputs": [
    {
     "name": "stdout",
     "output_type": "stream",
     "text": [
      "<NAME>\n"
     ]
    }
   ],
   "execution_count": 15
  },
  {
   "metadata": {
    "ExecuteTime": {
     "end_time": "2024-10-02T08:04:59.837996Z",
     "start_time": "2024-10-02T08:04:59.834475Z"
    }
   },
   "cell_type": "code",
   "source": "emp2=Employee('Noha', '<EMAIL>', 12000)",
   "id": "62e6cda891341ba1",
   "outputs": [],
   "execution_count": 16
  },
  {
   "metadata": {
    "ExecuteTime": {
     "end_time": "2024-10-02T08:05:02.639974Z",
     "start_time": "2024-10-02T08:05:02.636217Z"
    }
   },
   "cell_type": "code",
   "source": "print(emp2)",
   "id": "e13b2a4c3aecdb0b",
   "outputs": [
    {
     "name": "stdout",
     "output_type": "stream",
     "text": [
      "Noha\n"
     ]
    }
   ],
   "execution_count": 17
  },
  {
   "metadata": {
    "ExecuteTime": {
     "end_time": "2024-10-02T08:05:11.801575Z",
     "start_time": "2024-10-02T08:05:11.797567Z"
    }
   },
   "cell_type": "code",
   "source": "print(emp1.__dict__)",
   "id": "307c9c3f4e487388",
   "outputs": [
    {
     "name": "stdout",
     "output_type": "stream",
     "text": [
      "{'name': '<NAME>', '_email': '<EMAIL>', '_Employee__salary': 12000}\n"
     ]
    }
   ],
   "execution_count": 18
  },
  {
   "metadata": {},
   "cell_type": "code",
   "outputs": [],
   "execution_count": null,
   "source": "print(emp1)  # check if __str__ --> call it if not ? print object address ",
   "id": "36cd96b927280d06"
  },
  {
   "metadata": {},
   "cell_type": "markdown",
   "source": "# Call the object ",
   "id": "259e8d2a2a7ec9f0"
  },
  {
   "metadata": {
    "ExecuteTime": {
     "end_time": "2024-10-02T08:07:08.295643Z",
     "start_time": "2024-10-02T08:07:08.288021Z"
    }
   },
   "cell_type": "code",
   "source": [
    "class Employee:\n",
    "    def __init__(self, name, email, salary):\n",
    "        self.name = name\n",
    "        self._email = email\n",
    "        self.salary = salary  # call property setter while creating object \n",
    "        \n",
    "    @property\n",
    "    def salary(self):\n",
    "        return self.__salary\n",
    "\n",
    "    @salary.setter\n",
    "    def salary(self, salary):\n",
    "        if isinstance(salary, int) or isinstance(salary, float) and salary > 0:\n",
    "            self.__salary = salary\n",
    "        else:\n",
    "            raise Exception('Salary must be an integer or float greater than 0 ')\n",
    "        \n",
    "    def __str__(self):\n",
    "        return f\"{self.name}\""
   ],
   "id": "a848272c23ddf543",
   "outputs": [],
   "execution_count": 19
  },
  {
   "metadata": {
    "ExecuteTime": {
     "end_time": "2024-10-02T08:07:17.100812Z",
     "start_time": "2024-10-02T08:07:17.096501Z"
    }
   },
   "cell_type": "code",
   "source": [
    "emp = Employee('<NAME>', '<EMAIL>', 12000)\n",
    "print(emp)"
   ],
   "id": "4415e30bc67bc316",
   "outputs": [
    {
     "name": "stdout",
     "output_type": "stream",
     "text": [
      "<NAME>\n"
     ]
    }
   ],
   "execution_count": 20
  },
  {
   "metadata": {
    "ExecuteTime": {
     "end_time": "2024-10-02T08:07:20.870240Z",
     "start_time": "2024-10-02T08:07:20.688790Z"
    }
   },
   "cell_type": "code",
   "source": "emp()",
   "id": "ceacd725b7e91a25",
   "outputs": [
    {
     "ename": "TypeError",
     "evalue": "'Employee' object is not callable",
     "output_type": "error",
     "traceback": [
      "\u001B[0;31m---------------------------------------------------------------------------\u001B[0m",
      "\u001B[0;31mTypeError\u001B[0m                                 Traceback (most recent call last)",
      "Cell \u001B[0;32mIn[21], line 1\u001B[0m\n\u001B[0;32m----> 1\u001B[0m \u001B[43memp\u001B[49m\u001B[43m(\u001B[49m\u001B[43m)\u001B[49m\n",
      "\u001B[0;31mTypeError\u001B[0m: 'Employee' object is not callable"
     ]
    }
   ],
   "execution_count": 21
  },
  {
   "metadata": {
    "ExecuteTime": {
     "end_time": "2024-10-02T08:08:22.438247Z",
     "start_time": "2024-10-02T08:08:22.433406Z"
    }
   },
   "cell_type": "code",
   "source": [
    "class Employee:\n",
    "    def __init__(self, name, email, salary):\n",
    "        self.name = name\n",
    "        self._email = email\n",
    "        self.salary = salary  # call property setter while creating object \n",
    "        \n",
    "    @property\n",
    "    def salary(self):\n",
    "        return self.__salary\n",
    "\n",
    "    @salary.setter\n",
    "    def salary(self, salary):\n",
    "        if isinstance(salary, int) or isinstance(salary, float) and salary > 0:\n",
    "            self.__salary = salary\n",
    "        else:\n",
    "            raise Exception('Salary must be an integer or float greater than 0 ')\n",
    "        \n",
    "    def __str__(self):\n",
    "        return f\"{self.name}\"\n",
    "    \n",
    "    def __call__(self, *args, **kwargs):\n",
    "        print(\"object is being called\")"
   ],
   "id": "1501124f8ae13183",
   "outputs": [],
   "execution_count": 22
  },
  {
   "metadata": {
    "ExecuteTime": {
     "end_time": "2024-10-02T08:08:34.941686Z",
     "start_time": "2024-10-02T08:08:34.932876Z"
    }
   },
   "cell_type": "code",
   "source": [
    "emp1 = Employee('<NAME>', '<EMAIL>', 12000)\n",
    "print(emp1)\n",
    "emp1()"
   ],
   "id": "409d8b735e9b90bb",
   "outputs": [
    {
     "name": "stdout",
     "output_type": "stream",
     "text": [
      "<NAME>\n",
      "object is being called\n"
     ]
    }
   ],
   "execution_count": 23
  },
  {
   "metadata": {},
   "cell_type": "markdown",
   "source": "# len",
   "id": "bb074247da3205b0"
  },
  {
   "metadata": {
    "ExecuteTime": {
     "end_time": "2024-10-02T08:09:26.880924Z",
     "start_time": "2024-10-02T08:09:26.831597Z"
    }
   },
   "cell_type": "code",
   "source": "print(len(emp1))",
   "id": "890c48fe1cda0b6f",
   "outputs": [
    {
     "ename": "TypeError",
     "evalue": "object of type 'Employee' has no len()",
     "output_type": "error",
     "traceback": [
      "\u001B[0;31m---------------------------------------------------------------------------\u001B[0m",
      "\u001B[0;31mTypeError\u001B[0m                                 Traceback (most recent call last)",
      "Cell \u001B[0;32mIn[24], line 1\u001B[0m\n\u001B[0;32m----> 1\u001B[0m \u001B[38;5;28mprint\u001B[39m(\u001B[38;5;28;43mlen\u001B[39;49m\u001B[43m(\u001B[49m\u001B[43memp1\u001B[49m\u001B[43m)\u001B[49m)\n",
      "\u001B[0;31mTypeError\u001B[0m: object of type 'Employee' has no len()"
     ]
    }
   ],
   "execution_count": 24
  },
  {
   "metadata": {
    "ExecuteTime": {
     "end_time": "2024-10-02T08:10:40.352084Z",
     "start_time": "2024-10-02T08:10:40.345653Z"
    }
   },
   "cell_type": "code",
   "source": [
    "class Employee:\n",
    "    def __init__(self, name, email, salary):\n",
    "        self.name = name\n",
    "        self._email = email\n",
    "        self.salary = salary  # call property setter while creating object \n",
    "        \n",
    "    @property\n",
    "    def salary(self):\n",
    "        return self.__salary\n",
    "\n",
    "    @salary.setter\n",
    "    def salary(self, salary):\n",
    "        if isinstance(salary, int) or isinstance(salary, float) and salary > 0:\n",
    "            self.__salary = salary\n",
    "        else:\n",
    "            raise Exception('Salary must be an integer or float greater than 0 ')\n",
    "        \n",
    "    def __str__(self):\n",
    "        return f\"{self.name}\"\n",
    "    \n",
    "    def __len__(self):\n",
    "        # must return with number \n",
    "        return len(self.__dict__)"
   ],
   "id": "f8e28f984b67b2ae",
   "outputs": [],
   "execution_count": 25
  },
  {
   "metadata": {
    "ExecuteTime": {
     "end_time": "2024-10-02T08:11:16.639789Z",
     "start_time": "2024-10-02T08:11:16.635460Z"
    }
   },
   "cell_type": "code",
   "source": [
    "emp1 = Employee('<NAME>', '<EMAIL>', 12000)\n",
    "print(len(emp1))"
   ],
   "id": "8d160881ca4d34b3",
   "outputs": [
    {
     "name": "stdout",
     "output_type": "stream",
     "text": [
      "3\n"
     ]
    }
   ],
   "execution_count": 26
  },
  {
   "metadata": {
    "ExecuteTime": {
     "end_time": "2024-10-02T08:11:30.891493Z",
     "start_time": "2024-10-02T08:11:30.876788Z"
    }
   },
   "cell_type": "code",
   "source": [
    "emp1.city = \"abc\"\n",
    "print(len(emp1))"
   ],
   "id": "1b1c972c4efb522",
   "outputs": [
    {
     "name": "stdout",
     "output_type": "stream",
     "text": [
      "4\n"
     ]
    }
   ],
   "execution_count": 28
  },
  {
   "metadata": {},
   "cell_type": "code",
   "outputs": [],
   "execution_count": null,
   "source": "",
   "id": "5676244dc408541b"
  }
 ],
 "metadata": {
  "kernelspec": {
   "display_name": "Python 3",
   "language": "python",
   "name": "python3"
  },
  "language_info": {
   "codemirror_mode": {
    "name": "ipython",
    "version": 2
   },
   "file_extension": ".py",
   "mimetype": "text/x-python",
   "name": "python",
   "nbconvert_exporter": "python",
   "pygments_lexer": "ipython2",
   "version": "2.7.6"
  }
 },
 "nbformat": 4,
 "nbformat_minor": 5
}
