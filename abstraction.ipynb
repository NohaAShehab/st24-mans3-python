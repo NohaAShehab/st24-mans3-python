{
 "cells": [
  {
   "metadata": {},
   "cell_type": "code",
   "outputs": [],
   "execution_count": null,
   "source": "",
   "id": "2c2c51f52eda1b1"
  },
  {
   "cell_type": "code",
   "id": "initial_id",
   "metadata": {
    "collapsed": true,
    "ExecuteTime": {
     "end_time": "2024-10-02T08:38:35.609027Z",
     "start_time": "2024-10-02T08:38:35.606177Z"
    }
   },
   "source": [
    "# abstraction?  architecture with details --> cannot be instantiated\n",
    "\n",
    "# python  --> inherit from class ABC (Abstract Base Class) and  define at least one abstract method "
   ],
   "outputs": [],
   "execution_count": 1
  },
  {
   "metadata": {
    "ExecuteTime": {
     "end_time": "2024-10-02T08:39:16.931183Z",
     "start_time": "2024-10-02T08:39:16.922948Z"
    }
   },
   "cell_type": "code",
   "source": [
    "from abc import ABC, abstractmethod\n",
    "from os.path import isabs\n",
    "\n",
    "\n",
    "class Shape(ABC):\n",
    "    @abstractmethod\n",
    "    def area(self):\n",
    "        pass \n",
    "    \n",
    "# this is abstract class \n"
   ],
   "id": "c92b9cf8e2a14bf",
   "outputs": [],
   "execution_count": 2
  },
  {
   "metadata": {
    "ExecuteTime": {
     "end_time": "2024-10-02T08:39:27.490126Z",
     "start_time": "2024-10-02T08:39:27.215221Z"
    }
   },
   "cell_type": "code",
   "source": "s = Shape()",
   "id": "44c23cc98b90107f",
   "outputs": [
    {
     "ename": "TypeError",
     "evalue": "Can't instantiate abstract class Shape with abstract method area",
     "output_type": "error",
     "traceback": [
      "\u001B[0;31m---------------------------------------------------------------------------\u001B[0m",
      "\u001B[0;31mTypeError\u001B[0m                                 Traceback (most recent call last)",
      "Cell \u001B[0;32mIn[3], line 1\u001B[0m\n\u001B[0;32m----> 1\u001B[0m s \u001B[38;5;241m=\u001B[39m \u001B[43mShape\u001B[49m\u001B[43m(\u001B[49m\u001B[43m)\u001B[49m\n",
      "\u001B[0;31mTypeError\u001B[0m: Can't instantiate abstract class Shape with abstract method area"
     ]
    }
   ],
   "execution_count": 3
  },
  {
   "metadata": {
    "ExecuteTime": {
     "end_time": "2024-10-02T08:40:07.425257Z",
     "start_time": "2024-10-02T08:40:07.405061Z"
    }
   },
   "cell_type": "code",
   "source": [
    "class Rectangle(Shape):\n",
    "    pass \n",
    "\n",
    "r= Rectangle()"
   ],
   "id": "683e80d55ca27e48",
   "outputs": [
    {
     "ename": "TypeError",
     "evalue": "Can't instantiate abstract class Rectangle with abstract method area",
     "output_type": "error",
     "traceback": [
      "\u001B[0;31m---------------------------------------------------------------------------\u001B[0m",
      "\u001B[0;31mTypeError\u001B[0m                                 Traceback (most recent call last)",
      "Cell \u001B[0;32mIn[4], line 4\u001B[0m\n\u001B[1;32m      1\u001B[0m \u001B[38;5;28;01mclass\u001B[39;00m \u001B[38;5;21;01mRectangle\u001B[39;00m(Shape):\n\u001B[1;32m      2\u001B[0m     \u001B[38;5;28;01mpass\u001B[39;00m \n\u001B[0;32m----> 4\u001B[0m r\u001B[38;5;241m=\u001B[39m \u001B[43mRectangle\u001B[49m\u001B[43m(\u001B[49m\u001B[43m)\u001B[49m\n",
      "\u001B[0;31mTypeError\u001B[0m: Can't instantiate abstract class Rectangle with abstract method area"
     ]
    }
   ],
   "execution_count": 4
  },
  {
   "metadata": {
    "ExecuteTime": {
     "end_time": "2024-10-02T08:40:45.602261Z",
     "start_time": "2024-10-02T08:40:45.591319Z"
    }
   },
   "cell_type": "code",
   "source": [
    "class RectangleShape(Shape):\n",
    "    def area(self):\n",
    "        print(\"area\")\n",
    "rr = RectangleShape()\n"
   ],
   "id": "36e9d0a154935a08",
   "outputs": [],
   "execution_count": 5
  },
  {
   "metadata": {
    "ExecuteTime": {
     "end_time": "2024-10-02T08:41:30.435213Z",
     "start_time": "2024-10-02T08:41:30.431519Z"
    }
   },
   "cell_type": "code",
   "source": [
    "# this isn't an abstract class \n",
    "class BB(ABC):\n",
    "    pass \n",
    "\n",
    "obj = BB()\n",
    "print(obj)"
   ],
   "id": "345d3346824fb33d",
   "outputs": [
    {
     "name": "stdout",
     "output_type": "stream",
     "text": [
      "<__main__.BB object at 0x7bfb9aa60250>\n"
     ]
    }
   ],
   "execution_count": 7
  },
  {
   "metadata": {
    "ExecuteTime": {
     "end_time": "2024-10-02T08:44:19.352573Z",
     "start_time": "2024-10-02T08:44:19.336322Z"
    }
   },
   "cell_type": "code",
   "source": [
    "# all class in python --> implicitly extends from class object \n",
    "\n",
    "class Test:\n",
    "    pass\n",
    "\n",
    "t = Test()\n",
    "print(isinstance(t, object))"
   ],
   "id": "a31a89f46e1951f9",
   "outputs": [
    {
     "name": "stdout",
     "output_type": "stream",
     "text": [
      "True\n"
     ]
    }
   ],
   "execution_count": 8
  },
  {
   "metadata": {
    "ExecuteTime": {
     "end_time": "2024-10-02T08:44:32.645531Z",
     "start_time": "2024-10-02T08:44:32.641880Z"
    }
   },
   "cell_type": "code",
   "source": [
    "rr= [5,5,5]\n",
    "print(isinstance(rr, object))"
   ],
   "id": "9c4a7988ae61b50e",
   "outputs": [
    {
     "name": "stdout",
     "output_type": "stream",
     "text": [
      "True\n"
     ]
    }
   ],
   "execution_count": 9
  },
  {
   "metadata": {},
   "cell_type": "code",
   "outputs": [],
   "execution_count": null,
   "source": [
    "class MM(object):\n",
    "    pass "
   ],
   "id": "cf8d937181b325"
  }
 ],
 "metadata": {
  "kernelspec": {
   "display_name": "Python 3",
   "language": "python",
   "name": "python3"
  },
  "language_info": {
   "codemirror_mode": {
    "name": "ipython",
    "version": 2
   },
   "file_extension": ".py",
   "mimetype": "text/x-python",
   "name": "python",
   "nbconvert_exporter": "python",
   "pygments_lexer": "ipython2",
   "version": "2.7.6"
  }
 },
 "nbformat": 4,
 "nbformat_minor": 5
}
