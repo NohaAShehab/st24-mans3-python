{
 "cells": [
  {
   "cell_type": "code",
   "id": "initial_id",
   "metadata": {
    "collapsed": true,
    "ExecuteTime": {
     "end_time": "2024-09-30T11:16:42.468538Z",
     "start_time": "2024-09-30T11:16:42.455819Z"
    }
   },
   "source": [
    "try:\n",
    "    print(name)\n",
    "except Exception as e:\n",
    "    print(e)"
   ],
   "outputs": [
    {
     "name": "stdout",
     "output_type": "stream",
     "text": [
      "name 'name' is not defined\n"
     ]
    }
   ],
   "execution_count": 1
  },
  {
   "metadata": {
    "ExecuteTime": {
     "end_time": "2024-09-30T11:17:25.749042Z",
     "start_time": "2024-09-30T11:17:25.741202Z"
    }
   },
   "cell_type": "code",
   "source": [
    "try:\n",
    "    num1=10\n",
    "    num2= 0\n",
    "    res=  num1/num2\n",
    "    print(res)\n",
    "except Exception as e:\n",
    "    print(e)"
   ],
   "id": "afb29f88ac205c6b",
   "outputs": [
    {
     "name": "stdout",
     "output_type": "stream",
     "text": [
      "division by zero\n"
     ]
    }
   ],
   "execution_count": 2
  },
  {
   "metadata": {
    "ExecuteTime": {
     "end_time": "2024-09-30T11:20:40.751588Z",
     "start_time": "2024-09-30T11:20:33.391993Z"
    }
   },
   "cell_type": "code",
   "source": [
    "try:\n",
    "    num1 = int(input(\"please enter num1\"))\n",
    "    num2 = int(input(\"please enter num2\"))\n",
    "    summ = num1+num2\n",
    "    divv = num1/num2\n",
    "    print(summ, divv)\n",
    "    \n",
    "except Exception as e:\n",
    "    print(e)"
   ],
   "id": "3f8c70f747c5dae1",
   "outputs": [
    {
     "name": "stdout",
     "output_type": "stream",
     "text": [
      "division by zero\n"
     ]
    }
   ],
   "execution_count": 5
  },
  {
   "metadata": {
    "ExecuteTime": {
     "end_time": "2024-09-30T11:23:50.891749Z",
     "start_time": "2024-09-30T11:23:47.671828Z"
    }
   },
   "cell_type": "code",
   "source": [
    "try:\n",
    "    num1 = int(input(\"please enter num1\"))\n",
    "    num2 = int(input(\"please enter num2\"))\n",
    "    summ = num1+num2\n",
    "    divv = num1/num2\n",
    "    print(summ, divv)\n",
    "except ZeroDivisionError as e:\n",
    "    print(f\"{e}->> division by zero is not allowed\")\n",
    "    print(f\"sum = {summ}\")\n",
    "except ValueError as e:\n",
    "    print(f\"num1 , num2 -> must be integers \")\n",
    "    print(\"sum and divv cannot be calculated\")\n",
    "except Exception as e:\n",
    "    print(e)"
   ],
   "id": "b8a4124b7cb2b9",
   "outputs": [
    {
     "name": "stdout",
     "output_type": "stream",
     "text": [
      " num1 , num2 -> must be integers \n",
      "sum and divv cannot be calculated\n"
     ]
    }
   ],
   "execution_count": 8
  },
  {
   "metadata": {
    "ExecuteTime": {
     "end_time": "2024-09-30T11:25:17.578388Z",
     "start_time": "2024-09-30T11:25:14.215037Z"
    }
   },
   "cell_type": "code",
   "source": [
    "try:\n",
    "    num1 = int(input(\"please enter num1\"))\n",
    "    num2 = int(input(\"please enter num2\"))\n",
    "    summ = num1+num2\n",
    "    divv = num1/num2\n",
    "    print(summ, divv)\n",
    "except ZeroDivisionError as e:\n",
    "    print(f\"{e}->> division by zero is not allowed\")\n",
    "    print(f\"sum = {summ}\")\n",
    "except ValueError as e:\n",
    "    print(f\"num1 , num2 -> must be integers \")\n",
    "    print(\"sum and divv cannot be calculated\")\n",
    "except Exception as e:\n",
    "    print(e)\n",
    "    \n",
    "print(\"------- after the try -----\")"
   ],
   "id": "fa97cf8c66266101",
   "outputs": [
    {
     "name": "stdout",
     "output_type": "stream",
     "text": [
      "num1 , num2 -> must be integers \n",
      "sum and divv cannot be calculated\n",
      "------- after the try -----\n"
     ]
    }
   ],
   "execution_count": 10
  },
  {
   "metadata": {
    "ExecuteTime": {
     "end_time": "2024-09-30T11:26:28.828737Z",
     "start_time": "2024-09-30T11:26:23.580707Z"
    }
   },
   "cell_type": "code",
   "source": [
    "try:\n",
    "    num1 = int(input(\"please enter num1\"))\n",
    "    num2 = int(input(\"please enter num2\"))\n",
    "    summ = num1+num2\n",
    "    divv = num1/num2\n",
    "    print(summ, divv)\n",
    "except ZeroDivisionError as e:\n",
    "    print(f\"{e}->> division by zero is not allowed\")\n",
    "    print(f\"sum = {summ}\")\n",
    "except ValueError as e:\n",
    "    print(f\"num1 , num2 -> must be integers \")\n",
    "    print(\"sum and divv cannot be calculated\")\n",
    "except Exception as e:\n",
    "    print(e)\n",
    "    \n",
    "else:\n",
    "    # this block will be executed only if there is no problem \n",
    "    print(\"------- after the try -----\")\n",
    "    "
   ],
   "id": "a7fd802fdd9eb227",
   "outputs": [
    {
     "name": "stdout",
     "output_type": "stream",
     "text": [
      "division by zero->> division by zero is not allowed\n",
      "sum = 5\n"
     ]
    }
   ],
   "execution_count": 12
  },
  {
   "metadata": {
    "ExecuteTime": {
     "end_time": "2024-09-30T11:28:06.732770Z",
     "start_time": "2024-09-30T11:28:00.661377Z"
    }
   },
   "cell_type": "code",
   "source": [
    "try:\n",
    "    num1 = int(input(\"please enter num1\"))\n",
    "    num2 = int(input(\"please enter num2\"))\n",
    "    summ = num1+num2\n",
    "    divv = num1/num2\n",
    "    print(summ, divv)\n",
    "except ZeroDivisionError as e:\n",
    "    print(f\"{e}->> division by zero is not allowed\")\n",
    "    print(f\"sum = {summ}\")\n",
    "except ValueError as e:\n",
    "    print(f\"num1 , num2 -> must be integers \")\n",
    "    print(\"sum and divv cannot be calculated\")\n",
    "except Exception as e:\n",
    "    print(e)\n",
    "    \n",
    "else:\n",
    "    # this block will be executed only if there is no problem \n",
    "    print(\"------- after the try -----\")\n",
    "finally:\n",
    "    print(\"------ this block will be executed always ??\")\n",
    "    \n",
    "print(\"--$$$$$$$$$$$$$$$$$$$$$$$$$$$$$$$$$$$$$--\")"
   ],
   "id": "a685a727a856e18a",
   "outputs": [
    {
     "name": "stdout",
     "output_type": "stream",
     "text": [
      "7 1.3333333333333333\n",
      "------- after the try -----\n",
      "------ this block will be executed always ??\n",
      "--$$$$$$$$$$$$$$$$$$$$$$$$$$$$$$$$$$$$$--\n"
     ]
    }
   ],
   "execution_count": 16
  },
  {
   "metadata": {
    "ExecuteTime": {
     "end_time": "2024-09-30T11:31:19.960844Z",
     "start_time": "2024-09-30T11:31:19.945468Z"
    }
   },
   "cell_type": "code",
   "source": [
    "def sumnum():\n",
    "    try:\n",
    "        num1 = int(input(\"please enter num1\"))\n",
    "        num2 = int(input(\"please enter num2\"))\n",
    "    except ValueError as e:\n",
    "        print(e)\n",
    "        return False\n",
    "\n",
    "    else:\n",
    "        res = num1+num2\n",
    "        return res\n",
    "    \n",
    "    finally:\n",
    "        # finally order --> preceeds the return ??\n",
    "        print(\"----- function is completed -->check the result\")\n"
   ],
   "id": "dd45f174b9ba4729",
   "outputs": [],
   "execution_count": 17
  },
  {
   "metadata": {
    "ExecuteTime": {
     "end_time": "2024-09-30T11:31:41.098685Z",
     "start_time": "2024-09-30T11:31:32.929224Z"
    }
   },
   "cell_type": "code",
   "source": [
    "r = sumnum()\n",
    "print(r)"
   ],
   "id": "8ce9158f14eedae2",
   "outputs": [
    {
     "name": "stdout",
     "output_type": "stream",
     "text": [
      "----- function is completed -->check the result\n",
      "9\n"
     ]
    }
   ],
   "execution_count": 18
  },
  {
   "metadata": {},
   "cell_type": "markdown",
   "source": "# Raising the exception",
   "id": "338fe9893c867460"
  },
  {
   "metadata": {
    "ExecuteTime": {
     "end_time": "2024-09-30T11:36:28.932870Z",
     "start_time": "2024-09-30T11:36:28.925896Z"
    }
   },
   "cell_type": "code",
   "source": [
    "def sumnum(num1: int, num2: int):\n",
    "    if isinstance(num1, int) and isinstance(num2, int):\n",
    "        print(num1, num2)\n",
    "        return num1 + num2\n",
    "    \n",
    "    else:\n",
    "        print(\"num1 and num2 must be integers\")\n",
    "        return False\n",
    "    \n",
    "\n",
    "print(sumnum(4,3))"
   ],
   "id": "5f6641b0b2521a5b",
   "outputs": [
    {
     "name": "stdout",
     "output_type": "stream",
     "text": [
      "4 3\n",
      "7\n"
     ]
    }
   ],
   "execution_count": 19
  },
  {
   "metadata": {
    "ExecuteTime": {
     "end_time": "2024-09-30T11:36:38.866836Z",
     "start_time": "2024-09-30T11:36:38.861539Z"
    }
   },
   "cell_type": "code",
   "source": "print(sumnum('ff',34))",
   "id": "b1bec381e012bdfc",
   "outputs": [
    {
     "name": "stdout",
     "output_type": "stream",
     "text": [
      "num1 and num2 must be integers\n",
      "False\n"
     ]
    }
   ],
   "execution_count": 20
  },
  {
   "metadata": {
    "ExecuteTime": {
     "end_time": "2024-09-30T11:37:27.343940Z",
     "start_time": "2024-09-30T11:37:27.337325Z"
    }
   },
   "cell_type": "code",
   "source": [
    "def sumnum(num1: int, num2: int):\n",
    "    if isinstance(num1, int) and isinstance(num2, int):\n",
    "        print(num1, num2)\n",
    "        return num1 + num2\n",
    "    \n",
    "    else:\n",
    "        raise Exception(\"num1 and num2 must be integers, plz check and restart\")\n",
    "    "
   ],
   "id": "34a7071a6cf85268",
   "outputs": [],
   "execution_count": 21
  },
  {
   "metadata": {
    "ExecuteTime": {
     "end_time": "2024-09-30T11:37:37.362333Z",
     "start_time": "2024-09-30T11:37:37.347866Z"
    }
   },
   "cell_type": "code",
   "source": "print(sumnum(4,3))",
   "id": "a5b1c651aad3414c",
   "outputs": [
    {
     "name": "stdout",
     "output_type": "stream",
     "text": [
      "4 3\n",
      "7\n"
     ]
    }
   ],
   "execution_count": 22
  },
  {
   "metadata": {
    "ExecuteTime": {
     "end_time": "2024-09-30T11:37:49.193703Z",
     "start_time": "2024-09-30T11:37:48.912341Z"
    }
   },
   "cell_type": "code",
   "source": "print(sumnum('ff',34))",
   "id": "78bdb82de470bfa3",
   "outputs": [
    {
     "ename": "Exception",
     "evalue": "num1 and num2 must be integers, plz check and restart",
     "output_type": "error",
     "traceback": [
      "\u001B[0;31m---------------------------------------------------------------------------\u001B[0m",
      "\u001B[0;31mException\u001B[0m                                 Traceback (most recent call last)",
      "Cell \u001B[0;32mIn[23], line 1\u001B[0m\n\u001B[0;32m----> 1\u001B[0m \u001B[38;5;28mprint\u001B[39m(\u001B[43msumnum\u001B[49m\u001B[43m(\u001B[49m\u001B[38;5;124;43m'\u001B[39;49m\u001B[38;5;124;43mff\u001B[39;49m\u001B[38;5;124;43m'\u001B[39;49m\u001B[43m,\u001B[49m\u001B[38;5;241;43m34\u001B[39;49m\u001B[43m)\u001B[49m)\n",
      "Cell \u001B[0;32mIn[21], line 7\u001B[0m, in \u001B[0;36msumnum\u001B[0;34m(num1, num2)\u001B[0m\n\u001B[1;32m      4\u001B[0m     \u001B[38;5;28;01mreturn\u001B[39;00m num1 \u001B[38;5;241m+\u001B[39m num2\n\u001B[1;32m      6\u001B[0m \u001B[38;5;28;01melse\u001B[39;00m:\n\u001B[0;32m----> 7\u001B[0m     \u001B[38;5;28;01mraise\u001B[39;00m \u001B[38;5;167;01mException\u001B[39;00m(\u001B[38;5;124m\"\u001B[39m\u001B[38;5;124mnum1 and num2 must be integers, plz check and restart\u001B[39m\u001B[38;5;124m\"\u001B[39m)\n",
      "\u001B[0;31mException\u001B[0m: num1 and num2 must be integers, plz check and restart"
     ]
    }
   ],
   "execution_count": 23
  },
  {
   "metadata": {},
   "cell_type": "code",
   "outputs": [],
   "execution_count": null,
   "source": "",
   "id": "eba6efcee7841cff"
  }
 ],
 "metadata": {
  "kernelspec": {
   "display_name": "Python 3",
   "language": "python",
   "name": "python3"
  },
  "language_info": {
   "codemirror_mode": {
    "name": "ipython",
    "version": 2
   },
   "file_extension": ".py",
   "mimetype": "text/x-python",
   "name": "python",
   "nbconvert_exporter": "python",
   "pygments_lexer": "ipython2",
   "version": "2.7.6"
  }
 },
 "nbformat": 4,
 "nbformat_minor": 5
}
