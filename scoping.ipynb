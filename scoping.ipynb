{
 "cells": [
  {
   "metadata": {},
   "cell_type": "markdown",
   "source": "any variable defined inside a function --> local variable --> can be accessed only inside the function.",
   "id": "d22c591347b20fa4"
  },
  {
   "cell_type": "code",
   "id": "initial_id",
   "metadata": {
    "collapsed": true,
    "ExecuteTime": {
     "end_time": "2024-09-29T08:25:05.716234Z",
     "start_time": "2024-09-29T08:25:05.707142Z"
    }
   },
   "source": [
    "def printName():\n",
    "    name = 'noha'  #local variable\n",
    "    print(name)\n",
    "\n",
    "printName()"
   ],
   "outputs": [
    {
     "name": "stdout",
     "output_type": "stream",
     "text": [
      "noha\n"
     ]
    }
   ],
   "execution_count": 1
  },
  {
   "metadata": {
    "ExecuteTime": {
     "end_time": "2024-09-29T08:25:31.279584Z",
     "start_time": "2024-09-29T08:25:31.062542Z"
    }
   },
   "cell_type": "code",
   "source": "print(name)",
   "id": "ee40fe5ef9be2579",
   "outputs": [
    {
     "ename": "NameError",
     "evalue": "name 'name' is not defined",
     "output_type": "error",
     "traceback": [
      "\u001B[0;31m---------------------------------------------------------------------------\u001B[0m",
      "\u001B[0;31mNameError\u001B[0m                                 Traceback (most recent call last)",
      "Cell \u001B[0;32mIn[2], line 1\u001B[0m\n\u001B[0;32m----> 1\u001B[0m \u001B[38;5;28mprint\u001B[39m(\u001B[43mname\u001B[49m)\n",
      "\u001B[0;31mNameError\u001B[0m: name 'name' is not defined"
     ]
    }
   ],
   "execution_count": 2
  },
  {
   "metadata": {
    "ExecuteTime": {
     "end_time": "2024-09-29T08:27:36.846771Z",
     "start_time": "2024-09-29T08:27:36.840152Z"
    }
   },
   "cell_type": "code",
   "source": [
    "track = 'python'  # global variable can be read anywhere in the script ??\n",
    "def printTrack():\n",
    "    print(f\"track ={track}\")\n",
    "\n",
    "printTrack()"
   ],
   "id": "1c64d96e3e878ba6",
   "outputs": [
    {
     "name": "stdout",
     "output_type": "stream",
     "text": [
      "track =python\n"
     ]
    }
   ],
   "execution_count": 3
  },
  {
   "metadata": {},
   "cell_type": "markdown",
   "source": "modify global variable from inside the function? ",
   "id": "e67c5b97dcdd852a"
  },
  {
   "metadata": {
    "ExecuteTime": {
     "end_time": "2024-09-29T08:29:22.111378Z",
     "start_time": "2024-09-29T08:29:22.105698Z"
    }
   },
   "cell_type": "code",
   "source": [
    "def modifytrack():\n",
    "    track = 'fullstack using python' # new local var\n",
    "    print(f\"track ={track}\")\n",
    "\n",
    "modifytrack()\n",
    "print(track)"
   ],
   "id": "31292b5f7f8a4b46",
   "outputs": [
    {
     "name": "stdout",
     "output_type": "stream",
     "text": [
      "track =fullstack using python\n",
      "python\n"
     ]
    }
   ],
   "execution_count": 4
  },
  {
   "metadata": {},
   "cell_type": "markdown",
   "source": "",
   "id": "4cbf33d67a73c935"
  },
  {
   "metadata": {},
   "cell_type": "code",
   "outputs": [],
   "execution_count": null,
   "source": [
    "def modifytrack():\n",
    "    global track\n",
    "    track = 'fullstack using python' # new local var\n",
    "    print(f\"track ={track}\")\n",
    "\n",
    "modifytrack()\n",
    "print(track)"
   ],
   "id": "c9df62bf56705eb6"
  },
  {
   "metadata": {},
   "cell_type": "markdown",
   "source": "# function inside a function ",
   "id": "b620bf8d3867d105"
  },
  {
   "metadata": {
    "ExecuteTime": {
     "end_time": "2024-09-29T08:31:58.110934Z",
     "start_time": "2024-09-29T08:31:58.100872Z"
    }
   },
   "cell_type": "code",
   "source": [
    "def outerfunction():\n",
    "    stdname= 'ahmed'\n",
    "    \n",
    "    \n",
    "    print(stdname)"
   ],
   "id": "aaf2fd7cdf3c85bc",
   "outputs": [],
   "execution_count": 5
  },
  {
   "metadata": {
    "ExecuteTime": {
     "end_time": "2024-09-29T08:32:01.723745Z",
     "start_time": "2024-09-29T08:32:01.712465Z"
    }
   },
   "cell_type": "code",
   "source": "outerfunction()",
   "id": "622c2bbd3b81e62",
   "outputs": [
    {
     "name": "stdout",
     "output_type": "stream",
     "text": [
      "ahmed\n"
     ]
    }
   ],
   "execution_count": 6
  },
  {
   "metadata": {
    "ExecuteTime": {
     "end_time": "2024-09-29T08:33:19.909374Z",
     "start_time": "2024-09-29T08:33:19.901078Z"
    }
   },
   "cell_type": "code",
   "source": [
    "def outerfunction():\n",
    "    stdname= 'ahmed' # local variable --> can be accessed anywhere inside the function , even inner function\n",
    "    def printstd():\n",
    "        print(f\"from inside the inner {stdname}\")\n",
    "        \n",
    "    printstd()\n",
    "        \n",
    "outerfunction()\n"
   ],
   "id": "7602839f64bd189d",
   "outputs": [
    {
     "name": "stdout",
     "output_type": "stream",
     "text": [
      "from inside the inner ahmed\n"
     ]
    }
   ],
   "execution_count": 8
  },
  {
   "metadata": {},
   "cell_type": "markdown",
   "source": "modify local variable from inner function ",
   "id": "7cb439246311945f"
  },
  {
   "metadata": {
    "ExecuteTime": {
     "end_time": "2024-09-29T08:36:14.266834Z",
     "start_time": "2024-09-29T08:36:14.254058Z"
    }
   },
   "cell_type": "code",
   "source": [
    "def outerfunction():\n",
    "    stdname= 'ahmed' # local variable --> can be accessed anywhere inside the function , even inner function\n",
    "    def printstd():\n",
    "        print(f\"from inside the inner {stdname}\")\n",
    "    printstd()\n",
    "    def modifystd():\n",
    "        stdname  = 'mahnoud' # new local variable\n",
    "        print(f\"after modify {stdname}\")\n",
    "    modifystd()\n",
    "    print(stdname)\n",
    "        \n",
    "outerfunction()"
   ],
   "id": "e0a4055146b2043c",
   "outputs": [
    {
     "name": "stdout",
     "output_type": "stream",
     "text": [
      "from inside the inner ahmed\n",
      "after modify mahnoud\n",
      "ahmed\n"
     ]
    }
   ],
   "execution_count": 10
  },
  {
   "metadata": {
    "ExecuteTime": {
     "end_time": "2024-09-29T08:37:04.651700Z",
     "start_time": "2024-09-29T08:37:04.646109Z"
    }
   },
   "cell_type": "code",
   "source": [
    " def outerfunction():\n",
    "    stdname= 'ahmed' # local variable --> can be accessed anywhere inside the function , even inner function\n",
    "    def printstd():\n",
    "        print(f\"from inside the inner {stdname}\")\n",
    "    printstd()\n",
    "    def modifystd():\n",
    "        nonlocal stdname # plz don't create new local variable here \n",
    "        stdname  = 'mahnoud' # \n",
    "        print(f\"after modify {stdname}\")\n",
    "    modifystd()\n",
    "    \n",
    "    print(stdname)\n",
    "    \n",
    "        \n",
    "outerfunction()"
   ],
   "id": "c44be3d9c34fa964",
   "outputs": [
    {
     "name": "stdout",
     "output_type": "stream",
     "text": [
      "from inside the inner ahmed\n",
      "after modify mahnoud\n",
      "mahnoud\n"
     ]
    }
   ],
   "execution_count": 11
  },
  {
   "metadata": {
    "ExecuteTime": {
     "end_time": "2024-09-29T08:40:42.374050Z",
     "start_time": "2024-09-29T08:40:42.368320Z"
    }
   },
   "cell_type": "code",
   "source": [
    "ss = 'data'\n",
    "def abc():\n",
    "    ss='mmm'\n",
    "    def dd():\n",
    "        print(ss)\n",
    "        \n",
    "    dd()\n"
   ],
   "id": "61d9a445c332f8e2",
   "outputs": [],
   "execution_count": 14
  },
  {
   "metadata": {
    "ExecuteTime": {
     "end_time": "2024-09-29T08:40:06.710639Z",
     "start_time": "2024-09-29T08:40:06.703838Z"
    }
   },
   "cell_type": "code",
   "source": "abc()",
   "id": "419dbe2b4ebb482f",
   "outputs": [
    {
     "name": "stdout",
     "output_type": "stream",
     "text": [
      "mmm\n"
     ]
    }
   ],
   "execution_count": 13
  },
  {
   "metadata": {},
   "cell_type": "code",
   "outputs": [],
   "execution_count": null,
   "source": "",
   "id": "77aee0eb35a0650e"
  }
 ],
 "metadata": {
  "kernelspec": {
   "display_name": "Python 3",
   "language": "python",
   "name": "python3"
  },
  "language_info": {
   "codemirror_mode": {
    "name": "ipython",
    "version": 2
   },
   "file_extension": ".py",
   "mimetype": "text/x-python",
   "name": "python",
   "nbconvert_exporter": "python",
   "pygments_lexer": "ipython2",
   "version": "2.7.6"
  }
 },
 "nbformat": 4,
 "nbformat_minor": 5
}
