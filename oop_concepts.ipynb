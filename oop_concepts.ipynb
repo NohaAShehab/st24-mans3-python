{
 "cells": [
  {
   "cell_type": "code",
   "execution_count": null,
   "id": "initial_id",
   "metadata": {
    "collapsed": true
   },
   "outputs": [],
   "source": [
    "### inheritance \n",
    "\n",
    "#ploymorphism\n",
    "\n",
    "### encapsulation\n",
    "\n",
    "\n",
    "# abstraction"
   ]
  },
  {
   "metadata": {
    "ExecuteTime": {
     "end_time": "2024-10-01T10:55:31.087016Z",
     "start_time": "2024-10-01T10:55:31.083747Z"
    }
   },
   "cell_type": "code",
   "source": [
    "# inheritance \n",
    "\n",
    "class Employee:\n",
    "    pass \n",
    "\n",
    "\n",
    "class Manager(Employee):\n",
    "    pass\n",
    "\n",
    "\n",
    "m = Manager()\n",
    "print(isinstance(m, Employee))"
   ],
   "id": "f88fb41040169f9",
   "outputs": [
    {
     "name": "stdout",
     "output_type": "stream",
     "text": [
      "True\n"
     ]
    }
   ],
   "execution_count": 1
  },
  {
   "metadata": {
    "ExecuteTime": {
     "end_time": "2024-10-01T10:56:54.049022Z",
     "start_time": "2024-10-01T10:56:53.886199Z"
    }
   },
   "cell_type": "code",
   "source": [
    "class Employee:\n",
    "    def __init__(self, name, email):\n",
    "        self.name = name\n",
    "        self.email = email\n",
    "        \n",
    "    def speak(self ):\n",
    "        print(f\"I am an employee with name {self.name}\")\n",
    "\n",
    "\n",
    "class Manager(Employee):\n",
    "    pass\n",
    "\n",
    "\n",
    "m = Manager()\n",
    "print(isinstance(m, Employee))"
   ],
   "id": "352d220156a81cb1",
   "outputs": [
    {
     "ename": "TypeError",
     "evalue": "Employee.__init__() missing 2 required positional arguments: 'name' and 'email'",
     "output_type": "error",
     "traceback": [
      "\u001B[0;31m---------------------------------------------------------------------------\u001B[0m",
      "\u001B[0;31mTypeError\u001B[0m                                 Traceback (most recent call last)",
      "Cell \u001B[0;32mIn[2], line 14\u001B[0m\n\u001B[1;32m     10\u001B[0m \u001B[38;5;28;01mclass\u001B[39;00m \u001B[38;5;21;01mManager\u001B[39;00m(Employee):\n\u001B[1;32m     11\u001B[0m     \u001B[38;5;28;01mpass\u001B[39;00m\n\u001B[0;32m---> 14\u001B[0m m \u001B[38;5;241m=\u001B[39m \u001B[43mManager\u001B[49m\u001B[43m(\u001B[49m\u001B[43m)\u001B[49m\n\u001B[1;32m     15\u001B[0m \u001B[38;5;28mprint\u001B[39m(\u001B[38;5;28misinstance\u001B[39m(m, Employee))\n",
      "\u001B[0;31mTypeError\u001B[0m: Employee.__init__() missing 2 required positional arguments: 'name' and 'email'"
     ]
    }
   ],
   "execution_count": 2
  },
  {
   "metadata": {
    "ExecuteTime": {
     "end_time": "2024-10-01T10:58:53.640715Z",
     "start_time": "2024-10-01T10:58:53.632801Z"
    }
   },
   "cell_type": "code",
   "source": "m2 = Manager(\"ahmed\", \"a@gmail.com\")\n",
   "id": "fb73f40dfbd3a02b",
   "outputs": [],
   "execution_count": 3
  },
  {
   "metadata": {
    "ExecuteTime": {
     "end_time": "2024-10-01T10:59:10.336515Z",
     "start_time": "2024-10-01T10:59:10.329690Z"
    }
   },
   "cell_type": "code",
   "source": "m2.speak()",
   "id": "817e42da54a675dc",
   "outputs": [
    {
     "name": "stdout",
     "output_type": "stream",
     "text": [
      "I am an employee with name ahmed\n"
     ]
    }
   ],
   "execution_count": 5
  },
  {
   "metadata": {
    "ExecuteTime": {
     "end_time": "2024-10-01T11:00:12.791540Z",
     "start_time": "2024-10-01T11:00:12.781404Z"
    }
   },
   "cell_type": "code",
   "source": [
    "class Employee:\n",
    "    def __init__(self, name, email):\n",
    "        self.name = name\n",
    "        self.email = email\n",
    "\n",
    "    def speak(self):\n",
    "        print(f\"I am an employee with name {self.name}\")\n",
    "\n",
    "\n",
    "class Manager(Employee):\n",
    "    def sayhi(self ): # new functionality added to the manager class \n",
    "        print(\"I am the company manager\")\n",
    "\n"
   ],
   "id": "fba34dbe2a7dbbdf",
   "outputs": [],
   "execution_count": 6
  },
  {
   "metadata": {
    "ExecuteTime": {
     "end_time": "2024-10-01T11:00:36.300229Z",
     "start_time": "2024-10-01T11:00:36.293005Z"
    }
   },
   "cell_type": "code",
   "source": "e= Manager(\"ahmed\", \"ahmed@gmail.com\")",
   "id": "f904f3356fe11a7b",
   "outputs": [],
   "execution_count": 7
  },
  {
   "metadata": {
    "ExecuteTime": {
     "end_time": "2024-10-01T11:00:39.934419Z",
     "start_time": "2024-10-01T11:00:39.926256Z"
    }
   },
   "cell_type": "code",
   "source": "e.speak()",
   "id": "2d80c697d13cc6f9",
   "outputs": [
    {
     "name": "stdout",
     "output_type": "stream",
     "text": [
      "I am an employee with name ahmed\n"
     ]
    }
   ],
   "execution_count": 8
  },
  {
   "metadata": {
    "ExecuteTime": {
     "end_time": "2024-10-01T11:00:42.356972Z",
     "start_time": "2024-10-01T11:00:42.348109Z"
    }
   },
   "cell_type": "code",
   "source": "e.sayhi()",
   "id": "107a7ea39d9f01f1",
   "outputs": [
    {
     "name": "stdout",
     "output_type": "stream",
     "text": [
      "I am the company manager\n"
     ]
    }
   ],
   "execution_count": 9
  },
  {
   "metadata": {
    "ExecuteTime": {
     "end_time": "2024-10-01T11:02:08.765111Z",
     "start_time": "2024-10-01T11:02:08.751568Z"
    }
   },
   "cell_type": "code",
   "source": [
    "# add new property to the manage \n",
    "class Employee:\n",
    "    def __init__(self, name, email):\n",
    "        self.name = name\n",
    "        self.email = email\n",
    "\n",
    "    def speak(self):\n",
    "        print(f\"I am an employee with name {self.name}\")\n",
    "\n",
    "\n",
    "class Manager(Employee):\n",
    "    def __init__(self, salary, role):\n",
    "        self.salary = salary\n",
    "        self.role = role\n",
    "        \n",
    "    def sayhi(self):\n",
    "        print(f\"I am an employee with salary \")\n",
    "\n",
    "\n"
   ],
   "id": "8bdbb2eeee5a92e0",
   "outputs": [],
   "execution_count": 11
  },
  {
   "metadata": {
    "ExecuteTime": {
     "end_time": "2024-10-01T11:02:22.761348Z",
     "start_time": "2024-10-01T11:02:22.756605Z"
    }
   },
   "cell_type": "code",
   "source": "m = Manager(\"ahmed\", \"ahmed@gmail.com\")",
   "id": "6efd43b1ebe02362",
   "outputs": [],
   "execution_count": 12
  },
  {
   "metadata": {
    "ExecuteTime": {
     "end_time": "2024-10-01T11:02:56.511553Z",
     "start_time": "2024-10-01T11:02:56.478036Z"
    }
   },
   "cell_type": "code",
   "source": "m.speak()",
   "id": "b8605fd493b81563",
   "outputs": [
    {
     "ename": "AttributeError",
     "evalue": "'Manager' object has no attribute 'name'",
     "output_type": "error",
     "traceback": [
      "\u001B[0;31m---------------------------------------------------------------------------\u001B[0m",
      "\u001B[0;31mAttributeError\u001B[0m                            Traceback (most recent call last)",
      "Cell \u001B[0;32mIn[13], line 1\u001B[0m\n\u001B[0;32m----> 1\u001B[0m \u001B[43mm\u001B[49m\u001B[38;5;241;43m.\u001B[39;49m\u001B[43mspeak\u001B[49m\u001B[43m(\u001B[49m\u001B[43m)\u001B[49m\n",
      "Cell \u001B[0;32mIn[11], line 8\u001B[0m, in \u001B[0;36mEmployee.speak\u001B[0;34m(self)\u001B[0m\n\u001B[1;32m      7\u001B[0m \u001B[38;5;28;01mdef\u001B[39;00m \u001B[38;5;21mspeak\u001B[39m(\u001B[38;5;28mself\u001B[39m):\n\u001B[0;32m----> 8\u001B[0m     \u001B[38;5;28mprint\u001B[39m(\u001B[38;5;124mf\u001B[39m\u001B[38;5;124m\"\u001B[39m\u001B[38;5;124mI am an employee with name \u001B[39m\u001B[38;5;132;01m{\u001B[39;00m\u001B[38;5;28;43mself\u001B[39;49m\u001B[38;5;241;43m.\u001B[39;49m\u001B[43mname\u001B[49m\u001B[38;5;132;01m}\u001B[39;00m\u001B[38;5;124m\"\u001B[39m)\n",
      "\u001B[0;31mAttributeError\u001B[0m: 'Manager' object has no attribute 'name'"
     ]
    }
   ],
   "execution_count": 13
  },
  {
   "metadata": {
    "ExecuteTime": {
     "end_time": "2024-10-01T11:09:20.103730Z",
     "start_time": "2024-10-01T11:09:20.088580Z"
    }
   },
   "cell_type": "code",
   "source": [
    "# add new property to the manage \n",
    "class Employee:\n",
    "    def __init__(self, name, email):\n",
    "        self.name = name\n",
    "        self.email = email\n",
    "\n",
    "    def speak(self):\n",
    "        print(f\"I am an employee with name {self.name}\")\n",
    "\n",
    "\n",
    "class Manager(Employee):\n",
    "    def __init__(self, name, email,salary, role):\n",
    "        # call the parent constructor\n",
    "        # super().__init__(name, email) # self\n",
    "        super(Manager, self).__init__(name, salary)\n",
    "        self.salary = salary\n",
    "        self.role = role\n",
    "        \n",
    "    def sayhi(self):\n",
    "        print(f\"I am an employee with salary \")\n"
   ],
   "id": "5ac041f9136be475",
   "outputs": [],
   "execution_count": 18
  },
  {
   "metadata": {
    "ExecuteTime": {
     "end_time": "2024-10-01T11:09:22.547152Z",
     "start_time": "2024-10-01T11:09:22.538793Z"
    }
   },
   "cell_type": "code",
   "source": "m = Manager(\"ahmed\", \"ahmed@gmail.com\", 10000, 'dept_head')",
   "id": "3a66f584ac6c68d2",
   "outputs": [],
   "execution_count": 19
  },
  {
   "metadata": {
    "ExecuteTime": {
     "end_time": "2024-10-01T11:09:23.915346Z",
     "start_time": "2024-10-01T11:09:23.907769Z"
    }
   },
   "cell_type": "code",
   "source": "m.speak()",
   "id": "61f76c863d6579b2",
   "outputs": [
    {
     "name": "stdout",
     "output_type": "stream",
     "text": [
      "I am an employee with name ahmed\n"
     ]
    }
   ],
   "execution_count": 20
  },
  {
   "metadata": {
    "ExecuteTime": {
     "end_time": "2024-10-01T11:09:24.957693Z",
     "start_time": "2024-10-01T11:09:24.949051Z"
    }
   },
   "cell_type": "code",
   "source": "m.sayhi()",
   "id": "687167fae0296596",
   "outputs": [
    {
     "name": "stdout",
     "output_type": "stream",
     "text": [
      "I am an employee with salary \n"
     ]
    }
   ],
   "execution_count": 21
  },
  {
   "metadata": {
    "ExecuteTime": {
     "end_time": "2024-10-01T11:11:26.429080Z",
     "start_time": "2024-10-01T11:11:26.426051Z"
    }
   },
   "cell_type": "code",
   "source": [
    "class Employee:\n",
    "    def __init__(self, name, email):\n",
    "        self.name = name\n",
    "        self.email = email\n",
    "\n",
    "    def speak(self):\n",
    "        print(f\"I am an employee with name {self.name}\")\n",
    "        \n",
    "    def work(self):\n",
    "        print(f\"I works as employee\")\n",
    "\n",
    "\n",
    "class Manager(Employee):\n",
    "    def __init__(self, name, email,salary, role):\n",
    "        # call the parent constructor\n",
    "        # super().__init__(name, email) # self\n",
    "        super(Manager, self).__init__(name, salary)\n",
    "        self.salary = salary\n",
    "        self.role = role\n",
    "        \n",
    "    def sayhi(self):\n",
    "        print(f\"I am an employee with salary \")"
   ],
   "id": "ac88ce9d036ef7f",
   "outputs": [],
   "execution_count": 22
  },
  {
   "metadata": {
    "ExecuteTime": {
     "end_time": "2024-10-01T11:11:34.531098Z",
     "start_time": "2024-10-01T11:11:34.528650Z"
    }
   },
   "cell_type": "code",
   "source": [
    "m  = Manager(\"ahmed\", \"ahmed@gmail.com\", 10000, 'dept_head')\n",
    "m.work()"
   ],
   "id": "b6ab4a4e65a1a166",
   "outputs": [
    {
     "name": "stdout",
     "output_type": "stream",
     "text": [
      "I works as employee\n"
     ]
    }
   ],
   "execution_count": 23
  },
  {
   "metadata": {
    "ExecuteTime": {
     "end_time": "2024-10-01T11:14:08.773225Z",
     "start_time": "2024-10-01T11:14:08.765405Z"
    }
   },
   "cell_type": "code",
   "source": [
    "class Employee:\n",
    "    def __init__(self, name, email):\n",
    "        self.name = name\n",
    "        self.email = email\n",
    "\n",
    "    def speak(self):\n",
    "        print(f\"I am an employee with name {self.name}\")\n",
    "        \n",
    "    def work(self):\n",
    "        print(f\"I works as employee\")\n",
    "\n",
    "\n",
    "class Manager(Employee):\n",
    "    def __init__(self, name, email,salary, role):\n",
    "        # call the parent constructor\n",
    "        # super().__init__(name, email) # self\n",
    "        super(Manager, self).__init__(name, salary)\n",
    "        self.salary = salary\n",
    "        self.role = role\n",
    "        \n",
    "    def sayhi(self):\n",
    "        print(f\"I am an employee with salary \")\n",
    "        \n",
    "    \n",
    "    # override \n",
    "    def work(self):\n",
    "        super().work()\n",
    "        print(f\"I am the {self.role} \")"
   ],
   "id": "94d6bb7758a6270f",
   "outputs": [],
   "execution_count": 26
  },
  {
   "metadata": {
    "ExecuteTime": {
     "end_time": "2024-10-01T11:14:10.040202Z",
     "start_time": "2024-10-01T11:14:10.035948Z"
    }
   },
   "cell_type": "code",
   "source": [
    "mm = Manager(\"ahmed\", \"ahmed@gmail.com\", 10000, 'dept_head')\n",
    "mm.work()"
   ],
   "id": "f89a87afbf409a00",
   "outputs": [
    {
     "name": "stdout",
     "output_type": "stream",
     "text": [
      "I works as employee\n",
      "I am the dept_head \n"
     ]
    }
   ],
   "execution_count": 27
  },
  {
   "metadata": {},
   "cell_type": "code",
   "outputs": [],
   "execution_count": null,
   "source": [
    "# overriding --> 2 methods in 2 classes (have inheritance relation , method in parent do something\n",
    "# the same method the child do anotherthing "
   ],
   "id": "a75275034de7165d"
  },
  {
   "metadata": {
    "ExecuteTime": {
     "end_time": "2024-10-01T11:18:20.541345Z",
     "start_time": "2024-10-01T11:18:20.532938Z"
    }
   },
   "cell_type": "code",
   "source": [
    "# overloading , 2 functions in same class --> have the same name but different in the no. of params and types \n",
    "\n",
    "\n",
    "\n",
    "class Student:\n",
    "    def sayhi(self):\n",
    "        print(\"I am a student\")\n",
    "        \n",
    "    def sayhi(self, message):\n",
    "        print(\"I am a student {message}\")"
   ],
   "id": "862b589b97d9c378",
   "outputs": [],
   "execution_count": 28
  },
  {
   "metadata": {
    "ExecuteTime": {
     "end_time": "2024-10-01T11:18:26.254826Z",
     "start_time": "2024-10-01T11:18:26.243442Z"
    }
   },
   "cell_type": "code",
   "source": [
    "s= Student()\n",
    "s.sayhi()"
   ],
   "id": "7a0fb61c813307f9",
   "outputs": [
    {
     "ename": "TypeError",
     "evalue": "Student.sayhi() missing 1 required positional argument: 'message'",
     "output_type": "error",
     "traceback": [
      "\u001B[0;31m---------------------------------------------------------------------------\u001B[0m",
      "\u001B[0;31mTypeError\u001B[0m                                 Traceback (most recent call last)",
      "Cell \u001B[0;32mIn[29], line 2\u001B[0m\n\u001B[1;32m      1\u001B[0m s\u001B[38;5;241m=\u001B[39m Student()\n\u001B[0;32m----> 2\u001B[0m \u001B[43ms\u001B[49m\u001B[38;5;241;43m.\u001B[39;49m\u001B[43msayhi\u001B[49m\u001B[43m(\u001B[49m\u001B[43m)\u001B[49m\n",
      "\u001B[0;31mTypeError\u001B[0m: Student.sayhi() missing 1 required positional argument: 'message'"
     ]
    }
   ],
   "execution_count": 29
  },
  {
   "metadata": {
    "ExecuteTime": {
     "end_time": "2024-10-01T11:20:05.050437Z",
     "start_time": "2024-10-01T11:20:05.045863Z"
    }
   },
   "cell_type": "code",
   "source": [
    "class Student:\n",
    "    # def sayhi(self):\n",
    "    #     print(\"I am a student\")\n",
    "        \n",
    "    def sayhi(self, message=\"\"):\n",
    "        print(f\"I am a student {message}\")"
   ],
   "id": "9f5c4f34afc27b1",
   "outputs": [],
   "execution_count": 33
  },
  {
   "metadata": {
    "ExecuteTime": {
     "end_time": "2024-10-01T11:20:05.664939Z",
     "start_time": "2024-10-01T11:20:05.656748Z"
    }
   },
   "cell_type": "code",
   "source": [
    "s= Student()\n",
    "s.sayhi()"
   ],
   "id": "529d614ce5a2892c",
   "outputs": [
    {
     "name": "stdout",
     "output_type": "stream",
     "text": [
      "I am a student \n"
     ]
    }
   ],
   "execution_count": 34
  },
  {
   "metadata": {
    "ExecuteTime": {
     "end_time": "2024-10-01T11:20:22.006543Z",
     "start_time": "2024-10-01T11:20:22.003689Z"
    }
   },
   "cell_type": "code",
   "source": "s.sayhi(\"hjghjg\")",
   "id": "7ba604619959641",
   "outputs": [
    {
     "name": "stdout",
     "output_type": "stream",
     "text": [
      "I am a student hjghjg\n"
     ]
    }
   ],
   "execution_count": 35
  },
  {
   "metadata": {},
   "cell_type": "code",
   "outputs": [],
   "execution_count": null,
   "source": [
    "class QueueOutofRange(Exception):\n",
    "    pass\n",
    "\n",
    "raise QueueOutofRange()"
   ],
   "id": "4f985257fd34a473"
  }
 ],
 "metadata": {
  "kernelspec": {
   "display_name": "Python 3",
   "language": "python",
   "name": "python3"
  },
  "language_info": {
   "codemirror_mode": {
    "name": "ipython",
    "version": 2
   },
   "file_extension": ".py",
   "mimetype": "text/x-python",
   "name": "python",
   "nbconvert_exporter": "python",
   "pygments_lexer": "ipython2",
   "version": "2.7.6"
  }
 },
 "nbformat": 4,
 "nbformat_minor": 5
}
