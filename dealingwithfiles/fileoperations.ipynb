{
 "cells": [
  {
   "metadata": {},
   "cell_type": "markdown",
   "source": "# read content into one string ",
   "id": "5dab738eecfa1a69"
  },
  {
   "cell_type": "code",
   "id": "initial_id",
   "metadata": {
    "collapsed": true,
    "ExecuteTime": {
     "end_time": "2024-09-30T12:12:44.995942Z",
     "start_time": "2024-09-30T12:12:44.986659Z"
    }
   },
   "source": [
    "\n",
    "try:\n",
    "    fileobj = open(\"students.txt\", \"r\") # TextIOWrapper\n",
    "\n",
    "except Exception as e:\n",
    "    print(e)\n",
    "\n",
    "else:\n",
    "    print(fileobj)\n",
    "    data  = fileobj.read() # read file content into one string\n",
    "    print(data)\n",
    "    \n",
    "    fileobj.close()"
   ],
   "outputs": [
    {
     "name": "stdout",
     "output_type": "stream",
     "text": [
      "<_io.TextIOWrapper name='students.txt' mode='r' encoding='UTF-8'>\n",
      "Ahmed\n",
      "Mohamed\n",
      "Mostafa\n",
      "Test\n",
      "Noha\n",
      "Omar\n"
     ]
    }
   ],
   "execution_count": 1
  },
  {
   "metadata": {},
   "cell_type": "markdown",
   "source": "# read file line by line",
   "id": "347c1506123cc793"
  },
  {
   "metadata": {
    "ExecuteTime": {
     "end_time": "2024-09-30T12:13:23.918790Z",
     "start_time": "2024-09-30T12:13:23.913337Z"
    }
   },
   "cell_type": "code",
   "source": [
    "\n",
    "try:\n",
    "    fileobj = open(\"students.txt\", \"r\") # TextIOWrapper\n",
    "\n",
    "except Exception as e:\n",
    "    print(e)\n",
    "\n",
    "else:\n",
    "    print(fileobj)\n",
    "    lines  = fileobj.readlines()# read file content into a list ==> each line is an item in list\n",
    "    print(lines)\n",
    "    \n",
    "    fileobj.close()"
   ],
   "id": "c313892a827d8fd3",
   "outputs": [
    {
     "name": "stdout",
     "output_type": "stream",
     "text": [
      "<_io.TextIOWrapper name='students.txt' mode='r' encoding='UTF-8'>\n",
      "['Ahmed\\n', 'Mohamed\\n', 'Mostafa\\n', 'Test\\n', 'Noha\\n', 'Omar']\n"
     ]
    }
   ],
   "execution_count": 2
  },
  {
   "metadata": {
    "ExecuteTime": {
     "end_time": "2024-09-30T12:29:31.247886Z",
     "start_time": "2024-09-30T12:29:31.242796Z"
    }
   },
   "cell_type": "code",
   "source": [
    "try:\n",
    "    fileobj = open(\"students.txt\", \"r\")\n",
    "    \n",
    "except Exception as e:\n",
    "    print(e)\n",
    "else:\n",
    "    for line in fileobj:\n",
    "        print(line) # "
   ],
   "id": "f27f35b0c90c3db",
   "outputs": [
    {
     "name": "stdout",
     "output_type": "stream",
     "text": [
      "Ahmed\n",
      "\n",
      "Mohamed\n",
      "\n",
      "Mostafa\n",
      "\n",
      "Test\n",
      "\n",
      "Noha\n",
      "\n",
      "Omar\n"
     ]
    }
   ],
   "execution_count": 11
  },
  {
   "metadata": {},
   "cell_type": "markdown",
   "source": "# write content to the file to the file ",
   "id": "e1ec2b97ad3a6ede"
  },
  {
   "metadata": {
    "ExecuteTime": {
     "end_time": "2024-09-30T12:18:40.344869Z",
     "start_time": "2024-09-30T12:18:40.338345Z"
    }
   },
   "cell_type": "code",
   "source": [
    "# if you are opening file with w mode --> if files doesn't exist --> python will try to create it. \n",
    "# if exists --> remove old content ==> open file for writing \n",
    "try:\n",
    "    fileobj = open(\"users.txt\", \"w\") # TextIOWrapper\n",
    "\n",
    "except Exception as e:\n",
    "    print(e)\n",
    "\n",
    "else:\n",
    "    print(fileobj)\n",
    "    # fileobj.write('I works at iti')\n",
    "    fileobj.close()"
   ],
   "id": "94269203b55d9b66",
   "outputs": [
    {
     "name": "stdout",
     "output_type": "stream",
     "text": [
      "<_io.TextIOWrapper name='users.txt' mode='w' encoding='UTF-8'>\n"
     ]
    }
   ],
   "execution_count": 5
  },
  {
   "metadata": {
    "ExecuteTime": {
     "end_time": "2024-09-30T12:20:29.343377Z",
     "start_time": "2024-09-30T12:20:29.336066Z"
    }
   },
   "cell_type": "code",
   "source": [
    "try:\n",
    "    fileobj = open(\"users.txt\", \"w\") # TextIOWrapper\n",
    "\n",
    "except Exception as e:\n",
    "    print(e)\n",
    "\n",
    "else:\n",
    "    print(fileobj)\n",
    "    fileobj.write('I works at iti\\n')\n",
    "    fileobj.writelines(['we\\n', 'are\\n', 'using\\n', 'python\\n'])\n",
    "    fileobj.close()"
   ],
   "id": "667009f874efecde",
   "outputs": [
    {
     "name": "stdout",
     "output_type": "stream",
     "text": [
      "<_io.TextIOWrapper name='users.txt' mode='w' encoding='UTF-8'>\n"
     ]
    }
   ],
   "execution_count": 7
  },
  {
   "metadata": {},
   "cell_type": "markdown",
   "source": "# append ",
   "id": "afeebdae2939f278"
  },
  {
   "metadata": {
    "ExecuteTime": {
     "end_time": "2024-09-30T12:21:37.294462Z",
     "start_time": "2024-09-30T12:21:37.289357Z"
    }
   },
   "cell_type": "code",
   "source": [
    "# if file doesn't exist --> try to create it ... if exists -- keep old content . \n",
    "try:\n",
    "    fileobj = open(\"users.txt\", \"a\") # TextIOWrapper\n",
    "\n",
    "except Exception as e:\n",
    "    print(e)\n",
    "\n",
    "else:\n",
    "    print(fileobj)\n",
    "    fileobj.write('I works at iti\\n')\n",
    "    fileobj.close()"
   ],
   "id": "809e6d5a49398f3a",
   "outputs": [
    {
     "name": "stdout",
     "output_type": "stream",
     "text": [
      "<_io.TextIOWrapper name='users.txt' mode='a' encoding='UTF-8'>\n"
     ]
    }
   ],
   "execution_count": 10
  },
  {
   "metadata": {},
   "cell_type": "code",
   "outputs": [],
   "execution_count": null,
   "source": "",
   "id": "a0230984a0e0251"
  }
 ],
 "metadata": {
  "kernelspec": {
   "display_name": "Python 3",
   "language": "python",
   "name": "python3"
  },
  "language_info": {
   "codemirror_mode": {
    "name": "ipython",
    "version": 2
   },
   "file_extension": ".py",
   "mimetype": "text/x-python",
   "name": "python",
   "nbconvert_exporter": "python",
   "pygments_lexer": "ipython2",
   "version": "2.7.6"
  }
 },
 "nbformat": 4,
 "nbformat_minor": 5
}
