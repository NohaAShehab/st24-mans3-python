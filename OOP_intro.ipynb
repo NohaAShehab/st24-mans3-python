{
 "cells": [
  {
   "metadata": {},
   "cell_type": "markdown",
   "source": "# define a class ",
   "id": "4f82906de1f45b3f"
  },
  {
   "cell_type": "code",
   "id": "initial_id",
   "metadata": {
    "collapsed": true
   },
   "source": [
    "from jupyterlab.extensions.manager import ExtensionManagerOptions\n",
    "\n",
    "\n",
    "class Employee:\n",
    "    pass"
   ],
   "outputs": [],
   "execution_count": null
  },
  {
   "metadata": {},
   "cell_type": "markdown",
   "source": "take an object from the class ",
   "id": "ee5ab1c7121ffc81"
  },
  {
   "metadata": {},
   "cell_type": "code",
   "source": "emp = Employee()",
   "id": "244a4869572a54f7",
   "outputs": [],
   "execution_count": null
  },
  {
   "metadata": {},
   "cell_type": "markdown",
   "source": "control object creation",
   "id": "73a4726b17f12204"
  },
  {
   "metadata": {},
   "cell_type": "code",
   "source": [
    "class Employee:\n",
    "    pass\n",
    "\n",
    "emp = Employee()\n",
    "emp.name='ahmed'\n",
    "emp.email= '<EMAIL>'\n",
    "emp.salary=100000\n",
    "\n",
    "emp2=Employee()\n",
    "emp2.id=10\n",
    "emp2.salary=40\n",
    "\n"
   ],
   "id": "536594b4f6275cb9",
   "outputs": [],
   "execution_count": null
  },
  {
   "metadata": {},
   "cell_type": "code",
   "source": [
    "print(type(emp))\n",
    "print(type(emp2))\n"
   ],
   "id": "d26b8bd210881bd6",
   "outputs": [],
   "execution_count": null
  },
  {
   "metadata": {},
   "cell_type": "code",
   "source": [
    "l =[444,44,4]\n",
    "print(type(l))"
   ],
   "id": "bfd34d60c3d0cf41",
   "outputs": [],
   "execution_count": null
  },
  {
   "metadata": {},
   "cell_type": "markdown",
   "source": "# control object creation  ",
   "id": "a654cc3c6a8feb1e"
  },
  {
   "metadata": {},
   "cell_type": "code",
   "source": [
    "class Employee:\n",
    "    def __init__(self): # constructor function --> is called while creating the object \n",
    "        print(f\"Employee is being created now {self}\") # refer to object address \n",
    "        \n",
    "        \n",
    "emp = Employee()\n",
    "print(emp)\n",
    "emp2 = Employee()\n",
    "\n"
   ],
   "id": "380a4f38d3195b05",
   "outputs": [],
   "execution_count": null
  },
  {
   "metadata": {},
   "cell_type": "code",
   "source": [
    "emp.name='ahmed'\n",
    "print(emp)"
   ],
   "id": "945685c6ad3625f2",
   "outputs": [],
   "execution_count": null
  },
  {
   "metadata": {},
   "cell_type": "markdown",
   "source": "Customize class creation",
   "id": "f4caf1fe773b51f"
  },
  {
   "metadata": {},
   "cell_type": "code",
   "source": [
    "class Employee:\n",
    "    # all objects have the same properties \n",
    "    def __init__(self):\n",
    "        self.name='ahmed'\n",
    "        self.salary=100\n",
    "        self.id=1\n",
    "        self.email='<EMAIL>'\n",
    "        \n",
    "emp = Employee()\n",
    "emp2 = Employee()\n",
    "emp3 = Employee()\n",
    "\n",
    "print(emp)\n",
    "print(emp2)\n",
    "print(emp3)"
   ],
   "id": "bdb36afa0d08f41",
   "outputs": [],
   "execution_count": null
  },
  {
   "metadata": {},
   "cell_type": "code",
   "source": [
    "def displayEmp(emp):\n",
    "    print(emp.name, emp.salary, emp.id, emp.email)\n",
    "    \n",
    "displayEmp(emp)\n",
    "displayEmp(emp2)\n"
   ],
   "id": "84a35ae1c677df56",
   "outputs": [],
   "execution_count": null
  },
  {
   "metadata": {},
   "cell_type": "markdown",
   "source": "customize object properties",
   "id": "d6964d2b8a72f30f"
  },
  {
   "metadata": {},
   "cell_type": "code",
   "source": [
    "# customize object properties\n",
    "class Employee:\n",
    "    # all objects have the same properties \n",
    "    def __init__(self, name, salary, id, email):\n",
    "        self.name=name\n",
    "        self.salary=salary\n",
    "        self.id=id\n",
    "        self.email=email\n",
    "        \n",
    "emp = Employee('ahmed', 1000,1,'ahmed@gmail.com')\n"
   ],
   "id": "120f374c414df545",
   "outputs": [],
   "execution_count": null
  },
  {
   "metadata": {},
   "cell_type": "code",
   "source": [
    "class Employee:\n",
    "    # all objects have the same properties \n",
    "    def __init__(self, name, salary=100, id=0, email=\"\"):\n",
    "        self.name=name\n",
    "        self.salary=salary\n",
    "        self.id=id\n",
    "        self.email=email\n",
    "        \n",
    "emp = Employee('ahmed', 1000,1,'ahmed@gmail.com')\n",
    "emp2=Employee(\"hhh\")"
   ],
   "id": "cf1267379652a938",
   "outputs": [],
   "execution_count": null
  },
  {
   "metadata": {},
   "cell_type": "code",
   "source": "emp.city='cairo'",
   "id": "ec8aadf16c069cd5",
   "outputs": [],
   "execution_count": null
  },
  {
   "metadata": {},
   "cell_type": "code",
   "source": "print(emp)",
   "id": "2e8e5190a1d9be85",
   "outputs": [],
   "execution_count": null
  },
  {
   "metadata": {},
   "cell_type": "code",
   "source": "",
   "id": "1ee4fc51d9335c79",
   "outputs": [],
   "execution_count": null
  },
  {
   "metadata": {},
   "cell_type": "markdown",
   "source": "add functionality to the class",
   "id": "74bf8f2a7b91c37c"
  },
  {
   "metadata": {},
   "cell_type": "code",
   "source": [
    "# add functionality to the class\n",
    "\n",
    "\n",
    "class Employee:\n",
    "    # all objects have the same properties \n",
    "    def __init__(self, name, salary=100, id=0, email=\"\"):\n",
    "        self.name=name  # instance variable \n",
    "        self.salary=salary\n",
    "        self.id=id\n",
    "        self.email=email\n",
    "        \n",
    "        \n",
    "    # instance method >>> its behaviour depends on current caller instance \n",
    "    def displayEmp(self): # represent current caller object \n",
    "        print(self.name, self.salary, self.id, self.email)\n",
    "\n"
   ],
   "id": "371e6df6f385a8f0",
   "outputs": [],
   "execution_count": null
  },
  {
   "metadata": {},
   "cell_type": "code",
   "source": "emp = Employee('ahmed', 1000,1,'ahmed@gmail.com')",
   "id": "b5ec7a77341644d9",
   "outputs": [],
   "execution_count": null
  },
  {
   "metadata": {},
   "cell_type": "code",
   "source": "emp.displayEmp()",
   "id": "ba30ba13eff85466",
   "outputs": [],
   "execution_count": null
  },
  {
   "metadata": {},
   "cell_type": "code",
   "source": [
    "emp2 = Employee(\"mohamed\", 5500, 4, 'm@iti.com')\n",
    "emp2.displayEmp()"
   ],
   "id": "f6383750a33d3d7b",
   "outputs": [],
   "execution_count": null
  },
  {
   "metadata": {},
   "cell_type": "code",
   "source": "emp2.city='cairo'",
   "id": "a130d5b9052058cb",
   "outputs": [],
   "execution_count": null
  },
  {
   "metadata": {},
   "cell_type": "code",
   "source": [
    "# count number of objects created from the class \n",
    "\n",
    "class Employee:\n",
    "    count = 0  # class variable --> property depends on class itself --> not objects \n",
    "    # all objects have the same properties \n",
    "    def __init__(self, name, salary=100, id=0, email=\"\"):\n",
    "        self.name=name  # instance variable \n",
    "        self.salary=salary\n",
    "        self.id=id\n",
    "        self.email=email\n",
    "        Employee.count+=1\n",
    "        \n",
    "    # instance method >>> its behaviour depends on current caller instance \n",
    "    def displayEmp(self): # represent current caller object \n",
    "        print(self.name, self.salary, self.id, self.email)\n"
   ],
   "id": "309d5bb1b99cd406",
   "outputs": [],
   "execution_count": null
  },
  {
   "metadata": {},
   "cell_type": "code",
   "source": [
    "emp = Employee('ahmed', 1000,1,'ahmed@gmail.com')\n",
    "emp2=Employee(\"mohamed\", 5500, 4, 'm@iti.com')\n"
   ],
   "id": "5bcd3a28ef8a481d",
   "outputs": [],
   "execution_count": null
  },
  {
   "metadata": {},
   "cell_type": "code",
   "source": "print(emp2.count)  # object emp2 --> is from type Employee --> it can access the count property --> (class variable))",
   "id": "c6618de5a96ae403",
   "outputs": [],
   "execution_count": null
  },
  {
   "metadata": {},
   "cell_type": "code",
   "source": "print(emp.name)",
   "id": "e19df112ead58732",
   "outputs": [],
   "execution_count": null
  },
  {
   "metadata": {},
   "cell_type": "code",
   "source": [
    "# you can call class Variable using Class name \n",
    "print(Employee.count)"
   ],
   "id": "64d10398e8c10fcd",
   "outputs": [],
   "execution_count": null
  },
  {
   "metadata": {},
   "cell_type": "code",
   "source": [
    "class Car:\n",
    "    model = 'KIA'\n",
    "    count=0\n",
    "    def __init__(self, color, year=2024):\n",
    "        self.color = color\n",
    "        self.year = year\n",
    "        Car.count+=1\n",
    "        \n",
    "# mycar = Car('red')\n",
    "# print(mycar.model) # model property from class Car -0> class variable"
   ],
   "id": "e63cb8bbf234ca2f",
   "outputs": [],
   "execution_count": null
  },
  {
   "metadata": {},
   "cell_type": "code",
   "source": "print(Car.model)",
   "id": "31409238e3216e44",
   "outputs": [],
   "execution_count": null
  },
  {
   "metadata": {},
   "cell_type": "code",
   "source": "print(Car.count)",
   "id": "c556ec3294c23e94",
   "outputs": [],
   "execution_count": null
  },
  {
   "metadata": {},
   "cell_type": "code",
   "source": [
    "\n",
    "class Employee:\n",
    "    count = 0  \n",
    "    def __init__(self, name, salary, id, email):\n",
    "        self.name=name  # instance variable \n",
    "        self.salary=salary\n",
    "        self.id=id\n",
    "        self.email=email\n",
    "        Employee.count+=1\n",
    "        \n",
    "    def displayEmp(self): # represent current caller object \n",
    "        print(self.name, self.salary, self.id, self.email)\n",
    "        \n",
    "    \n",
    "    @classmethod # represent class behaviour \n",
    "    def createDefault(cls):\n",
    "        print(cls) # represent current class ???\n",
    "        return Employee(\"\",0, None, '')   # return new object \n",
    "\n",
    "        \n"
   ],
   "id": "2daeecb3d76343c8",
   "outputs": [],
   "execution_count": null
  },
  {
   "metadata": {},
   "cell_type": "code",
   "source": [
    "e = Employee.createDefault()\n",
    "print(e)"
   ],
   "id": "1ae6b84f850e0822",
   "outputs": [],
   "execution_count": null
  },
  {
   "metadata": {},
   "cell_type": "code",
   "source": [
    "class Employee:\n",
    "    count = 0   # class variable\n",
    "    def __init__(self, name, salary, id, email):\n",
    "        self.name=name  # instance variable \n",
    "        self.salary=salary\n",
    "        self.id=id\n",
    "        self.email=email\n",
    "        Employee.count+=1\n",
    "        \n",
    "    def displayEmp(self): # represent current caller object \n",
    "        print(self.name, self.salary, self.id, self.email)\n",
    "        \n",
    "    @classmethod\n",
    "    def get_emp_count(cls):\n",
    "        return cls.count    \n",
    "    \n",
    "    @classmethod # represent class behaviour \n",
    "    def createDefault(cls):\n",
    "        print(cls) # represent current class ???\n",
    "        return Employee(\"\",0, None, '')   # return new object "
   ],
   "id": "95b2fd4e8223bfa1",
   "outputs": [],
   "execution_count": null
  },
  {
   "metadata": {},
   "cell_type": "code",
   "source": [
    "print(Employee.get_emp_count())\n",
    "print(Employee.count)"
   ],
   "id": "254f2ee735b17bd6",
   "outputs": [],
   "execution_count": null
  },
  {
   "metadata": {},
   "cell_type": "code",
   "source": [
    "# class method -==-=> as object factory --> any operation --> create object---> class method --> works on functionality --> related to the class\n",
    "# class method \n",
    "\n",
    "emp= Employee('ahmed', 1000,1,'ahmed@gmail.com')"
   ],
   "id": "8e5379cbeddbe7a6",
   "outputs": [],
   "execution_count": null
  },
  {
   "metadata": {},
   "cell_type": "code",
   "source": "emp2= Employee.createDefault()",
   "id": "21b8e3c7086be3d4",
   "outputs": [],
   "execution_count": null
  },
  {
   "metadata": {},
   "cell_type": "code",
   "source": [
    "### class numbers\n",
    "\n",
    "class Num:\n",
    "    def __init__(self, val):\n",
    "        self.val = val\n",
    "        \n",
    "\n",
    "n1  = Num(10)\n",
    "print(n1)"
   ],
   "id": "b3c372359127ed9e",
   "outputs": [],
   "execution_count": null
  },
  {
   "metadata": {},
   "cell_type": "code",
   "source": "n2 = Num(20)",
   "id": "71cb495e55f95d5c",
   "outputs": [],
   "execution_count": null
  },
  {
   "metadata": {},
   "cell_type": "code",
   "source": "print(n2)",
   "id": "768bee1d552aff8e",
   "outputs": [],
   "execution_count": null
  },
  {
   "metadata": {
    "jupyter": {
     "is_executing": true
    }
   },
   "cell_type": "code",
   "source": [
    "### Num.add(num1, num2) # new number ???\n",
    "\n",
    "\n",
    "class Num:\n",
    "    \n",
    "    def __init__(self, val=0):\n",
    "        print(\"constructor is called \")\n",
    "        self.val = val\n",
    "        \n",
    "        \n",
    "    # define new behaviour for the class --> add 2 objects from the type Num ==-> create new object \n",
    "    @classmethod \n",
    "    def add(cls, obj1, obj2):\n",
    "        val = obj1.val + obj2.val\n",
    "        return Num(val)\n",
    "    \n",
    "\n",
    "n1 = Num(10)\n",
    "n2 = Num(20)\n",
    "n3 = Num.add(n1, n2)\n",
    "print(n3)"
   ],
   "id": "728fe0be806fe2b3",
   "outputs": [],
   "execution_count": null
  },
  {
   "metadata": {},
   "cell_type": "code",
   "source": [
    "################# static methods  #################################33\n",
    "class Employee:\n",
    "    def __init__(self, name, email,salary):\n",
    "        self.name=name\n",
    "        self.email=email\n",
    "        self.salary=salary\n",
    "    \n",
    "    def displayEmp(self): \n",
    "        print(self.name, self.salary, self.email)\n",
    "\n",
    "emp  = Employee('ahmed', 'ahmed@gmail.com', 10000)\n",
    "print(emp.salary)  # 10000\n",
    "emp.displayEmp()  # ahmed ahmed@gmail.com 10000\n"
   ],
   "id": "1723cd12985e4cef",
   "outputs": [],
   "execution_count": null
  },
  {
   "metadata": {},
   "cell_type": "code",
   "source": "print(\"iti\")",
   "id": "675ee21ca398bc7e",
   "outputs": [],
   "execution_count": null
  },
  {
   "metadata": {},
   "cell_type": "code",
   "source": "",
   "id": "104ed6fe73798ec",
   "outputs": [],
   "execution_count": null
  }
 ],
 "metadata": {
  "kernelspec": {
   "display_name": "Python 3",
   "language": "python",
   "name": "python3"
  },
  "language_info": {
   "codemirror_mode": {
    "name": "ipython",
    "version": 2
   },
   "file_extension": ".py",
   "mimetype": "text/x-python",
   "name": "python",
   "nbconvert_exporter": "python",
   "pygments_lexer": "ipython2",
   "version": "2.7.6"
  }
 },
 "nbformat": 4,
 "nbformat_minor": 5
}
