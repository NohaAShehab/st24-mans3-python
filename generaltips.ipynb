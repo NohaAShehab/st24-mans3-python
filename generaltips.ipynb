{
 "cells": [
  {
   "cell_type": "code",
   "id": "initial_id",
   "metadata": {
    "collapsed": true,
    "ExecuteTime": {
     "end_time": "2024-10-02T08:13:21.352154Z",
     "start_time": "2024-10-02T08:13:21.345879Z"
    }
   },
   "source": [
    "res = lambda  x : x + 4\n",
    "print(res) # anonymous function"
   ],
   "outputs": [
    {
     "name": "stdout",
     "output_type": "stream",
     "text": [
      "<function <lambda> at 0x703413535120>\n"
     ]
    }
   ],
   "execution_count": 1
  },
  {
   "metadata": {
    "ExecuteTime": {
     "end_time": "2024-10-02T08:13:50.520243Z",
     "start_time": "2024-10-02T08:13:50.506817Z"
    }
   },
   "cell_type": "code",
   "source": "res(10)",
   "id": "70ba9c480ad5a996",
   "outputs": [
    {
     "data": {
      "text/plain": [
       "14"
      ]
     },
     "execution_count": 2,
     "metadata": {},
     "output_type": "execute_result"
    }
   ],
   "execution_count": 2
  },
  {
   "metadata": {
    "ExecuteTime": {
     "end_time": "2024-10-02T08:14:18.483487Z",
     "start_time": "2024-10-02T08:14:18.475633Z"
    }
   },
   "cell_type": "code",
   "source": "print(res(6))",
   "id": "90ed505c5bf6c9a5",
   "outputs": [
    {
     "name": "stdout",
     "output_type": "stream",
     "text": [
      "10\n"
     ]
    }
   ],
   "execution_count": 3
  },
  {
   "metadata": {},
   "cell_type": "markdown",
   "source": "# Map",
   "id": "8713967a407739c7"
  },
  {
   "metadata": {
    "ExecuteTime": {
     "end_time": "2024-10-02T08:14:57.206789Z",
     "start_time": "2024-10-02T08:14:57.200144Z"
    }
   },
   "cell_type": "code",
   "source": [
    "rr = [4,5,6,21,24,4,3,44]\n",
    "print(rr)"
   ],
   "id": "91ff0571adbc0cc7",
   "outputs": [
    {
     "name": "stdout",
     "output_type": "stream",
     "text": [
      "[4, 5, 6, 21, 24, 4, 3, 44]\n"
     ]
    }
   ],
   "execution_count": 4
  },
  {
   "metadata": {
    "ExecuteTime": {
     "end_time": "2024-10-02T08:15:55.306705Z",
     "start_time": "2024-10-02T08:15:55.290725Z"
    }
   },
   "cell_type": "code",
   "source": [
    "def mulby5(item):\n",
    "    return item * 5\n",
    "\n",
    "newl = []\n",
    "for i in rr:\n",
    "    newl.append(mulby5(i))\n",
    "    \n",
    "print(newl)"
   ],
   "id": "37184a904ca4df1e",
   "outputs": [
    {
     "name": "stdout",
     "output_type": "stream",
     "text": [
      "[20, 25, 30, 105, 120, 20, 15, 220]\n"
     ]
    }
   ],
   "execution_count": 5
  },
  {
   "metadata": {
    "ExecuteTime": {
     "end_time": "2024-10-02T08:16:44.224072Z",
     "start_time": "2024-10-02T08:16:44.216872Z"
    }
   },
   "cell_type": "code",
   "source": [
    "newl2 = map(lambda num: num*5, rr)\n",
    "print(newl2)"
   ],
   "id": "571c06fd1229b330",
   "outputs": [
    {
     "name": "stdout",
     "output_type": "stream",
     "text": [
      "<map object at 0x70341244f520>\n"
     ]
    }
   ],
   "execution_count": 6
  },
  {
   "metadata": {
    "ExecuteTime": {
     "end_time": "2024-10-02T08:16:59.441687Z",
     "start_time": "2024-10-02T08:16:59.433262Z"
    }
   },
   "cell_type": "code",
   "source": "print(list(newl2))",
   "id": "7c97599ad670f145",
   "outputs": [
    {
     "name": "stdout",
     "output_type": "stream",
     "text": [
      "[20, 25, 30, 105, 120, 20, 15, 220]\n"
     ]
    }
   ],
   "execution_count": 7
  },
  {
   "metadata": {},
   "cell_type": "markdown",
   "source": "# filter --> get specific items",
   "id": "c5b0af46b719ab02"
  },
  {
   "metadata": {
    "ExecuteTime": {
     "end_time": "2024-10-02T08:19:07.322991Z",
     "start_time": "2024-10-02T08:19:07.317294Z"
    }
   },
   "cell_type": "code",
   "source": [
    "items = [4,5,6,23,32,323,22,55,256,63,11,33]\n",
    "\n",
    "odd_nums = filter(lambda num: num % 2 != 0, items)\n",
    "print(odd_nums)"
   ],
   "id": "70029bb119700bed",
   "outputs": [
    {
     "name": "stdout",
     "output_type": "stream",
     "text": [
      "<filter object at 0x70341244ebc0>\n"
     ]
    }
   ],
   "execution_count": 8
  },
  {
   "metadata": {
    "ExecuteTime": {
     "end_time": "2024-10-02T08:19:12.567430Z",
     "start_time": "2024-10-02T08:19:12.561842Z"
    }
   },
   "cell_type": "code",
   "source": "print(list(odd_nums))",
   "id": "2f0db807d661d984",
   "outputs": [
    {
     "name": "stdout",
     "output_type": "stream",
     "text": [
      "[5, 23, 323, 55, 63, 11, 33]\n"
     ]
    }
   ],
   "execution_count": 9
  },
  {
   "metadata": {},
   "cell_type": "markdown",
   "source": "# iterator , generator ",
   "id": "d5851e469ac9d74c"
  },
  {
   "metadata": {
    "ExecuteTime": {
     "end_time": "2024-10-02T08:27:52.221015Z",
     "start_time": "2024-10-02T08:27:52.202810Z"
    }
   },
   "cell_type": "code",
   "source": [
    "fruits = ['kiwi', 'apple', 'orange', 'banana', 'strawberry']\n",
    "print(fruits)"
   ],
   "id": "506266358d3ec5dd",
   "outputs": [
    {
     "name": "stdout",
     "output_type": "stream",
     "text": [
      "['kiwi', 'apple', 'orange', 'banana', 'strawberry']\n"
     ]
    }
   ],
   "execution_count": 10
  },
  {
   "metadata": {
    "ExecuteTime": {
     "end_time": "2024-10-02T08:28:29.157790Z",
     "start_time": "2024-10-02T08:28:29.154472Z"
    }
   },
   "cell_type": "code",
   "source": [
    "# generate iterator--> on list ?\n",
    "fruits_iter= iter(fruits)\n",
    "print(fruits_iter)"
   ],
   "id": "24e00910be70352a",
   "outputs": [
    {
     "name": "stdout",
     "output_type": "stream",
     "text": [
      "<list_iterator object at 0x70341244dc90>\n"
     ]
    }
   ],
   "execution_count": 11
  },
  {
   "metadata": {
    "ExecuteTime": {
     "end_time": "2024-10-02T08:28:40.887363Z",
     "start_time": "2024-10-02T08:28:40.883151Z"
    }
   },
   "cell_type": "code",
   "source": "print(next(fruits_iter))",
   "id": "20add10949d107b1",
   "outputs": [
    {
     "name": "stdout",
     "output_type": "stream",
     "text": [
      "kiwi\n"
     ]
    }
   ],
   "execution_count": 12
  },
  {
   "metadata": {
    "ExecuteTime": {
     "end_time": "2024-10-02T08:28:57.568836Z",
     "start_time": "2024-10-02T08:28:57.551219Z"
    }
   },
   "cell_type": "code",
   "source": [
    "print(next(fruits_iter))\n",
    "print(next(fruits_iter))\n",
    "print(next(fruits_iter))\n",
    "print(next(fruits_iter))\n"
   ],
   "id": "e543c292f3f188d0",
   "outputs": [
    {
     "name": "stdout",
     "output_type": "stream",
     "text": [
      "apple\n",
      "orange\n",
      "banana\n",
      "strawberry\n"
     ]
    }
   ],
   "execution_count": 13
  },
  {
   "metadata": {
    "ExecuteTime": {
     "end_time": "2024-10-02T08:29:06.853162Z",
     "start_time": "2024-10-02T08:29:06.664247Z"
    }
   },
   "cell_type": "code",
   "source": "print(next(fruits_iter))\n",
   "id": "b07040c84335c66",
   "outputs": [
    {
     "ename": "StopIteration",
     "evalue": "",
     "output_type": "error",
     "traceback": [
      "\u001B[0;31m---------------------------------------------------------------------------\u001B[0m",
      "\u001B[0;31mStopIteration\u001B[0m                             Traceback (most recent call last)",
      "Cell \u001B[0;32mIn[14], line 1\u001B[0m\n\u001B[0;32m----> 1\u001B[0m \u001B[38;5;28mprint\u001B[39m(\u001B[38;5;28;43mnext\u001B[39;49m\u001B[43m(\u001B[49m\u001B[43mfruits_iter\u001B[49m\u001B[43m)\u001B[49m)\n",
      "\u001B[0;31mStopIteration\u001B[0m: "
     ]
    }
   ],
   "execution_count": 14
  },
  {
   "metadata": {
    "ExecuteTime": {
     "end_time": "2024-10-02T08:29:57.940776Z",
     "start_time": "2024-10-02T08:29:57.937555Z"
    }
   },
   "cell_type": "code",
   "source": [
    "for c in \"iti\": # iterable \n",
    "    print(\"c\")"
   ],
   "id": "77001181a1fd21cb",
   "outputs": [
    {
     "name": "stdout",
     "output_type": "stream",
     "text": [
      "c\n",
      "c\n",
      "c\n"
     ]
    }
   ],
   "execution_count": 15
  },
  {
   "metadata": {},
   "cell_type": "markdown",
   "source": "# generator ",
   "id": "2eee7a7bfc9ad938"
  },
  {
   "metadata": {
    "ExecuteTime": {
     "end_time": "2024-10-02T08:31:22.665811Z",
     "start_time": "2024-10-02T08:31:22.653472Z"
    }
   },
   "cell_type": "code",
   "source": [
    "def generate_num(stopnumber):\n",
    "    nums = []\n",
    "    for i in range(stopnumber):\n",
    "        nums.append(i)\n",
    "    \n",
    "    return nums "
   ],
   "id": "39e583719f767997",
   "outputs": [],
   "execution_count": 16
  },
  {
   "metadata": {
    "ExecuteTime": {
     "end_time": "2024-10-02T08:31:49.352931Z",
     "start_time": "2024-10-02T08:31:49.349658Z"
    }
   },
   "cell_type": "code",
   "source": [
    "r = generate_num(40)\n",
    "print(r)"
   ],
   "id": "52b29c18c15d3e6a",
   "outputs": [
    {
     "name": "stdout",
     "output_type": "stream",
     "text": [
      "[0, 1, 2, 3, 4, 5, 6, 7, 8, 9, 10, 11, 12, 13, 14, 15, 16, 17, 18, 19, 20, 21, 22, 23, 24, 25, 26, 27, 28, 29, 30, 31, 32, 33, 34, 35, 36, 37, 38, 39]\n"
     ]
    }
   ],
   "execution_count": 18
  },
  {
   "metadata": {
    "ExecuteTime": {
     "end_time": "2024-10-02T08:32:59.569775Z",
     "start_time": "2024-10-02T08:32:59.563686Z"
    }
   },
   "cell_type": "code",
   "source": [
    "def generate_num(stopnumber):\n",
    "    \n",
    "    for i in range(stopnumber):\n",
    "        yield i # create value \n",
    "        \n",
    "\n",
    "rr = generate_num(40)\n",
    "print(rr)\n",
    "    \n",
    "  "
   ],
   "id": "c68f42d3d5f96d3a",
   "outputs": [
    {
     "name": "stdout",
     "output_type": "stream",
     "text": [
      "<generator object generate_num at 0x703411e741e0>\n"
     ]
    }
   ],
   "execution_count": 19
  },
  {
   "metadata": {
    "ExecuteTime": {
     "end_time": "2024-10-02T08:33:14.623115Z",
     "start_time": "2024-10-02T08:33:14.618977Z"
    }
   },
   "cell_type": "code",
   "source": "print(next(rr))",
   "id": "ffcd25dc5a32d720",
   "outputs": [
    {
     "name": "stdout",
     "output_type": "stream",
     "text": [
      "0\n"
     ]
    }
   ],
   "execution_count": 20
  },
  {
   "metadata": {
    "ExecuteTime": {
     "end_time": "2024-10-02T08:33:19.058388Z",
     "start_time": "2024-10-02T08:33:19.051819Z"
    }
   },
   "cell_type": "code",
   "source": "print(next(rr))",
   "id": "d0bf13a08a2bffd9",
   "outputs": [
    {
     "name": "stdout",
     "output_type": "stream",
     "text": [
      "1\n"
     ]
    }
   ],
   "execution_count": 21
  },
  {
   "metadata": {
    "ExecuteTime": {
     "end_time": "2024-10-02T08:33:27.061947Z",
     "start_time": "2024-10-02T08:33:27.049618Z"
    }
   },
   "cell_type": "code",
   "source": "print(next(rr))",
   "id": "92b5c88555441f80",
   "outputs": [
    {
     "name": "stdout",
     "output_type": "stream",
     "text": [
      "2\n"
     ]
    }
   ],
   "execution_count": 22
  },
  {
   "metadata": {
    "ExecuteTime": {
     "end_time": "2024-10-02T08:33:30.036704Z",
     "start_time": "2024-10-02T08:33:30.033102Z"
    }
   },
   "cell_type": "code",
   "source": "print(next(rr))",
   "id": "70604c6c515d5fdd",
   "outputs": [
    {
     "name": "stdout",
     "output_type": "stream",
     "text": [
      "3\n"
     ]
    }
   ],
   "execution_count": 23
  },
  {
   "metadata": {},
   "cell_type": "code",
   "outputs": [],
   "execution_count": null,
   "source": "# generate value once it needed.",
   "id": "964558696c801750"
  }
 ],
 "metadata": {
  "kernelspec": {
   "display_name": "Python 3",
   "language": "python",
   "name": "python3"
  },
  "language_info": {
   "codemirror_mode": {
    "name": "ipython",
    "version": 2
   },
   "file_extension": ".py",
   "mimetype": "text/x-python",
   "name": "python",
   "nbconvert_exporter": "python",
   "pygments_lexer": "ipython2",
   "version": "2.7.6"
  }
 },
 "nbformat": 4,
 "nbformat_minor": 5
}
