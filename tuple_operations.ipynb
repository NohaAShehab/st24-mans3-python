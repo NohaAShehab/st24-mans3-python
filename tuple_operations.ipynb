{
 "cells": [
  {
   "metadata": {},
   "cell_type": "markdown",
   "source": [
    "# tuple is immutable datatype =--> can hold different values from different data types\n",
    "once created cannot be changed. "
   ],
   "id": "d42f29e19da92a6c"
  },
  {
   "metadata": {},
   "cell_type": "markdown",
   "source": "to define tuple",
   "id": "6c598dcbba968ed2"
  },
  {
   "cell_type": "code",
   "id": "initial_id",
   "metadata": {
    "collapsed": true,
    "ExecuteTime": {
     "end_time": "2024-09-29T06:31:21.729883Z",
     "start_time": "2024-09-29T06:31:21.719335Z"
    }
   },
   "source": [
    "t = ()\n",
    "myt = tuple()\n",
    "print(type(t), type(myt))"
   ],
   "outputs": [
    {
     "name": "stdout",
     "output_type": "stream",
     "text": [
      "<class 'tuple'> <class 'tuple'>\n"
     ]
    }
   ],
   "execution_count": 1
  },
  {
   "metadata": {},
   "cell_type": "markdown",
   "source": "# tuple can hold differet datatypes --> even a list",
   "id": "15c206fac661149d"
  },
  {
   "metadata": {
    "ExecuteTime": {
     "end_time": "2024-09-29T06:31:56.978934Z",
     "start_time": "2024-09-29T06:31:56.974121Z"
    }
   },
   "cell_type": "code",
   "source": [
    "myt = (3,'iti', 34.344, 'iti', True, ['python', 'sql'],None, ('iti', 'Data engineering'))\n",
    "print(myt)"
   ],
   "id": "df1de32bf618265d",
   "outputs": [
    {
     "name": "stdout",
     "output_type": "stream",
     "text": [
      "(3, 'iti', 34.344, 'iti', True, ['python', 'sql'], None, ('iti', 'Data engineering'))\n"
     ]
    }
   ],
   "execution_count": 2
  },
  {
   "metadata": {},
   "cell_type": "markdown",
   "source": "get len of tuple ",
   "id": "d954f677ac88c6"
  },
  {
   "metadata": {
    "ExecuteTime": {
     "end_time": "2024-09-29T06:33:05.770350Z",
     "start_time": "2024-09-29T06:33:05.766627Z"
    }
   },
   "cell_type": "code",
   "source": "print(len(myt))",
   "id": "27c0414d88a12659",
   "outputs": [
    {
     "name": "stdout",
     "output_type": "stream",
     "text": [
      "8\n"
     ]
    }
   ],
   "execution_count": 3
  },
  {
   "metadata": {},
   "cell_type": "markdown",
   "source": "count element occcurence ",
   "id": "51e315ef98a99856"
  },
  {
   "metadata": {
    "ExecuteTime": {
     "end_time": "2024-09-29T06:33:26.331662Z",
     "start_time": "2024-09-29T06:33:26.326741Z"
    }
   },
   "cell_type": "code",
   "source": "print(myt.count('iti'))",
   "id": "e49b6da2861015ba",
   "outputs": [
    {
     "name": "stdout",
     "output_type": "stream",
     "text": [
      "2\n"
     ]
    }
   ],
   "execution_count": 4
  },
  {
   "metadata": {},
   "cell_type": "markdown",
   "source": "get index of element ?",
   "id": "51e691a0ff8ecf11"
  },
  {
   "metadata": {
    "ExecuteTime": {
     "end_time": "2024-09-29T06:34:03.756480Z",
     "start_time": "2024-09-29T06:34:03.747846Z"
    }
   },
   "cell_type": "code",
   "source": "print(myt.index('iti')) # get index of the first occurrence",
   "id": "7c7841938343e77a",
   "outputs": [
    {
     "name": "stdout",
     "output_type": "stream",
     "text": [
      "1\n"
     ]
    }
   ],
   "execution_count": 5
  },
  {
   "metadata": {},
   "cell_type": "markdown",
   "source": "loop over elements ?",
   "id": "2a27416e3607f31"
  },
  {
   "metadata": {
    "ExecuteTime": {
     "end_time": "2024-09-29T06:34:22.004786Z",
     "start_time": "2024-09-29T06:34:22.001103Z"
    }
   },
   "cell_type": "code",
   "source": [
    "for element in myt:\n",
    "    print(f\"element={element}\")"
   ],
   "id": "806c31085c97ee11",
   "outputs": [
    {
     "name": "stdout",
     "output_type": "stream",
     "text": [
      "element=3\n",
      "element=iti\n",
      "element=34.344\n",
      "element=iti\n",
      "element=True\n",
      "element=['python', 'sql']\n",
      "element=None\n",
      "element=('iti', 'Data engineering')\n"
     ]
    }
   ],
   "execution_count": 6
  },
  {
   "metadata": {},
   "cell_type": "markdown",
   "source": "access tuple items using index ",
   "id": "cbe5ef4b4d3fb0d4"
  },
  {
   "metadata": {
    "ExecuteTime": {
     "end_time": "2024-09-29T06:34:36.825494Z",
     "start_time": "2024-09-29T06:34:36.820646Z"
    }
   },
   "cell_type": "code",
   "source": "print(myt[4])",
   "id": "352028557eb67906",
   "outputs": [
    {
     "name": "stdout",
     "output_type": "stream",
     "text": [
      "True\n"
     ]
    }
   ],
   "execution_count": 7
  },
  {
   "metadata": {},
   "cell_type": "markdown",
   "source": "slicing the tuple ",
   "id": "f94fd9d0122bdde3"
  },
  {
   "metadata": {
    "ExecuteTime": {
     "end_time": "2024-09-29T06:34:54.327830Z",
     "start_time": "2024-09-29T06:34:54.324507Z"
    }
   },
   "cell_type": "code",
   "source": "print(myt[2:])",
   "id": "5fb9d8dc2ea20da3",
   "outputs": [
    {
     "name": "stdout",
     "output_type": "stream",
     "text": [
      "(34.344, 'iti', True, ['python', 'sql'], None, ('iti', 'Data engineering'))\n"
     ]
    }
   ],
   "execution_count": 8
  },
  {
   "metadata": {},
   "cell_type": "markdown",
   "source": "get sql ?? ",
   "id": "fc5e3f99f06ab873"
  },
  {
   "metadata": {
    "ExecuteTime": {
     "end_time": "2024-09-29T06:35:49.460089Z",
     "start_time": "2024-09-29T06:35:49.456152Z"
    }
   },
   "cell_type": "code",
   "source": [
    "print(myt[5][1])\n",
    "# myt[5] ==> is a list and you can apply all the rules you worked with before \n",
    "myt[5].append('data')\n",
    "print(myt)"
   ],
   "id": "d4d530eede2a3142",
   "outputs": [
    {
     "name": "stdout",
     "output_type": "stream",
     "text": [
      "sql\n",
      "(3, 'iti', 34.344, 'iti', True, ['python', 'sql', 'data'], None, ('iti', 'Data engineering'))\n"
     ]
    }
   ],
   "execution_count": 10
  },
  {
   "metadata": {},
   "cell_type": "markdown",
   "source": "tuple is immutable datatype ",
   "id": "7a5acd9e7fb617ae"
  },
  {
   "metadata": {
    "ExecuteTime": {
     "end_time": "2024-09-29T06:36:28.132244Z",
     "start_time": "2024-09-29T06:36:27.932733Z"
    }
   },
   "cell_type": "code",
   "source": [
    "print(myt)\n",
    "myt[2]='updated'\n",
    "print(myt)"
   ],
   "id": "8deaa9b0dda24000",
   "outputs": [
    {
     "name": "stdout",
     "output_type": "stream",
     "text": [
      "(3, 'iti', 34.344, 'iti', True, ['python', 'sql', 'data'], None, ('iti', 'Data engineering'))\n"
     ]
    },
    {
     "ename": "TypeError",
     "evalue": "'tuple' object does not support item assignment",
     "output_type": "error",
     "traceback": [
      "\u001B[0;31m---------------------------------------------------------------------------\u001B[0m",
      "\u001B[0;31mTypeError\u001B[0m                                 Traceback (most recent call last)",
      "Cell \u001B[0;32mIn[11], line 2\u001B[0m\n\u001B[1;32m      1\u001B[0m \u001B[38;5;28mprint\u001B[39m(myt)\n\u001B[0;32m----> 2\u001B[0m \u001B[43mmyt\u001B[49m\u001B[43m[\u001B[49m\u001B[38;5;241;43m2\u001B[39;49m\u001B[43m]\u001B[49m\u001B[38;5;241m=\u001B[39m\u001B[38;5;124m'\u001B[39m\u001B[38;5;124mupdated\u001B[39m\u001B[38;5;124m'\u001B[39m\n\u001B[1;32m      3\u001B[0m \u001B[38;5;28mprint\u001B[39m(myt)\n",
      "\u001B[0;31mTypeError\u001B[0m: 'tuple' object does not support item assignment"
     ]
    }
   ],
   "execution_count": 11
  },
  {
   "metadata": {},
   "cell_type": "markdown",
   "source": "check element exists or not in tuple?",
   "id": "3aec6b86659bfcfe"
  },
  {
   "metadata": {
    "ExecuteTime": {
     "end_time": "2024-09-29T06:36:52.012820Z",
     "start_time": "2024-09-29T06:36:52.008669Z"
    }
   },
   "cell_type": "code",
   "source": "print(\"iti\" in myt)",
   "id": "d3f0e095e7a3196c",
   "outputs": [
    {
     "name": "stdout",
     "output_type": "stream",
     "text": [
      "True\n"
     ]
    }
   ],
   "execution_count": 12
  },
  {
   "metadata": {},
   "cell_type": "markdown",
   "source": "concat tuple ?",
   "id": "7cc63ee3669a8ab4"
  },
  {
   "metadata": {
    "ExecuteTime": {
     "end_time": "2024-09-29T06:37:20.815492Z",
     "start_time": "2024-09-29T06:37:20.812046Z"
    }
   },
   "cell_type": "code",
   "source": [
    "t1 = ('python', 'sql', 'nosql', 'datawherehouse')\n",
    "t2 = ('presentation skills', 'communication skills')\n",
    "t3 = t1  + t2  # return new tuple\n",
    "print(t3)"
   ],
   "id": "2d1dd8baa402f3e8",
   "outputs": [
    {
     "name": "stdout",
     "output_type": "stream",
     "text": [
      "('python', 'sql', 'nosql', 'datawherehouse', 'presentation skills', 'communication skills')\n"
     ]
    }
   ],
   "execution_count": 13
  },
  {
   "metadata": {},
   "cell_type": "markdown",
   "source": "join tuple of strings into one string ? ",
   "id": "a10c6eaf8f305dce"
  },
  {
   "metadata": {
    "ExecuteTime": {
     "end_time": "2024-09-29T06:37:53.894259Z",
     "start_time": "2024-09-29T06:37:53.889129Z"
    }
   },
   "cell_type": "code",
   "source": [
    "students = ('ahmed', 'mohamed', 'ali', 'sara') # contains strings --> \n",
    "newstr = '_'.join(students) # iterable \n",
    "print(newstr, type(newstr))"
   ],
   "id": "7178fd6542f2bdcf",
   "outputs": [
    {
     "name": "stdout",
     "output_type": "stream",
     "text": [
      "ahmed_mohamed_ali_sara <class 'str'>\n"
     ]
    }
   ],
   "execution_count": 14
  },
  {
   "metadata": {},
   "cell_type": "markdown",
   "source": [
    "# min-max\n",
    "tuple items must be from the same type  \n"
   ],
   "id": "1d2c165505469b50"
  },
  {
   "metadata": {
    "ExecuteTime": {
     "end_time": "2024-09-29T06:38:12.582140Z",
     "start_time": "2024-09-29T06:38:12.576987Z"
    }
   },
   "cell_type": "code",
   "source": "print(min(t1))",
   "id": "8bda332e9e41f112",
   "outputs": [
    {
     "name": "stdout",
     "output_type": "stream",
     "text": [
      "datawherehouse\n"
     ]
    }
   ],
   "execution_count": 15
  },
  {
   "metadata": {
    "ExecuteTime": {
     "end_time": "2024-09-29T06:38:15.547871Z",
     "start_time": "2024-09-29T06:38:15.529790Z"
    }
   },
   "cell_type": "code",
   "source": "print(max(myt))",
   "id": "aa158e7f480dae06",
   "outputs": [
    {
     "ename": "TypeError",
     "evalue": "'>' not supported between instances of 'str' and 'int'",
     "output_type": "error",
     "traceback": [
      "\u001B[0;31m---------------------------------------------------------------------------\u001B[0m",
      "\u001B[0;31mTypeError\u001B[0m                                 Traceback (most recent call last)",
      "Cell \u001B[0;32mIn[16], line 1\u001B[0m\n\u001B[0;32m----> 1\u001B[0m \u001B[38;5;28mprint\u001B[39m(\u001B[38;5;28;43mmax\u001B[39;49m\u001B[43m(\u001B[49m\u001B[43mmyt\u001B[49m\u001B[43m)\u001B[49m)\n",
      "\u001B[0;31mTypeError\u001B[0m: '>' not supported between instances of 'str' and 'int'"
     ]
    }
   ],
   "execution_count": 16
  },
  {
   "metadata": {},
   "cell_type": "markdown",
   "source": "# enumerate",
   "id": "5867ad6b366d38d3"
  },
  {
   "metadata": {},
   "cell_type": "code",
   "source": "print(myt)",
   "id": "51ac5492c625c737",
   "outputs": [],
   "execution_count": null
  },
  {
   "metadata": {
    "ExecuteTime": {
     "end_time": "2024-09-29T06:38:40.775020Z",
     "start_time": "2024-09-29T06:38:40.770567Z"
    }
   },
   "cell_type": "code",
   "source": [
    "myt_enum = enumerate(myt)\n",
    "print(myt_enum)  # enumerate object --> generate index for each item"
   ],
   "id": "2e7b0c3975ac3510",
   "outputs": [
    {
     "name": "stdout",
     "output_type": "stream",
     "text": [
      "<enumerate object at 0x745ee2029210>\n"
     ]
    }
   ],
   "execution_count": 17
  },
  {
   "metadata": {
    "ExecuteTime": {
     "end_time": "2024-09-29T06:38:48.858158Z",
     "start_time": "2024-09-29T06:38:48.853574Z"
    }
   },
   "cell_type": "code",
   "source": [
    "for index , item in myt_enum:\n",
    "    print(f\"index= {index}, item={item}\")"
   ],
   "id": "85d3979bba9d5ea5",
   "outputs": [
    {
     "name": "stdout",
     "output_type": "stream",
     "text": [
      "index= 0, item=3\n",
      "index= 1, item=iti\n",
      "index= 2, item=34.344\n",
      "index= 3, item=iti\n",
      "index= 4, item=True\n",
      "index= 5, item=['python', 'sql', 'data']\n",
      "index= 6, item=None\n",
      "index= 7, item=('iti', 'Data engineering')\n"
     ]
    }
   ],
   "execution_count": 18
  },
  {
   "metadata": {},
   "cell_type": "markdown",
   "source": "cast string to tuple ",
   "id": "4ed3a3781c2df0fd"
  },
  {
   "metadata": {
    "ExecuteTime": {
     "end_time": "2024-09-29T06:39:44.885161Z",
     "start_time": "2024-09-29T06:39:44.881364Z"
    }
   },
   "cell_type": "code",
   "source": [
    "message= 'hello world'\n",
    "print(tuple(message))"
   ],
   "id": "67ba6ecb995d9ca7",
   "outputs": [
    {
     "name": "stdout",
     "output_type": "stream",
     "text": [
      "('h', 'e', 'l', 'l', 'o', ' ', 'w', 'o', 'r', 'l', 'd')\n"
     ]
    }
   ],
   "execution_count": 19
  },
  {
   "metadata": {
    "ExecuteTime": {
     "end_time": "2024-09-29T06:41:19.500724Z",
     "start_time": "2024-09-29T06:41:19.492954Z"
    }
   },
   "cell_type": "code",
   "source": "print('_'.join(\"noha\"))\n",
   "id": "e5a2503a23517447",
   "outputs": [
    {
     "name": "stdout",
     "output_type": "stream",
     "text": [
      "n_o_h_a\n"
     ]
    }
   ],
   "execution_count": 20
  },
  {
   "metadata": {},
   "cell_type": "markdown",
   "source": "check this ",
   "id": "31ea2d8b687db713"
  },
  {
   "metadata": {
    "ExecuteTime": {
     "end_time": "2024-09-29T06:42:06.290514Z",
     "start_time": "2024-09-29T06:42:06.286766Z"
    }
   },
   "cell_type": "code",
   "source": [
    "students = ('noha')\n",
    "\n",
    "print(type(students))"
   ],
   "id": "8de16c5621790e2f",
   "outputs": [
    {
     "name": "stdout",
     "output_type": "stream",
     "text": [
      "<class 'str'>\n"
     ]
    }
   ],
   "execution_count": 21
  },
  {
   "metadata": {},
   "cell_type": "markdown",
   "source": "# tuple of one item",
   "id": "632abe0cada03bf1"
  },
  {
   "metadata": {
    "ExecuteTime": {
     "end_time": "2024-09-29T06:42:44.348939Z",
     "start_time": "2024-09-29T06:42:44.344183Z"
    }
   },
   "cell_type": "code",
   "source": [
    "students = ('noha',)\n",
    "print(type(students))\n"
   ],
   "id": "5a5b94cd880b651a",
   "outputs": [
    {
     "name": "stdout",
     "output_type": "stream",
     "text": [
      "<class 'tuple'>\n"
     ]
    }
   ],
   "execution_count": 22
  },
  {
   "metadata": {},
   "cell_type": "markdown",
   "source": "# cast list to a tuple and vise versa ",
   "id": "4538ec1c813b2a08"
  },
  {
   "metadata": {
    "ExecuteTime": {
     "end_time": "2024-09-29T06:43:07.049596Z",
     "start_time": "2024-09-29T06:43:07.045721Z"
    }
   },
   "cell_type": "code",
   "source": [
    "items= ['kiwi', 'apple', 'orange', 'banana']\n",
    "print(items)"
   ],
   "id": "66389189807850cc",
   "outputs": [
    {
     "name": "stdout",
     "output_type": "stream",
     "text": [
      "['kiwi', 'apple', 'orange', 'banana']\n"
     ]
    }
   ],
   "execution_count": 23
  },
  {
   "metadata": {
    "ExecuteTime": {
     "end_time": "2024-09-29T06:43:12.299107Z",
     "start_time": "2024-09-29T06:43:12.295298Z"
    }
   },
   "cell_type": "code",
   "source": "items = tuple(items)",
   "id": "3cb81e3a9d480e1",
   "outputs": [],
   "execution_count": 24
  },
  {
   "metadata": {
    "ExecuteTime": {
     "end_time": "2024-09-29T06:43:18.597991Z",
     "start_time": "2024-09-29T06:43:18.592130Z"
    }
   },
   "cell_type": "code",
   "source": "print(items)",
   "id": "1f7730136c92d127",
   "outputs": [
    {
     "name": "stdout",
     "output_type": "stream",
     "text": [
      "('kiwi', 'apple', 'orange', 'banana')\n"
     ]
    }
   ],
   "execution_count": 25
  },
  {
   "metadata": {},
   "cell_type": "markdown",
   "source": "back to list ",
   "id": "594d0422bc1a4be9"
  },
  {
   "metadata": {
    "ExecuteTime": {
     "end_time": "2024-09-29T06:43:25.291088Z",
     "start_time": "2024-09-29T06:43:25.283530Z"
    }
   },
   "cell_type": "code",
   "source": [
    "items = list(items)\n",
    "print(items)"
   ],
   "id": "b20b7e857e18b525",
   "outputs": [
    {
     "name": "stdout",
     "output_type": "stream",
     "text": [
      "['kiwi', 'apple', 'orange', 'banana']\n"
     ]
    }
   ],
   "execution_count": 26
  },
  {
   "metadata": {},
   "cell_type": "code",
   "source": "",
   "id": "3c0b4df09e3bd0d",
   "outputs": [],
   "execution_count": null
  }
 ],
 "metadata": {
  "kernelspec": {
   "display_name": "Python 3",
   "language": "python",
   "name": "python3"
  },
  "language_info": {
   "codemirror_mode": {
    "name": "ipython",
    "version": 2
   },
   "file_extension": ".py",
   "mimetype": "text/x-python",
   "name": "python",
   "nbconvert_exporter": "python",
   "pygments_lexer": "ipython2",
   "version": "2.7.6"
  }
 },
 "nbformat": 4,
 "nbformat_minor": 5
}
